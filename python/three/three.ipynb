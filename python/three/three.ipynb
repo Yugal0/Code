{
 "cells": [
  {
   "cell_type": "code",
   "execution_count": 1,
   "metadata": {},
   "outputs": [],
   "source": [
    "from impedance.models.circuits import CustomCircuit\n",
    "from impedance.models.circuits.elements import element\n",
    "import numpy as np\n",
    "import scipy\n",
    "import matplotlib.pyplot as plt\n",
    "from impedance.visualization import plot_nyquist"
   ]
  },
  {
   "cell_type": "code",
   "execution_count": 2,
   "metadata": {},
   "outputs": [],
   "source": [
    "@element(num_params=6, units=[\"Ohm\", \"Ohm\", \"Ohm\", \"F\",\"\",\"\"],overwrite=True)\n",
    "def TLMthreeNew(p, f):\n",
    "    omega = 2 * np.pi * np.array(f)\n",
    "    R1, R2, R3, Q, delta1, delta2 = p[0], p[1], p[2],p[3], p[4], p[5]\n",
    "    delta3=1-delta1-delta2\n",
    "    k12=R2/R1\n",
    "    k13=R3/R1\n",
    "    Rion1=R1\n",
    "    Rion2=R2\n",
    "    Rion3=R3\n",
    "    CTotal1=Q\n",
    "    CTotal2=Q\n",
    "    CTotal3=Q\n",
    "    wc1=1/(Rion1*CTotal1)\n",
    "    wc2=1/(Rion2*CTotal2)\n",
    "    wc3=1/(Rion3*CTotal3)\n",
    "    S1=np.sqrt(omega*1j/wc1)\n",
    "    S2=np.sqrt(omega*1j/wc2)\n",
    "    S3=np.sqrt(omega*1j/wc3)\n",
    "    C1=1/np.tanh(delta1*S1)\n",
    "    C2=1/np.tanh(delta2*S2)\n",
    "    C3=1/np.tanh(delta3*S3)\n",
    "\n",
    "    Z=2*(R1)*((S1*S3*C1*k12**2+S2*C2*(S1*C1*C3*k13+S3)*k12+S2**2*C3*k13)/(S1*(S3*S1*k12**2+S2*C2*(S3*C1+S1*C3*k13)*k12+S2**2*C1*C3*k13)))\n",
    "    \n",
    "    return Z"
   ]
  },
  {
   "cell_type": "code",
   "execution_count": 3,
   "metadata": {},
   "outputs": [],
   "source": [
    "def add_noise(z,err):\n",
    "    #err is the relative SD from mean value\n",
    "    z_with_noise=np.random.normal(np.real(z),err*np.abs(np.real(z)))+1j*np.random.normal(np.imag(z),err*np.abs(np.imag(z)))\n",
    "    return z_with_noise"
   ]
  },
  {
   "cell_type": "code",
   "execution_count": 4,
   "metadata": {},
   "outputs": [
    {
     "name": "stderr",
     "output_type": "stream",
     "text": [
      "c:\\Users\\Gaming\\AppData\\Local\\Programs\\Python\\Python311\\Lib\\site-packages\\impedance\\models\\circuits\\circuits.py:145: UserWarning: Simulating circuit based on initial parameters\n",
      "  warnings.warn(\"Simulating circuit based on initial parameters\")\n"
     ]
    }
   ],
   "source": [
    "c0=CustomCircuit(initial_guess=[1015.6,675.1,418.3,6.61e-4,0.12,0.17],circuit='TLMthreeNew')\n",
    "freq = np.logspace(3,-3,num=50)\n",
    "z0 = c0.predict(freq)\n",
    "z1=add_noise(z0,0.05)"
   ]
  },
  {
   "cell_type": "code",
   "execution_count": 8,
   "metadata": {},
   "outputs": [
    {
     "name": "stderr",
     "output_type": "stream",
     "text": [
      "C:\\Users\\Gaming\\AppData\\Local\\Temp\\ipykernel_12280\\119171478.py:20: RuntimeWarning: overflow encountered in tanh\n",
      "  C1=1/np.tanh(delta1*S1)\n",
      "C:\\Users\\Gaming\\AppData\\Local\\Temp\\ipykernel_12280\\119171478.py:21: RuntimeWarning: overflow encountered in tanh\n",
      "  C2=1/np.tanh(delta2*S2)\n",
      "C:\\Users\\Gaming\\AppData\\Local\\Temp\\ipykernel_12280\\119171478.py:22: RuntimeWarning: overflow encountered in tanh\n",
      "  C3=1/np.tanh(delta3*S3)\n"
     ]
    }
   ],
   "source": [
    "cg=CustomCircuit(initial_guess=[583.68,389.12,194.56,6,0.12,0.17],circuit='TLMthreeNew')\n",
    "fit1=cg.fit(freq,z1,weight_by_modulus=False,bounds=(0,[np.inf,np.inf,np.inf,np.inf,1,1]))\n",
    "zfit1=fit1.predict(freq)"
   ]
  },
  {
   "cell_type": "code",
   "execution_count": 9,
   "metadata": {},
   "outputs": [
    {
     "data": {
      "text/plain": [
       "array([ 22.52470288-2.25247094e+01j,  25.93628655-2.59335266e+01j,\n",
       "        29.86110191-2.98537822e+01j,  34.36562153-3.43686055e+01j,\n",
       "        39.53393526-3.95936612e+01j,  45.49659886-4.56721551e+01j,\n",
       "        52.44813754-5.27430510e+01j,  60.63262357-6.09022511e+01j,\n",
       "        70.30242552-7.01859260e+01j,  81.67978105-8.05861698e+01j,\n",
       "        94.93239593-9.20697153e+01j, 110.11096089-1.04610315e+02j,\n",
       "       127.08854979-1.18369322e+02j, 145.8037295 -1.33996628e+02j,\n",
       "       166.90554758-1.52527810e+02j, 192.1234674 -1.74485341e+02j,\n",
       "       223.54640981-1.98741460e+02j, 261.81076164-2.22317683e+02j,\n",
       "       304.36590011-2.42079358e+02j, 345.82700506-2.57733325e+02j,\n",
       "       380.88006387-2.73416916e+02j, 407.01494444-2.96261256e+02j,\n",
       "       424.70455911-3.33933429e+02j, 435.90241465-3.93600023e+02j,\n",
       "       442.69205622-4.82450010e+02j, 446.70163605-6.08833851e+02j,\n",
       "       449.03262022-7.83456544e+02j, 450.37539895-1.02056167e+03j,\n",
       "       451.14483822-1.33924305e+03j, 451.58440746-1.76505511e+03j,\n",
       "       451.83509186-2.33209556e+03j, 451.97791472-3.08575072e+03j,\n",
       "       452.05923959-4.08633486e+03j, 452.10553198-5.41391992e+03j,\n",
       "       452.13187809-7.17474451e+03j, 452.14687073-9.50971611e+03j,\n",
       "       452.15540201-1.26056871e+04j, 452.16025641-1.67104077e+04j,\n",
       "       452.16301857-2.21523514e+04j, 452.16459022-2.93670010e+04j,\n",
       "       452.16548448-3.89316970e+04j, 452.1659933 -5.16118387e+04j,\n",
       "       452.16628281-6.84221338e+04j, 452.16644754-9.07077987e+04j,\n",
       "       452.16654127-1.20252208e+05j, 452.1665946 -1.59419604e+05j,\n",
       "       452.16662495-2.11344294e+05j, 452.16664221-2.80181467e+05j,\n",
       "       452.16665204-3.71439706e+05j, 452.16665763-4.92421802e+05j])"
      ]
     },
     "execution_count": 9,
     "metadata": {},
     "output_type": "execute_result"
    }
   ],
   "source": [
    "zfit1"
   ]
  }
 ],
 "metadata": {
  "kernelspec": {
   "display_name": "Python 3",
   "language": "python",
   "name": "python3"
  },
  "language_info": {
   "codemirror_mode": {
    "name": "ipython",
    "version": 3
   },
   "file_extension": ".py",
   "mimetype": "text/x-python",
   "name": "python",
   "nbconvert_exporter": "python",
   "pygments_lexer": "ipython3",
   "version": "3.11.4"
  },
  "orig_nbformat": 4
 },
 "nbformat": 4,
 "nbformat_minor": 2
}
