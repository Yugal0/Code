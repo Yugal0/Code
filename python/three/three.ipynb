{
 "cells": [
  {
   "cell_type": "code",
   "execution_count": 11,
   "metadata": {},
   "outputs": [],
   "source": [
    "from impedance.models.circuits import CustomCircuit\n",
    "from impedance.models.circuits.elements import element\n",
    "import numpy as np\n",
    "import scipy\n",
    "import matplotlib.pyplot as plt\n",
    "from impedance.visualization import plot_nyquist"
   ]
  },
  {
   "cell_type": "code",
   "execution_count": 12,
   "metadata": {},
   "outputs": [],
   "source": [
    "def add_noise(z,err):\n",
    "    #err is the relative SD from mean value\n",
    "    z_with_noise=np.random.normal(np.real(z),err*np.abs(np.real(z)))+1j*np.random.normal(np.imag(z),err*np.abs(np.imag(z)))\n",
    "    return z_with_noise"
   ]
  },
  {
   "cell_type": "code",
   "execution_count": 13,
   "metadata": {},
   "outputs": [],
   "source": [
    "@element(num_params=6, units=[\"Ohm\", \"Ohm\", \"Ohm\", \"F\",\"\",\"\"],overwrite=True)\n",
    "def TLMthreeNew(p, f):\n",
    "    omega = 2 * np.pi * np.array(f)\n",
    "    R1, R2, R3, Q, delta1, delta2 = p[0], p[1], p[2],p[3], p[4], p[5]\n",
    "    delta3=1-delta1-delta2\n",
    "    k12=R2/R1\n",
    "    k13=R3/R1\n",
    "    Rion1=R1\n",
    "    Rion2=R2\n",
    "    Rion3=R3\n",
    "    CTotal1=Q\n",
    "    CTotal2=Q\n",
    "    CTotal3=Q\n",
    "    wc1=1/(Rion1*CTotal1)\n",
    "    wc2=1/(Rion2*CTotal2)\n",
    "    wc3=1/(Rion3*CTotal3)\n",
    "    S1=np.sqrt(omega*1j/wc1)\n",
    "    S2=np.sqrt(omega*1j/wc2)\n",
    "    S3=np.sqrt(omega*1j/wc3)\n",
    "    C1=1/np.tanh(delta1*S1)\n",
    "    C2=1/np.tanh(delta2*S2)\n",
    "    C3=1/np.tanh(delta3*S3)\n",
    "\n",
    "    Z=2*(R1)*((S1*S3*C1*k12**2+S2*C2*(S1*C1*C3*k13+S3)*k12+S2**2*C3*k13)/(S1*(S3*S1*k12**2+S2*C2*(S3*C1+S1*C3*k13)*k12+S2**2*C1*C3*k13)))\n",
    "    \n",
    "    return Z"
   ]
  },
  {
   "cell_type": "code",
   "execution_count": 14,
   "metadata": {},
   "outputs": [
    {
     "name": "stderr",
     "output_type": "stream",
     "text": [
      "c:\\Users\\Gaming\\AppData\\Local\\Programs\\Python\\Python311\\Lib\\site-packages\\impedance\\models\\circuits\\circuits.py:145: UserWarning: Simulating circuit based on initial parameters\n",
      "  warnings.warn(\"Simulating circuit based on initial parameters\")\n"
     ]
    }
   ],
   "source": [
    "c0=CustomCircuit(initial_guess=[1015.6,675.1,418.3,6.61e-4,0.12,0.17],circuit='TLMthreeNew')\n",
    "freq = np.logspace(3,-3,num=50)\n",
    "z0 = c0.predict(freq)\n",
    "z1=add_noise(z0,0.05)"
   ]
  },
  {
   "cell_type": "code",
   "execution_count": 15,
   "metadata": {},
   "outputs": [
    {
     "name": "stderr",
     "output_type": "stream",
     "text": [
      "C:\\Users\\Gaming\\AppData\\Local\\Temp\\ipykernel_12280\\119171478.py:20: RuntimeWarning: overflow encountered in tanh\n",
      "  C1=1/np.tanh(delta1*S1)\n",
      "C:\\Users\\Gaming\\AppData\\Local\\Temp\\ipykernel_12280\\119171478.py:21: RuntimeWarning: overflow encountered in tanh\n",
      "  C2=1/np.tanh(delta2*S2)\n",
      "C:\\Users\\Gaming\\AppData\\Local\\Temp\\ipykernel_12280\\119171478.py:22: RuntimeWarning: overflow encountered in tanh\n",
      "  C3=1/np.tanh(delta3*S3)\n"
     ]
    }
   ],
   "source": [
    "cg=CustomCircuit(initial_guess=[583.68,389.12,194.56,6,0.12,0.17],circuit='TLMthreeNew')\n",
    "fit1=cg.fit(freq,z1,weight_by_modulus=False,bounds=(0,[np.inf,np.inf,np.inf,np.inf,1,1]))\n",
    "zfit1=fit1.predict(freq)"
   ]
  }
 ],
 "metadata": {
  "kernelspec": {
   "display_name": "Python 3",
   "language": "python",
   "name": "python3"
  },
  "language_info": {
   "codemirror_mode": {
    "name": "ipython",
    "version": 3
   },
   "file_extension": ".py",
   "mimetype": "text/x-python",
   "name": "python",
   "nbconvert_exporter": "python",
   "pygments_lexer": "ipython3",
   "version": "3.11.4"
  },
  "orig_nbformat": 4
 },
 "nbformat": 4,
 "nbformat_minor": 2
}
