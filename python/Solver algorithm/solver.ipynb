{
 "cells": [
  {
   "cell_type": "code",
   "execution_count": 9,
   "metadata": {},
   "outputs": [],
   "source": [
    "%matplotlib ipympl\n",
    "from impedance.models.circuits import CustomCircuit\n",
    "from impedance.models.circuits.elements import element\n",
    "from impedance.visualization import plot_nyquist, plot_bode\n",
    "import numpy as np\n",
    "import matplotlib.pyplot as plt\n",
    "import os\n",
    "import shutil\n",
    "from matplotlib.ticker import FormatStrFormatter, StrMethodFormatter\n",
    "import pandas as pd\n",
    "from scipy import stats"
   ]
  },
  {
   "cell_type": "code",
   "execution_count": 10,
   "metadata": {},
   "outputs": [],
   "source": [
    "def give_chi_square_wt(zexp,zmodel):\n",
    "     chi_sqr_wt=np.sum(np.abs((zexp-zmodel))**2/np.abs(zexp)**2)\n",
    "     return chi_sqr_wt"
   ]
  },
  {
   "cell_type": "code",
   "execution_count": 11,
   "metadata": {},
   "outputs": [],
   "source": [
    "# import scipy\n",
    "# import numpy as np\n",
    "# R_initial=100\n",
    "# Q_initial=1e-2\n",
    "# alpha_initial=1\n",
    "# R=R_initial\n",
    "# Q=Q_initial\n",
    "# alpha=alpha_initial\n",
    "\n",
    "# def give_Zuni(freq,params):\n",
    "#   Z=R*1/(np.tanh(np.sqrt(R*Q*(1j*w)**alpha))*np.sqrt(R*Q*(1j*w)**alpha))\n",
    "#   return Z\n",
    "\n",
    "# def give_chi_sqr(give_Zuni,exp_data):\n",
    "#   for i in \n",
    "#   return chi_sqr"
   ]
  },
  {
   "cell_type": "code",
   "execution_count": 33,
   "metadata": {},
   "outputs": [],
   "source": [
    "@element(num_params=2, units=[\"Ohm\",\"F\"],overwrite=True)\n",
    "def TLMuni(p, f):\n",
    "    omega = 2 * np.pi * np.array(f)\n",
    "    Rion, Q = p[0], p[1]\n",
    "    S=Rion*Q*(1j*omega)**0.86\n",
    "    Z= Rion*np.sqrt(1/(S))*(1/(np.tanh(np.sqrt(S))))\n",
    "    return Z"
   ]
  },
  {
   "cell_type": "code",
   "execution_count": 34,
   "metadata": {},
   "outputs": [],
   "source": [
    "exp_data=pd.read_excel(\"abhi experimental through plane data.xlsx\",sheet_name=\"Cal\",header=None)\n",
    "exp_data=exp_data.to_numpy()\n",
    "z_exp=exp_data[:,1]+1j*exp_data[:,2]\n",
    "freq_exp_data=exp_data[:,0]\n"
   ]
  },
  {
   "cell_type": "code",
   "execution_count": 35,
   "metadata": {},
   "outputs": [
    {
     "name": "stderr",
     "output_type": "stream",
     "text": [
      "C:\\Users\\admin\\AppData\\Local\\Packages\\PythonSoftwareFoundation.Python.3.10_qbz5n2kfra8p0\\LocalCache\\local-packages\\Python310\\site-packages\\impedance\\models\\circuits\\circuits.py:145: UserWarning: Simulating circuit based on initial parameters\n",
      "  warnings.warn(\"Simulating circuit based on initial parameters\")\n",
      "C:\\Users\\admin\\AppData\\Local\\Temp\\ipykernel_33096\\460625050.py:6: RuntimeWarning: overflow encountered in tanh\n",
      "  Z= Rion*np.sqrt(1/(S))*(1/(np.tanh(np.sqrt(S))))\n"
     ]
    }
   ],
   "source": [
    "wt=\"mod\"\n",
    "itrR=0\n",
    "itrQ=0\n",
    "chi_sqr=np.zeros((30,30))\n",
    "for R in np.linspace(100,1000,30):\n",
    "    for Q in np.linspace(1e-6,1e-2,30):\n",
    "        c_model=CustomCircuit(initial_guess=[R,Q],circuit=\"TLMuni\")\n",
    "        z_model=c_model.predict(frequencies=freq_exp_data)\n",
    "        chi_sqr[itrR,itrQ]=give_chi_square_wt(z_exp,z_model)\n",
    "        itrQ=itrQ+1\n",
    "    itrQ=0\n",
    "    itrR=itrR+1\n"
   ]
  },
  {
   "cell_type": "code",
   "execution_count": 37,
   "metadata": {},
   "outputs": [
    {
     "name": "stderr",
     "output_type": "stream",
     "text": [
      "C:\\Users\\admin\\AppData\\Local\\Temp\\ipykernel_33096\\701864992.py:11: UserWarning: Attempt to set non-positive ylim on a log-scaled axis will be ignored.\n",
      "  ax.set_ylim(0,0.1)\n"
     ]
    },
    {
     "data": {
      "text/plain": [
       "(100.0, 0.1)"
      ]
     },
     "execution_count": 37,
     "metadata": {},
     "output_type": "execute_result"
    },
    {
     "data": {
      "application/vnd.jupyter.widget-view+json": {
       "model_id": "767cf80cf49a42b5bdc29f0ff4064dec",
       "version_major": 2,
       "version_minor": 0
      },
      "image/png": "[encoded data removed]",
      "text/html": [
       "\n",
       "            <div style=\"display: inline-block;\">\n",
       "                <div class=\"jupyter-widgets widget-label\" style=\"text-align: center;\">\n",
       "                    Figure\n",
       "                </div>\n",
       "                <img src='data:image/png;base64,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' width=640.0/>\n",
       "            </div>\n",
       "        "
      ],
      "text/plain": [
       "Canvas(toolbar=Toolbar(toolitems=[('Home', 'Reset original view', 'home', 'home'), ('Back', 'Back to previous …"
      ]
     },
     "metadata": {},
     "output_type": "display_data"
    }
   ],
   "source": [
    "#print(chi_sqr)\n",
    "fig=plt.figure()\n",
    "ax = fig.add_subplot(1, 2, 1)\n",
    "R, Q = np.meshgrid(np.linspace(100,1000,30), np.linspace(1e-6,1e-2,30))\n",
    "#ax.plot_surface(R,Q,chi_sqr)\n",
    "CS=ax.contour(Q,R,chi_sqr)\n",
    "ax.clabel(CS, CS.levels, inline=True, fontsize=10)\n",
    "ax.set_xscale(\"log\")\n",
    "ax.set_yscale(\"log\")\n",
    "ax.set_ylim(100,150)\n",
    "ax.set_ylim(0,0.1)\n",
    "\n",
    "\n"
   ]
  },
  {
   "cell_type": "code",
   "execution_count": 23,
   "metadata": {},
   "outputs": [
    {
     "data": {
      "text/plain": [
       "array([[ 4.52063104e-06,  7.07138206e-05,  6.70894796e-04,\n",
       "         3.86043180e-03,  1.34713733e-02,  2.85024532e-02,\n",
       "         3.65404779e-02,  2.83362445e-02,  1.32290744e-02,\n",
       "         3.66868497e-03,  5.80125396e-04,  4.47004064e-05],\n",
       "       [ 2.60141608e-05,  4.06918263e-04,  3.86043180e-03,\n",
       "         2.22105398e-02,  7.74777007e-02,  1.63763061e-01,\n",
       "         2.09378100e-01,  1.61163119e-01,  7.36875074e-02,\n",
       "         1.92111147e-02,  2.44055949e-03,  0.00000000e+00],\n",
       "       [ 9.07957372e-05,  1.42017349e-03,  1.34713733e-02,\n",
       "         7.74777007e-02,  2.69999641e-01,  5.69148685e-01,\n",
       "         7.22282988e-01,  5.44481126e-01,  2.34039289e-01,\n",
       "         4.90199478e-02,  0.00000000e+00, -2.44055949e-03],\n",
       "       [ 1.92199582e-04,  3.00586969e-03,  2.85024532e-02,\n",
       "         1.63763061e-01,  5.69148685e-01,  1.19084333e+00,\n",
       "         1.48005315e+00,  1.04889132e+00,  3.62211145e-01,\n",
       "         0.00000000e+00, -4.90199478e-02, -1.92111147e-02],\n",
       "       [ 2.46736809e-04,  3.85738758e-03,  3.65404779e-02,\n",
       "         2.09378100e-01,  7.22282988e-01,  1.48005315e+00,\n",
       "         1.72932943e+00,  9.84591972e-01,  0.00000000e+00,\n",
       "        -3.62211145e-01, -2.34039289e-01, -7.36875074e-02],\n",
       "       [ 1.92048019e-04,  2.99942508e-03,  2.83362445e-02,\n",
       "         1.61163119e-01,  5.44481126e-01,  1.04889132e+00,\n",
       "         9.84591972e-01,  0.00000000e+00, -9.84591972e-01,\n",
       "        -1.04889132e+00, -5.44481126e-01, -1.61163119e-01],\n",
       "       [ 9.05747892e-05,  1.41077854e-03,  1.32290744e-02,\n",
       "         7.36875074e-02,  2.34039289e-01,  3.62211145e-01,\n",
       "         0.00000000e+00, -9.84591972e-01, -1.72932943e+00,\n",
       "        -1.48005315e+00, -7.22282988e-01, -2.09378100e-01],\n",
       "       [ 2.58393103e-05,  3.99483432e-04,  3.66868497e-03,\n",
       "         1.92111147e-02,  4.90199478e-02,  0.00000000e+00,\n",
       "        -3.62211145e-01, -1.04889132e+00, -1.48005315e+00,\n",
       "        -1.19084333e+00, -5.69148685e-01, -1.63763061e-01]])"
      ]
     },
     "execution_count": 23,
     "metadata": {},
     "output_type": "execute_result"
    }
   ],
   "source": [
    "delta = 0.5\n",
    "x = np.arange(-3.0, 3.0, delta)\n",
    "y = np.arange(-2.0, 2.0, delta)\n",
    "X, Y = np.meshgrid(x, y)\n",
    "Z1 = np.exp(-X**2 - Y**2)\n",
    "Z2 = np.exp(-(X - 1)**2 - (Y - 1)**2)\n",
    "Z = (Z1 - Z2) * 2\n",
    "Z"
   ]
  }
 ],
 "metadata": {
  "kernelspec": {
   "display_name": "Python 3",
   "language": "python",
   "name": "python3"
  },
  "language_info": {
   "codemirror_mode": {
    "name": "ipython",
    "version": 3
   },
   "file_extension": ".py",
   "mimetype": "text/x-python",
   "name": "python",
   "nbconvert_exporter": "python",
   "pygments_lexer": "ipython3",
   "version": "3.10.11"
  },
  "orig_nbformat": 4
 },
 "nbformat": 4,
 "nbformat_minor": 2
}
