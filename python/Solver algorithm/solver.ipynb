{
 "cells": [
  {
   "cell_type": "code",
   "execution_count": 9,
   "metadata": {},
   "outputs": [],
   "source": [
    "%matplotlib ipympl\n",
    "from impedance.models.circuits import CustomCircuit\n",
    "from impedance.models.circuits.elements import element\n",
    "from impedance.visualization import plot_nyquist, plot_bode\n",
    "import numpy as np\n",
    "import matplotlib.pyplot as plt\n",
    "import os\n",
    "import shutil\n",
    "from matplotlib.ticker import FormatStrFormatter, StrMethodFormatter\n",
    "import pandas as pd\n",
    "from scipy import stats"
   ]
  },
  {
   "cell_type": "code",
   "execution_count": 10,
   "metadata": {},
   "outputs": [],
   "source": [
    "def give_chi_square_wt(zexp,zmodel):\n",
    "     chi_sqr_wt=np.sum(np.abs((zexp-zmodel))**2/np.abs(zexp)**2)\n",
    "     return chi_sqr_wt"
   ]
  },
  {
   "cell_type": "code",
   "execution_count": 11,
   "metadata": {},
   "outputs": [],
   "source": [
    "# import scipy\n",
    "# import numpy as np\n",
    "# R_initial=100\n",
    "# Q_initial=1e-2\n",
    "# alpha_initial=1\n",
    "# R=R_initial\n",
    "# Q=Q_initial\n",
    "# alpha=alpha_initial\n",
    "\n",
    "# def give_Zuni(freq,params):\n",
    "#   Z=R*1/(np.tanh(np.sqrt(R*Q*(1j*w)**alpha))*np.sqrt(R*Q*(1j*w)**alpha))\n",
    "#   return Z\n",
    "\n",
    "# def give_chi_sqr(give_Zuni,exp_data):\n",
    "#   for i in \n",
    "#   return chi_sqr"
   ]
  },
  {
   "cell_type": "code",
   "execution_count": 33,
   "metadata": {},
   "outputs": [],
   "source": [
    "@element(num_params=2, units=[\"Ohm\",\"F\"],overwrite=True)\n",
    "def TLMuni(p, f):\n",
    "    omega = 2 * np.pi * np.array(f)\n",
    "    Rion, Q = p[0], p[1]\n",
    "    S=Rion*Q*(1j*omega)**0.86\n",
    "    Z= Rion*np.sqrt(1/(S))*(1/(np.tanh(np.sqrt(S))))\n",
    "    return Z"
   ]
  },
  {
   "cell_type": "code",
   "execution_count": 34,
   "metadata": {},
   "outputs": [],
   "source": [
    "exp_data=pd.read_excel(\"abhi experimental through plane data.xlsx\",sheet_name=\"Cal\",header=None)\n",
    "exp_data=exp_data.to_numpy()\n",
    "z_exp=exp_data[:,1]+1j*exp_data[:,2]\n",
    "freq_exp_data=exp_data[:,0]\n"
   ]
  },
  {
   "cell_type": "code",
   "execution_count": 35,
   "metadata": {},
   "outputs": [
    {
     "name": "stderr",
     "output_type": "stream",
     "text": [
      "C:\\Users\\admin\\AppData\\Local\\Packages\\PythonSoftwareFoundation.Python.3.10_qbz5n2kfra8p0\\LocalCache\\local-packages\\Python310\\site-packages\\impedance\\models\\circuits\\circuits.py:145: UserWarning: Simulating circuit based on initial parameters\n",
      "  warnings.warn(\"Simulating circuit based on initial parameters\")\n",
      "C:\\Users\\admin\\AppData\\Local\\Temp\\ipykernel_33096\\460625050.py:6: RuntimeWarning: overflow encountered in tanh\n",
      "  Z= Rion*np.sqrt(1/(S))*(1/(np.tanh(np.sqrt(S))))\n"
     ]
    }
   ],
   "source": [
    "wt=\"mod\"\n",
    "itrR=0\n",
    "itrQ=0\n",
    "chi_sqr=np.zeros((30,30))\n",
    "for R in np.linspace(100,1000,30):\n",
    "    for Q in np.linspace(1e-6,1e-2,30):\n",
    "        c_model=CustomCircuit(initial_guess=[R,Q],circuit=\"TLMuni\")\n",
    "        z_model=c_model.predict(frequencies=freq_exp_data)\n",
    "        chi_sqr[itrR,itrQ]=give_chi_square_wt(z_exp,z_model)\n",
    "        itrQ=itrQ+1\n",
    "    itrQ=0\n",
    "    itrR=itrR+1\n"
   ]
  },
  {
   "cell_type": "code",
   "execution_count": 38,
   "metadata": {},
   "outputs": [
    {
     "name": "stderr",
     "output_type": "stream",
     "text": [
      "C:\\Users\\admin\\AppData\\Local\\Temp\\ipykernel_33096\\2408774516.py:11: UserWarning: Attempt to set non-positive ylim on a log-scaled axis will be ignored.\n",
      "  ax.set_ylim(0,0.1)\n"
     ]
    },
    {
     "data": {
      "text/plain": [
       "(100.0, 0.1)"
      ]
     },
     "execution_count": 38,
     "metadata": {},
     "output_type": "execute_result"
    },
    {
     "data": {
      "application/vnd.jupyter.widget-view+json": {
       "model_id": "2abe6876ff6e4069a3ee870b363088e9",
       "version_major": 2,
       "version_minor": 0
      },
      "image/png": "[encoded data removed]",
      "text/html": [
       "\n",
       "            <div style=\"display: inline-block;\">\n",
       "                <div class=\"jupyter-widgets widget-label\" style=\"text-align: center;\">\n",
       "                    Figure\n",
       "                </div>\n",
       "                <img src='data:image/png;base64,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' width=640.0/>\n",
       "            </div>\n",
       "        "
      ],
      "text/plain": [
       "Canvas(toolbar=Toolbar(toolitems=[('Home', 'Reset original view', 'home', 'home'), ('Back', 'Back to previous …"
      ]
     },
     "metadata": {},
     "output_type": "display_data"
    }
   ],
   "source": [
    "#print(chi_sqr)\n",
    "fig=plt.figure()\n",
    "ax = fig.add_subplot(1, 2, 1)\n",
    "R, Q = np.meshgrid(np.linspace(100,1000,30), np.linspace(1e-6,1e-2,30))\n",
    "#ax.plot_surface(R,Q,chi_sqr)\n",
    "CS=ax.contour(R,Q,chi_sqr)\n",
    "ax.clabel(CS, CS.levels, inline=True, fontsize=10)\n",
    "ax.set_xscale(\"log\")\n",
    "ax.set_yscale(\"log\")\n",
    "ax.set_ylim(100,150)\n",
    "ax.set_ylim(0,0.1)\n",
    "\n",
    "\n"
   ]
  },
  {
   "cell_type": "code",
   "execution_count": 23,
   "metadata": {},
   "outputs": [
    {
     "data": {
      "text/plain": [
       "array([[ 4.52063104e-06,  7.07138206e-05,  6.70894796e-04,\n",
       "         3.86043180e-03,  1.34713733e-02,  2.85024532e-02,\n",
       "         3.65404779e-02,  2.83362445e-02,  1.32290744e-02,\n",
       "         3.66868497e-03,  5.80125396e-04,  4.47004064e-05],\n",
       "       [ 2.60141608e-05,  4.06918263e-04,  3.86043180e-03,\n",
       "         2.22105398e-02,  7.74777007e-02,  1.63763061e-01,\n",
       "         2.09378100e-01,  1.61163119e-01,  7.36875074e-02,\n",
       "         1.92111147e-02,  2.44055949e-03,  0.00000000e+00],\n",
       "       [ 9.07957372e-05,  1.42017349e-03,  1.34713733e-02,\n",
       "         7.74777007e-02,  2.69999641e-01,  5.69148685e-01,\n",
       "         7.22282988e-01,  5.44481126e-01,  2.34039289e-01,\n",
       "         4.90199478e-02,  0.00000000e+00, -2.44055949e-03],\n",
       "       [ 1.92199582e-04,  3.00586969e-03,  2.85024532e-02,\n",
       "         1.63763061e-01,  5.69148685e-01,  1.19084333e+00,\n",
       "         1.48005315e+00,  1.04889132e+00,  3.62211145e-01,\n",
       "         0.00000000e+00, -4.90199478e-02, -1.92111147e-02],\n",
       "       [ 2.46736809e-04,  3.85738758e-03,  3.65404779e-02,\n",
       "         2.09378100e-01,  7.22282988e-01,  1.48005315e+00,\n",
       "         1.72932943e+00,  9.84591972e-01,  0.00000000e+00,\n",
       "        -3.62211145e-01, -2.34039289e-01, -7.36875074e-02],\n",
       "       [ 1.92048019e-04,  2.99942508e-03,  2.83362445e-02,\n",
       "         1.61163119e-01,  5.44481126e-01,  1.04889132e+00,\n",
       "         9.84591972e-01,  0.00000000e+00, -9.84591972e-01,\n",
       "        -1.04889132e+00, -5.44481126e-01, -1.61163119e-01],\n",
       "       [ 9.05747892e-05,  1.41077854e-03,  1.32290744e-02,\n",
       "         7.36875074e-02,  2.34039289e-01,  3.62211145e-01,\n",
       "         0.00000000e+00, -9.84591972e-01, -1.72932943e+00,\n",
       "        -1.48005315e+00, -7.22282988e-01, -2.09378100e-01],\n",
       "       [ 2.58393103e-05,  3.99483432e-04,  3.66868497e-03,\n",
       "         1.92111147e-02,  4.90199478e-02,  0.00000000e+00,\n",
       "        -3.62211145e-01, -1.04889132e+00, -1.48005315e+00,\n",
       "        -1.19084333e+00, -5.69148685e-01, -1.63763061e-01]])"
      ]
     },
     "execution_count": 23,
     "metadata": {},
     "output_type": "execute_result"
    }
   ],
   "source": [
    "delta = 0.5\n",
    "x = np.arange(-3.0, 3.0, delta)\n",
    "y = np.arange(-2.0, 2.0, delta)\n",
    "X, Y = np.meshgrid(x, y)\n",
    "Z1 = np.exp(-X**2 - Y**2)\n",
    "Z2 = np.exp(-(X - 1)**2 - (Y - 1)**2)\n",
    "Z = (Z1 - Z2) * 2\n",
    "Z"
   ]
  }
 ],
 "metadata": {
  "kernelspec": {
   "display_name": "Python 3",
   "language": "python",
   "name": "python3"
  },
  "language_info": {
   "codemirror_mode": {
    "name": "ipython",
    "version": 3
   },
   "file_extension": ".py",
   "mimetype": "text/x-python",
   "name": "python",
   "nbconvert_exporter": "python",
   "pygments_lexer": "ipython3",
   "version": "3.10.11"
  },
  "orig_nbformat": 4
 },
 "nbformat": 4,
 "nbformat_minor": 2
}
