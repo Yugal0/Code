{
 "cells": [
  {
   "cell_type": "code",
   "execution_count": 2,
   "metadata": {},
   "outputs": [],
   "source": [
    "from impedance import preprocessing\n",
    "from impedance import visualization\n",
    "from impedance.models.circuits import CustomCircuit"
   ]
  },
  {
   "cell_type": "code",
   "execution_count": 20,
   "metadata": {},
   "outputs": [
    {
     "data": {
      "text/plain": [
       "array([1.9999814e+05, 1.5885727e+05, 1.2618765e+05, 1.0022640e+05,\n",
       "       7.9609563e+04, 6.3233004e+04, 5.0224539e+04, 3.9897566e+04,\n",
       "       3.1686090e+04, 2.5172580e+04, 1.9995176e+04, 1.5884798e+04,\n",
       "       1.2618766e+04, 1.0020785e+04, 7.9597607e+03, 6.3238188e+03,\n",
       "       5.0216069e+03, 3.9861731e+03, 3.1669595e+03, 2.5158047e+03,\n",
       "       1.9980818e+03, 1.5884750e+03, 1.2604036e+03, 1.0016024e+03,\n",
       "       7.9525409e+02, 6.3181964e+02, 5.0208865e+02, 3.9859698e+02,\n",
       "       3.1672299e+02, 2.5169135e+02, 1.9980818e+02, 1.5862943e+02,\n",
       "       1.2600809e+02, 1.0016024e+02, 7.9516548e+01, 6.3160763e+01,\n",
       "       5.0208866e+01, 3.9859695e+01, 3.1672298e+01, 2.5136747e+01,\n",
       "       1.9980818e+01, 1.5857577e+01, 1.2600809e+01, 1.0016025e+01,\n",
       "       7.9557004e+00, 6.3105812e+00, 5.0144420e+00, 3.9859698e+00,\n",
       "       3.1655185e+00, 2.5136747e+00, 1.9970603e+00, 1.5846856e+00,\n",
       "       1.2596742e+00, 1.0000639e+00, 7.9443753e-01, 6.3126212e-01,\n",
       "       5.0118679e-01, 3.9867833e-01, 3.1619310e-01, 2.5117347e-01,\n",
       "       1.9980818e-01, 1.5846856e-01, 1.2590654e-01, 1.0013975e-01,\n",
       "       7.9421178e-02, 6.3101739e-02, 5.0154075e-02, 3.9804459e-02,\n",
       "       3.1592205e-02, 2.5144994e-02, 1.9949391e-02, 1.5860692e-02,\n",
       "       1.2576789e-02, 1.0009170e-02])"
      ]
     },
     "execution_count": 20,
     "metadata": {},
     "output_type": "execute_result"
    }
   ],
   "source": [
    "freq, zdata = preprocessing.readBioLogic(\"exampleData.mpt\")\n",
    "freq1, zdata1 = preprocessing.readCSV(\"hello.csv\")"
   ]
  }
 ],
 "metadata": {
  "kernelspec": {
   "display_name": "Python 3",
   "language": "python",
   "name": "python3"
  },
  "language_info": {
   "codemirror_mode": {
    "name": "ipython",
    "version": 3
   },
   "file_extension": ".py",
   "mimetype": "text/x-python",
   "name": "python",
   "nbconvert_exporter": "python",
   "pygments_lexer": "ipython3",
   "version": "3.10.11"
  }
 },
 "nbformat": 4,
 "nbformat_minor": 2
}
