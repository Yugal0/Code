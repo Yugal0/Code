{
 "cells": [
  {
   "cell_type": "code",
   "execution_count": 1,
   "metadata": {},
   "outputs": [],
   "source": [
    "from impedance import preprocessing\n",
    "from impedance import visualization\n",
    "from impedance.models.circuits import CustomCircuit\n",
    "from models import *"
   ]
  },
  {
   "cell_type": "code",
   "execution_count": 8,
   "metadata": {},
   "outputs": [
    {
     "ename": "ValueError",
     "evalue": "TLMtwoR not in allowed elements (dict_keys(['s', 'p', 'R', 'C', 'L', 'W', 'Wo', 'Ws', 'CPE', 'La', 'G', 'Gs', 'K', 'TLMQ', 'TLMtwo', 'TLMthree', 'T', 'TLMuni', 'TLMlin', 'TLMlinzert', 'TLMilin', 'TLMilinzert', '__builtins__']))",
     "output_type": "error",
     "traceback": [
      "\u001b[1;31m---------------------------------------------------------------------------\u001b[0m",
      "\u001b[1;31mValueError\u001b[0m                                Traceback (most recent call last)",
      "\u001b[1;32mc:\\Users\\admin\\Downloads\\Code\\December Final\\test.ipynb Cell 2\u001b[0m line \u001b[0;36m1\n\u001b[0;32m     <a href='vscode-notebook-cell:/c%3A/Users/admin/Downloads/Code/December%20Final/test.ipynb#W1sZmlsZQ%3D%3D?line=15'>16</a>\u001b[0m Rrxn\u001b[39m=\u001b[39m\u001b[39m40\u001b[39m\n\u001b[0;32m     <a href='vscode-notebook-cell:/c%3A/Users/admin/Downloads/Code/December%20Final/test.ipynb#W1sZmlsZQ%3D%3D?line=16'>17</a>\u001b[0m Qdl\u001b[39m=\u001b[39m\u001b[39m1e-6\u001b[39m\n\u001b[1;32m---> <a href='vscode-notebook-cell:/c%3A/Users/admin/Downloads/Code/December%20Final/test.ipynb#W1sZmlsZQ%3D%3D?line=18'>19</a>\u001b[0m cmodel\u001b[39m=\u001b[39mCustomCircuit(initial_guess\u001b[39m=\u001b[39;49m[Rhfr,Rrxn,Qdl,alpha],circuit\u001b[39m=\u001b[39;49m\u001b[39m\"\u001b[39;49m\u001b[39mTLMtwo-R_1-p(R_2,CPE_1)\u001b[39;49m\u001b[39m\"\u001b[39;49m)\n",
      "File \u001b[1;32m~\\AppData\\Local\\Packages\\PythonSoftwareFoundation.Python.3.10_qbz5n2kfra8p0\\LocalCache\\local-packages\\Python310\\site-packages\\impedance\\models\\circuits\\circuits.py:436\u001b[0m, in \u001b[0;36mCustomCircuit.__init__\u001b[1;34m(self, circuit, **kwargs)\u001b[0m\n\u001b[0;32m    433\u001b[0m \u001b[39msuper\u001b[39m()\u001b[39m.\u001b[39m\u001b[39m__init__\u001b[39m(\u001b[39m*\u001b[39m\u001b[39m*\u001b[39mkwargs)\n\u001b[0;32m    434\u001b[0m \u001b[39mself\u001b[39m\u001b[39m.\u001b[39mcircuit \u001b[39m=\u001b[39m circuit\u001b[39m.\u001b[39mreplace(\u001b[39m\"\u001b[39m\u001b[39m \u001b[39m\u001b[39m\"\u001b[39m, \u001b[39m\"\u001b[39m\u001b[39m\"\u001b[39m)\n\u001b[1;32m--> 436\u001b[0m circuit_len \u001b[39m=\u001b[39m calculateCircuitLength(\u001b[39mself\u001b[39;49m\u001b[39m.\u001b[39;49mcircuit)\n\u001b[0;32m    438\u001b[0m \u001b[39mif\u001b[39;00m \u001b[39mlen\u001b[39m(\u001b[39mself\u001b[39m\u001b[39m.\u001b[39minitial_guess) \u001b[39m+\u001b[39m \u001b[39mlen\u001b[39m(\u001b[39mself\u001b[39m\u001b[39m.\u001b[39mconstants) \u001b[39m!=\u001b[39m circuit_len:\n\u001b[0;32m    439\u001b[0m     \u001b[39mraise\u001b[39;00m \u001b[39mValueError\u001b[39;00m(\u001b[39m'\u001b[39m\u001b[39mThe number of initial guesses \u001b[39m\u001b[39m'\u001b[39m \u001b[39m+\u001b[39m\n\u001b[0;32m    440\u001b[0m                      \u001b[39mf\u001b[39m\u001b[39m'\u001b[39m\u001b[39m(\u001b[39m\u001b[39m{\u001b[39;00m\u001b[39mlen\u001b[39m(\u001b[39mself\u001b[39m\u001b[39m.\u001b[39minitial_guess)\u001b[39m}\u001b[39;00m\u001b[39m) + \u001b[39m\u001b[39m'\u001b[39m \u001b[39m+\u001b[39m\n\u001b[0;32m    441\u001b[0m                      \u001b[39m'\u001b[39m\u001b[39mthe number of constants \u001b[39m\u001b[39m'\u001b[39m \u001b[39m+\u001b[39m\n\u001b[0;32m    442\u001b[0m                      \u001b[39mf\u001b[39m\u001b[39m'\u001b[39m\u001b[39m(\u001b[39m\u001b[39m{\u001b[39;00m\u001b[39mlen\u001b[39m(\u001b[39mself\u001b[39m\u001b[39m.\u001b[39mconstants)\u001b[39m}\u001b[39;00m\u001b[39m)\u001b[39m\u001b[39m'\u001b[39m \u001b[39m+\u001b[39m\n\u001b[0;32m    443\u001b[0m                      \u001b[39m'\u001b[39m\u001b[39m must be equal to \u001b[39m\u001b[39m'\u001b[39m \u001b[39m+\u001b[39m\n\u001b[0;32m    444\u001b[0m                      \u001b[39mf\u001b[39m\u001b[39m'\u001b[39m\u001b[39mthe circuit length (\u001b[39m\u001b[39m{\u001b[39;00mcircuit_len\u001b[39m}\u001b[39;00m\u001b[39m)\u001b[39m\u001b[39m'\u001b[39m)\n",
      "File \u001b[1;32m~\\AppData\\Local\\Packages\\PythonSoftwareFoundation.Python.3.10_qbz5n2kfra8p0\\LocalCache\\local-packages\\Python310\\site-packages\\impedance\\models\\circuits\\fitting.py:417\u001b[0m, in \u001b[0;36mcalculateCircuitLength\u001b[1;34m(circuit)\u001b[0m\n\u001b[0;32m    415\u001b[0m     \u001b[39mfor\u001b[39;00m elem \u001b[39min\u001b[39;00m extracted_elements:\n\u001b[0;32m    416\u001b[0m         raw_element \u001b[39m=\u001b[39m get_element_from_name(elem)\n\u001b[1;32m--> 417\u001b[0m         num_params \u001b[39m=\u001b[39m check_and_eval(raw_element)\u001b[39m.\u001b[39mnum_params\n\u001b[0;32m    418\u001b[0m         length \u001b[39m+\u001b[39m\u001b[39m=\u001b[39m num_params\n\u001b[0;32m    419\u001b[0m \u001b[39mreturn\u001b[39;00m length\n",
      "File \u001b[1;32m~\\AppData\\Local\\Packages\\PythonSoftwareFoundation.Python.3.10_qbz5n2kfra8p0\\LocalCache\\local-packages\\Python310\\site-packages\\impedance\\models\\circuits\\fitting.py:442\u001b[0m, in \u001b[0;36mcheck_and_eval\u001b[1;34m(element)\u001b[0m\n\u001b[0;32m    440\u001b[0m allowed_elements \u001b[39m=\u001b[39m circuit_elements\u001b[39m.\u001b[39mkeys()\n\u001b[0;32m    441\u001b[0m \u001b[39mif\u001b[39;00m element \u001b[39mnot\u001b[39;00m \u001b[39min\u001b[39;00m allowed_elements:\n\u001b[1;32m--> 442\u001b[0m     \u001b[39mraise\u001b[39;00m \u001b[39mValueError\u001b[39;00m(\u001b[39mf\u001b[39m\u001b[39m'\u001b[39m\u001b[39m{\u001b[39;00melement\u001b[39m}\u001b[39;00m\u001b[39m not in \u001b[39m\u001b[39m'\u001b[39m \u001b[39m+\u001b[39m\n\u001b[0;32m    443\u001b[0m                      \u001b[39mf\u001b[39m\u001b[39m'\u001b[39m\u001b[39mallowed elements (\u001b[39m\u001b[39m{\u001b[39;00mallowed_elements\u001b[39m}\u001b[39;00m\u001b[39m)\u001b[39m\u001b[39m'\u001b[39m)\n\u001b[0;32m    444\u001b[0m \u001b[39melse\u001b[39;00m:\n\u001b[0;32m    445\u001b[0m     \u001b[39mreturn\u001b[39;00m \u001b[39meval\u001b[39m(element, circuit_elements)\n",
      "\u001b[1;31mValueError\u001b[0m: TLMtwoR not in allowed elements (dict_keys(['s', 'p', 'R', 'C', 'L', 'W', 'Wo', 'Ws', 'CPE', 'La', 'G', 'Gs', 'K', 'TLMQ', 'TLMtwo', 'TLMthree', 'T', 'TLMuni', 'TLMlin', 'TLMlinzert', 'TLMilin', 'TLMilinzert', '__builtins__']))"
     ]
    }
   ],
   "source": [
    "freq, zdata = preprocessing.readBioLogic(\"exampleData.mpt\")\n",
    "freq1, zdata1 = preprocessing.readCSV(\"hello.csv\")\n",
    "\n",
    "Q=1e-6\n",
    "alpha=0.98\n",
    "\n",
    "R1=500\n",
    "delta1=0.3\n",
    "R2=100\n",
    "R3=500\n",
    "delta2=0.3\n",
    "\n",
    "\n",
    "#initial guesses for the HFR intercept and for any semicircle like features in the EIS data\n",
    "Rhfr=40\n",
    "Rrxn=40\n",
    "Qdl=1e-6\n",
    "\n",
    "cmodel=CustomCircuit(initial_guess=[Rhfr,Rrxn,Qdl,alpha],circuit=\"TLMtwo-R_1-p(R_2,CPE_1)\")\n"
   ]
  }
 ],
 "metadata": {
  "kernelspec": {
   "display_name": "Python 3",
   "language": "python",
   "name": "python3"
  },
  "language_info": {
   "codemirror_mode": {
    "name": "ipython",
    "version": 3
   },
   "file_extension": ".py",
   "mimetype": "text/x-python",
   "name": "python",
   "nbconvert_exporter": "python",
   "pygments_lexer": "ipython3",
   "version": "3.10.11"
  }
 },
 "nbformat": 4,
 "nbformat_minor": 2
}
