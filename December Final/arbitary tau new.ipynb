{
 "cells": [
  {
   "cell_type": "code",
   "execution_count": 4,
   "metadata": {},
   "outputs": [],
   "source": [
    "%matplotlib ipympl\n",
    "from models import *\n",
    "# from models import find_index_of_nearest\n",
    "from impedance.preprocessing import readCSV, readBioLogic\n",
    "from impedance.visualization import plot_nyquist,plot_bode\n",
    "from impedance.models.circuits import CustomCircuit\n",
    "import numpy as np\n",
    "import scipy as sp\n",
    "import matplotlib.pyplot as plt\n",
    "from arbitau import give_z_for_arbitary_tau, tau_plotter\n",
    "from scipy.integrate import solve_bvp"
   ]
  },
  {
   "cell_type": "code",
   "execution_count": 9,
   "metadata": {},
   "outputs": [],
   "source": [
    "@element(num_params=5,units=[\"\",\"\",\"\",\"\",\"\"],overwrite=True)\n",
    "def arbitaualha(p,f):\n",
    "    # modify the number of parameters according to the torutosity function\n",
    "    Rref, Q, alpha, a, b = p[0], p[1], p[2], p[3], p[4]\n",
    "    # provide the definition for the arbitrary tortuosity function\n",
    "    \n",
    "    def tau(x):\n",
    "        # return 5+np.tanh(x*10-3)+2*np.tanh(x*10-5)\n",
    "        return 5+np.tanh(x*10-a)+2*np.tanh(x*10-b)\n",
    "    \n",
    "    def fun(x,y,lmdcos,lmdsin):\n",
    "        return np.vstack((y[2]*tau(x),y[3]*tau(x),lmdcos*y[0]-lmdsin*y[1],lmdcos*y[1]+lmdsin*y[0]))\n",
    "\n",
    "    def bc(ya,yb):\n",
    "        return np.array([ya[0]-1,yb[2],yb[3],ya[1]])\n",
    "\n",
    "    # Q=6.61e-4\n",
    "    # Rref=194.56\n",
    "\n",
    "    x=np.linspace(0,1,1000)\n",
    "    y=np.zeros((4,x.size))\n",
    "    # print(y)\n",
    "\n",
    "    Z_list=np.zeros((np.size(np.array(f))),dtype=complex)\n",
    "    # print(Z_list)\n",
    "    ii=0\n",
    "    for freq in np.array(f):\n",
    "        w=2*np.pi*freq\n",
    "        lmdcos=w**alpha*Q*Rref*np.cos(alpha*np.pi/2)\n",
    "        lmdsin=w**alpha*Q*Rref*np.sin(alpha*np.pi/2)\n",
    "        sol1 = solve_bvp(lambda x,y: fun(x,y,lmdcos=lmdcos,lmdsin=lmdsin), bc, x, y)\n",
    "        y3=sol1.sol(x)[2]\n",
    "        y4=sol1.sol(x)[3]\n",
    "        Z=2/(-(1/(Rref))*(y3[0]+y4[0]*1j))\n",
    "        Z_list[ii]=Z\n",
    "        ii=ii+1\n",
    "\n",
    "    return Z_list"
   ]
  },
  {
   "cell_type": "code",
   "execution_count": 10,
   "metadata": {},
   "outputs": [],
   "source": [
    "#initial guesses for the TLM\n",
    "#Double layer Capacitance inside porous electrode\n",
    "Q=6.61e-4\n",
    "alpha=1\n",
    "\n",
    "R1=400\n",
    "delta1=0.3\n",
    "R2=400\n",
    "\n",
    "R3=400\n",
    "delta2=0.3\n",
    "\n",
    "\n",
    "#initial guesses for the HFR intercept and for any semicircle like features in the EIS data\n",
    "Rhfr=200\n",
    "Rrxn=200\n",
    "Qdl=6.61e-4\n",
    "alpha2=1\n",
    "\n",
    "#other (for arbitrary tortuosity profile)\n",
    "Rref=200\n",
    "a=4\n",
    "b=5\n",
    "\n",
    "#For Two-step provide R1,R2,Q,delta1,alpha\n",
    "#For Three-step provide R1,R2,R3,Q,delta1,delta2,alpha\n",
    "#For Linear provide R1,R2,Q,alpha\n",
    "#For Inv-Linear provide R1,R2,Q,alpha\n",
    "\n",
    "###For arbitary profile provide <what?>###\n",
    "#write the profile that you want to fit\n",
    "#tau should remain >=1 in the entire domain of the electrode\n",
    "#for example, tau=1+np.sin(2*x)"
   ]
  },
  {
   "cell_type": "code",
   "execution_count": 11,
   "metadata": {},
   "outputs": [],
   "source": [
    "cmodel1=CustomCircuit(initial_guess=[Rref,Q,1,a,b,Rhfr,Rrxn,Qdl,alpha2],circuit=\"arbitaualha_1-R_1-p(R_2,CPE_1)\")"
   ]
  },
  {
   "cell_type": "code",
   "execution_count": 12,
   "metadata": {},
   "outputs": [
    {
     "name": "stderr",
     "output_type": "stream",
     "text": [
      "C:\\Users\\admin\\AppData\\Local\\Packages\\PythonSoftwareFoundation.Python.3.10_qbz5n2kfra8p0\\LocalCache\\local-packages\\Python310\\site-packages\\impedance\\models\\circuits\\circuits.py:144: UserWarning: Simulating circuit based on initial parameters\n",
      "  warnings.warn(\"Simulating circuit based on initial parameters\")\n"
     ]
    }
   ],
   "source": [
    "freq_list=np.logspace(-1,2,100)\n",
    "zpred=cmodel1.predict(freq_list)"
   ]
  },
  {
   "cell_type": "code",
   "execution_count": null,
   "metadata": {},
   "outputs": [],
   "source": [
    "import csv\n",
    "\n",
    "# open the file in the write mode\n",
    "with open('./zdata3.csv', 'w') as f:\n",
    "    # create the csv writer\n",
    "    for fq1,z in zip(freq_list,zpred):\n",
    "        row=[fq1,float(np.real(z)),float(np.imag(z))]\n",
    "        # write a row to the csv file\n",
    "        writer = csv.writer(f)\n",
    "        writer.writerow(row)"
   ]
  }
 ],
 "metadata": {
  "kernelspec": {
   "display_name": "Python 3",
   "language": "python",
   "name": "python3"
  },
  "language_info": {
   "codemirror_mode": {
    "name": "ipython",
    "version": 3
   },
   "file_extension": ".py",
   "mimetype": "text/x-python",
   "name": "python",
   "nbconvert_exporter": "python",
   "pygments_lexer": "ipython3",
   "version": "3.10.11"
  }
 },
 "nbformat": 4,
 "nbformat_minor": 2
}
