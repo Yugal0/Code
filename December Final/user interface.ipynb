{
 "cells": [
  {
   "cell_type": "code",
   "execution_count": 1,
   "metadata": {},
   "outputs": [],
   "source": [
    "import models\n",
    "from impedance import preprocessing\n",
    "from impedance.models.circuits import CustomCircuit\n",
    "import numpy as np\n",
    "import scipy as sp"
   ]
  },
  {
   "cell_type": "code",
   "execution_count": 2,
   "metadata": {},
   "outputs": [],
   "source": [
    "# def MakeCircuit(initial_guess,circuit):\n",
    "#     CustomCircuit(initial_guess=[R1,R1*Q,R2*Q,delta,alpha],circuit=circuit)\n",
    "    "
   ]
  },
  {
   "cell_type": "code",
   "execution_count": 3,
   "metadata": {},
   "outputs": [
    {
     "name": "stdout",
     "output_type": "stream",
     "text": [
      "[9.03449295e+06-2.87474531e+08j 7.87973383e+06-2.50729500e+08j\n",
      " 6.87257617e+06-2.18681223e+08j 5.99415353e+06-1.90729362e+08j\n",
      " 5.22801098e+06-1.66350311e+08j 4.55979687e+06-1.45087393e+08j\n",
      " 3.97699398e+06-1.26542304e+08j 3.46868502e+06-1.10367651e+08j\n",
      " 3.02534818e+06-9.62604436e+07j 2.63867870e+06-8.39564215e+07j\n",
      " 2.30143337e+06-7.32251011e+07j 2.00729478e+06-6.38654594e+07j\n",
      " 1.75075303e+06-5.57021683e+07j 1.52700247e+06-4.85823101e+07j\n",
      " 1.33185173e+06-4.23725131e+07j 1.16164519e+06-3.69564531e+07j\n",
      " 1.01319447e+06-3.22326746e+07j 8.83718742e+05-2.81126900e+07j\n",
      " 7.70792616e+05-2.45193224e+07j 6.72300722e+05-2.13852595e+07j\n",
      " 5.86398074e+05-1.86517930e+07j 5.11475513e+05-1.62677184e+07j\n",
      " 4.46129564e+05-1.41883766e+07j 3.89136142e+05-1.23748165e+07j\n",
      " 3.39427627e+05-1.07930659e+07j 2.96072860e+05-9.41349484e+06j\n",
      " 2.58259705e+05-8.21026074e+06j 2.25279832e+05-7.16082417e+06j\n",
      " 1.96515451e+05-6.24552672e+06j 1.71427736e+05-5.44722270e+06j\n",
      " 1.49546737e+05-4.75095801e+06j 1.30462570e+05-4.14368996e+06j\n",
      " 1.13817743e+05-3.61404298e+06j 9.93004599e+04-3.15209555e+06j\n",
      " 8.66387780e+04-2.74919430e+06j 7.55955138e+04-2.39779194e+06j\n",
      " 6.59638011e+04-2.09130587e+06j 5.75632151e+04-1.82399489e+06j\n",
      " 5.02363930e+04-1.59085163e+06j 4.38460863e+04-1.38750878e+06j\n",
      " 3.82725894e+04-1.21015723e+06j 3.34114976e+04-1.05547478e+06j\n",
      " 2.91717511e+04-9.20563863e+05j 2.54739295e+04-8.02897276e+05j\n",
      " 2.22487640e+04-7.00270846e+05j 1.94358395e+04-6.10762141e+05j\n",
      " 1.69824634e+04-5.32694450e+05j 1.48426781e+04-4.64605381e+05j\n",
      " 1.29764004e+04-4.05219466e+05j 1.13486705e+04-3.53424267e+05j\n",
      " 9.92899730e+03-3.08249538e+05j 8.69078685e+03-2.68849049e+05j\n",
      " 7.61084458e+03-2.34484736e+05j 6.66894065e+03-2.04512875e+05j\n",
      " 5.84743095e+03-1.78372023e+05j 5.13092669e+03-1.55572499e+05j\n",
      " 4.50600605e+03-1.35687214e+05j 3.96096278e+03-1.18343670e+05j\n",
      " 3.48558695e+03-1.03216983e+05j 3.07097365e+03-9.00237929e+04j\n",
      " 2.70935618e+03-7.85169606e+04j 2.39396061e+03-6.84809360e+04j\n",
      " 2.11887883e+03-5.97277208e+04j 1.87895791e+03-5.20933466e+04j\n",
      " 1.66970355e+03-4.54348036e+04j 1.48719595e+03-3.96273615e+04j\n",
      " 1.32801628e+03-3.45622333e+04j 1.18918275e+03-3.01445372e+04j\n",
      " 1.06809466e+03-2.62915193e+04j 9.62483755e+02-2.29310035e+04j\n",
      " 8.70371679e+02-2.00000395e+04j 7.90032949e+02-1.74437234e+04j\n",
      " 7.19962621e+02-1.52141693e+04j 6.58848098e+02-1.32696124e+04j\n",
      " 6.05544543e+02-1.15736267e+04j 5.59053431e+02-1.00944422e+04j\n",
      " 5.18503841e+02-8.80435049e+03j 4.83136142e+02-7.67918496e+03j\n",
      " 4.52287759e+02-6.69786865e+03j 4.25380756e+02-5.84201919e+03j\n",
      " 4.01911007e+02-5.09560448e+03j 3.81438743e+02-4.44464241e+03j\n",
      " 3.63580306e+02-3.87693891e+03j 3.48000951e+02-3.38185953e+03j\n",
      " 3.34408555e+02-2.95013024e+03j 3.22548129e+02-2.57366369e+03j\n",
      " 3.12197010e+02-2.24540773e+03j 3.03160657e+02-1.95921325e+03j\n",
      " 2.95268955e+02-1.70971905e+03j 2.88372971e+02-1.49225135e+03j\n",
      " 2.82342077e+02-1.30273625e+03j 2.77061403e+02-1.13762334e+03j\n",
      " 2.72429545e+02-9.93819207e+02j 2.68356485e+02-8.68629383e+02j\n",
      " 2.64761677e+02-7.59707791e+02j 2.61572238e+02-6.65012663e+02j\n",
      " 2.58721207e+02-5.82768085e+02j 2.56145805e+02-5.11430442e+02j\n",
      " 2.53785662e+02-4.49659072e+02j 2.51580941e+02-3.96290530e+02j]\n"
     ]
    },
    {
     "name": "stderr",
     "output_type": "stream",
     "text": [
      "c:\\Users\\Gaming\\AppData\\Local\\Programs\\Python\\Python311\\Lib\\site-packages\\impedance\\models\\circuits\\circuits.py:145: UserWarning: Simulating circuit based on initial parameters\n",
      "  warnings.warn(\"Simulating circuit based on initial parameters\")\n"
     ]
    }
   ],
   "source": [
    "R1=500\n",
    "R2=100\n",
    "Q=1e-6\n",
    "alpha=0.98\n",
    "delta1=0.3\n",
    "delta2=0.4\n",
    "R3=1000\n",
    "c1=CustomCircuit(initial_guess=[R1,R1*Q,R2*Q,delta1,alpha],circuit=\"TLMtwo\")\n",
    "f=np.logspace(-3,3,100)\n",
    "zout=c1.predict(frequencies=f)\n",
    "print(zout)\n"
   ]
  },
  {
   "cell_type": "code",
   "execution_count": 4,
   "metadata": {},
   "outputs": [],
   "source": [
    "cthree=CustomCircuit(initial_guess=[R1, R1*Q, R2*Q, R3*Q, delta1, delta2, alpha],circuit=\"TLMthree\")\n",
    "clin=CustomCircuit(initial_guess=[R1, R1*Q, R2*Q, alpha],circuit=\"TLMlin\")\n",
    "cilin=CustomCircuit(initial_guess=[R1, R1*Q, R2*Q, alpha],circuit=\"TLMilin\")"
   ]
  },
  {
   "cell_type": "code",
   "execution_count": 6,
   "metadata": {},
   "outputs": [
    {
     "name": "stdout",
     "output_type": "stream",
     "text": [
      "\n",
      "Circuit string: TLMthree\n",
      "Fit: True\n",
      "\n",
      "Initial guesses:\n",
      "  TLMthree_0 = 5.00e+02 [Ohm]\n",
      "  TLMthree_1 = 5.00e-04 [Ohm F]\n",
      "  TLMthree_2 = 1.00e-04 [Ohm F]\n",
      "  TLMthree_3 = 1.00e-03 []\n",
      "  TLMthree_4 = 3.00e-01 []\n",
      "  TLMthree_5 = 4.00e-01 []\n",
      "  TLMthree_6 = 9.80e-01 []\n",
      "\n",
      "Fit parameters:\n",
      "  TLMthree_0 = 5.00e+02  (+/- 4.06e-09) [Ohm]\n",
      "  TLMthree_1 = 5.00e-04  (+/- 4.17e-15) [Ohm F]\n",
      "  TLMthree_2 = 8.36e-05  (+/- 6.67e-08) [Ohm F]\n",
      "  TLMthree_3 = 4.52e-04  (+/- 1.37e-06) []\n",
      "  TLMthree_4 = 3.06e-01  (+/- 2.54e-05) []\n",
      "  TLMthree_5 = 5.19e-01  (+/- 2.31e-05) []\n",
      "  TLMthree_6 = 9.80e-01  (+/- 3.04e-13) []\n",
      "\n"
     ]
    }
   ],
   "source": [
    "cthree.fit(impedance=zout,frequencies=f,bounds=[(0,0,0,0,0,0,0.5),(np.inf,np.inf,np.inf,np.inf,1,1,1)])\n",
    "clin.fit(impedance=zout,frequencies=f,bounds=[(0,0,0,0.5),(np.inf,np.inf,np.inf,1)])\n",
    "#cilin.fit(impedance=zout,frequencies=f,bounds=[(0,0,0,0.5),(np.inf,np.inf,np.inf,1)])\n",
    "print(cthree)"
   ]
  },
  {
   "cell_type": "markdown",
   "metadata": {},
   "source": [
    "### Notes\n",
    "Change the print function to directly print name of the parameters\n"
   ]
  },
  {
   "cell_type": "code",
   "execution_count": null,
   "metadata": {},
   "outputs": [],
   "source": []
  }
 ],
 "metadata": {
  "kernelspec": {
   "display_name": "Python 3",
   "language": "python",
   "name": "python3"
  },
  "language_info": {
   "codemirror_mode": {
    "name": "ipython",
    "version": 3
   },
   "file_extension": ".py",
   "mimetype": "text/x-python",
   "name": "python",
   "nbconvert_exporter": "python",
   "pygments_lexer": "ipython3",
   "version": "3.11.4"
  }
 },
 "nbformat": 4,
 "nbformat_minor": 2
}
