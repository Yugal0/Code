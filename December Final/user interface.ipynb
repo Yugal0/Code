{
 "cells": [
  {
   "cell_type": "code",
   "execution_count": 70,
   "metadata": {},
   "outputs": [],
   "source": [
    "import models\n",
    "from impedance import preprocessing\n",
    "from impedance.models.circuits import CustomCircuit\n",
    "import numpy as np\n",
    "import scipy as sp\n",
    "import matplotlib.pyplot as plt"
   ]
  },
  {
   "cell_type": "code",
   "execution_count": 71,
   "metadata": {},
   "outputs": [],
   "source": [
    "# def MakeCircuit(initial_guess,circuit):\n",
    "#     CustomCircuit(initial_guess=[R1,R1*Q,R2*Q,delta,alpha],circuit=circuit)\n",
    "    "
   ]
  },
  {
   "cell_type": "code",
   "execution_count": 91,
   "metadata": {},
   "outputs": [
    {
     "name": "stderr",
     "output_type": "stream",
     "text": [
      "C:\\Users\\admin\\AppData\\Local\\Packages\\PythonSoftwareFoundation.Python.3.10_qbz5n2kfra8p0\\LocalCache\\local-packages\\Python310\\site-packages\\impedance\\models\\circuits\\circuits.py:145: UserWarning: Simulating circuit based on initial parameters\n",
      "  warnings.warn(\"Simulating circuit based on initial parameters\")\n"
     ]
    }
   ],
   "source": [
    "R1=500\n",
    "R2=100\n",
    "Q=1e-6\n",
    "alpha=0.98\n",
    "delta1=0.3\n",
    "R3=500\n",
    "delta2=0.3\n",
    "c1=CustomCircuit(initial_guess=[R1,R1*Q,R2*Q,delta1,alpha],circuit=\"TLMtwo\")\n",
    "f=np.logspace(-3,3,100)\n",
    "zout=c1.predict(frequencies=f)\n"
   ]
  },
  {
   "cell_type": "code",
   "execution_count": 92,
   "metadata": {},
   "outputs": [],
   "source": [
    "ctwo=CustomCircuit(initial_guess=[R1, R1*Q, R2*Q, R3*Q, delta1, delta2, alpha],circuit=\"TLMtwo\")\n",
    "cthree=CustomCircuit(initial_guess=[R1, R1*Q, R2*Q, R3*Q, delta1, delta2, alpha],circuit=\"TLMthree\")\n",
    "clin=CustomCircuit(initial_guess=[R1, R1*Q, R2*Q, alpha],circuit=\"TLMlin\")\n",
    "cilin=CustomCircuit(initial_guess=[R1, R1*Q, R2*Q, alpha],circuit=\"TLMilin\")"
   ]
  },
  {
   "cell_type": "code",
   "execution_count": 95,
   "metadata": {},
   "outputs": [
    {
     "data": {
      "text/plain": [
       "<impedance.models.circuits.circuits.CustomCircuit at 0x1f09d06f550>"
      ]
     },
     "execution_count": 95,
     "metadata": {},
     "output_type": "execute_result"
    }
   ],
   "source": [
    "cthree.fit(impedance=zout,frequencies=f,bounds=[(0,0,0,0,0,0,0.5),(np.inf,np.inf,np.inf,np.inf,1,1,1)])\n",
    "clin.fit(impedance=zout,frequencies=f,bounds=[(0,0,0,0.5),(np.inf,np.inf,np.inf,1)])\n"
   ]
  },
  {
   "cell_type": "markdown",
   "metadata": {},
   "source": [
    "### Notes\n",
    "Change the print function to directly print name of the parameters\n"
   ]
  },
  {
   "cell_type": "code",
   "execution_count": 96,
   "metadata": {},
   "outputs": [],
   "source": [
    "# def profile_plotter(circuit,ax):\n",
    "    \n",
    "#     if(circuit._is_fit()):\n",
    "#         param=circuit.parameters_\n",
    "#     else:\n",
    "#         param=circuit.initial_guess\n",
    "#     profile=circuit.circuit\n",
    "\n",
    "#     ax1=ax\n",
    "#     if(profile==\"TLMtwo\"):\n",
    "#        R1=param[0]\n",
    "#        R1Q=param[1]\n",
    "#        R2Q=param[2]\n",
    "#        delta1=param[3]\n",
    "#        Q=R1Q/R1\n",
    "#        R2=R2Q/Q\n",
    "#        ax1.plot([0,delta1,delta1,1],[R1,R1,R2,R2],linewidth=2,color=\"red\",label=\"Actual\")\n",
    "    \n",
    "#     if(profile==\"TLMthree\"):\n",
    "#        R1=param[0]\n",
    "#        R1Q=param[1]\n",
    "#        R2Q=param[2]\n",
    "#        R3Q=param[3]\n",
    "#        delta1=param[4]\n",
    "#        delta2=param[5]\n",
    "#        Q=R1Q/R1\n",
    "#        R2=R2Q/Q\n",
    "#        R3=R3Q/Q\n",
    "#        ax1.plot([0,delta1,delta1,delta2+delta1,delta2+delta1,1],[R1,R1,R2,R2,R3,R3],linewidth=2,color=\"blue\",label=\"Actual\")\n",
    "\n",
    "#     if(profile==\"TLMlin\" or profile==\"TLMlinzert\"):\n",
    "#        R1=param[0]\n",
    "#        R1Q=param[1]\n",
    "#        R2Q=param[2]\n",
    "#        R2=R1*R2Q/R1Q\n",
    "#        ax1.plot([0,1],[R1,R2],linewidth=2,color=\"green\",label=\"Fit (clean)\")\n",
    "\n",
    "#     if(profile==\"TLMilin\" or profile==\"TLMilinzert\"):\n",
    "#        R1=param[0]\n",
    "#        R1Q=param[1]\n",
    "#        R2Q=param[2]\n",
    "#        R2=R1*R2Q/R1Q\n",
    "#        ax1.plot([0,1],[R1,R2],linewidth=2,color=\"blue\",label=\"Fit (noise)\")\n",
    "#        def give_ilin_R(r1,r2,delta):\n",
    "#         return 1/(1/r1+(1/r2-1/r1)*delta)\n",
    "#        dlt=np.linspace(0,1,50)\n",
    "#        ax1.plot(dlt,give_ilin_R(R1,R2,dlt),linewidth=2,color=\"grey\",label=\"Fitted 1\")"
   ]
  },
  {
   "cell_type": "code",
   "execution_count": 99,
   "metadata": {},
   "outputs": [
    {
     "data": {
      "image/png": "[encoded data removed]",
      "text/plain": [
       "<Figure size 640x480 with 1 Axes>"
      ]
     },
     "metadata": {},
     "output_type": "display_data"
    },
    {
     "name": "stdout",
     "output_type": "stream",
     "text": [
      "\n",
      "Circuit string: TLMthree\n",
      "Fit: True\n",
      "\n",
      "Initial guesses:\n",
      "  TLMthree_0 = 5.00e+02 [Ohm]\n",
      "  TLMthree_1 = 5.00e-04 [Ohm F]\n",
      "  TLMthree_2 = 1.00e-04 [Ohm F]\n",
      "  TLMthree_3 = 5.00e-04 []\n",
      "  TLMthree_4 = 3.00e-01 []\n",
      "  TLMthree_5 = 3.00e-01 []\n",
      "  TLMthree_6 = 9.80e-01 []\n",
      "\n",
      "Fit parameters:\n",
      "  TLMthree_0 = 5.00e+02  (+/- 3.72e-09) [Ohm]\n",
      "  TLMthree_1 = 5.00e-04  (+/- 3.87e-15) [Ohm F]\n",
      "  TLMthree_2 = 8.23e-05  (+/- 5.13e-08) [Ohm F]\n",
      "  TLMthree_3 = 2.08e-04  (+/- 3.17e-07) []\n",
      "  TLMthree_4 = 3.06e-01  (+/- 1.76e-05) []\n",
      "  TLMthree_5 = 4.25e-01  (+/- 1.91e-05) []\n",
      "  TLMthree_6 = 9.80e-01  (+/- 2.33e-13) []\n",
      "\n"
     ]
    }
   ],
   "source": [
    "fig, ax= plt.subplots()\n",
    "#profile_plotter(circuit=c1,ax=ax)\n",
    "profile_plotter(circuit=cthree,ax=ax)\n",
    "plt.show()\n",
    "print(cthree)"
   ]
  }
 ],
 "metadata": {
  "kernelspec": {
   "display_name": "Python 3",
   "language": "python",
   "name": "python3"
  },
  "language_info": {
   "codemirror_mode": {
    "name": "ipython",
    "version": 3
   },
   "file_extension": ".py",
   "mimetype": "text/x-python",
   "name": "python",
   "nbconvert_exporter": "python",
   "pygments_lexer": "ipython3",
   "version": "3.10.11"
  }
 },
 "nbformat": 4,
 "nbformat_minor": 2
}
