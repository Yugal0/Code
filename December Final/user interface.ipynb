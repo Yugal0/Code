{
 "cells": [
  {
   "cell_type": "code",
   "execution_count": 2,
   "metadata": {},
   "outputs": [],
   "source": [
    "import models\n",
    "from impedance import preprocessing\n",
    "from impedance.models.circuits import CustomCircuit\n",
    "import numpy as np\n",
    "import scipy as sp"
   ]
  },
  {
   "cell_type": "code",
   "execution_count": null,
   "metadata": {},
   "outputs": [],
   "source": [
    "# def MakeCircuit(initial_guess,circuit):\n",
    "#     CustomCircuit(initial_guess=[R1,R1*Q,R2*Q,delta,alpha],circuit=circuit)\n",
    "    "
   ]
  },
  {
   "cell_type": "code",
   "execution_count": 21,
   "metadata": {},
   "outputs": [
    {
     "name": "stdout",
     "output_type": "stream",
     "text": [
      "[9.03449295e+06-2.87474531e+08j 7.87973383e+06-2.50729500e+08j\n",
      " 6.87257617e+06-2.18681223e+08j 5.99415353e+06-1.90729362e+08j\n",
      " 5.22801098e+06-1.66350311e+08j 4.55979687e+06-1.45087393e+08j\n",
      " 3.97699398e+06-1.26542304e+08j 3.46868502e+06-1.10367651e+08j\n",
      " 3.02534818e+06-9.62604436e+07j 2.63867870e+06-8.39564215e+07j\n",
      " 2.30143337e+06-7.32251011e+07j 2.00729478e+06-6.38654594e+07j\n",
      " 1.75075303e+06-5.57021683e+07j 1.52700247e+06-4.85823101e+07j\n",
      " 1.33185173e+06-4.23725131e+07j 1.16164519e+06-3.69564531e+07j\n",
      " 1.01319447e+06-3.22326746e+07j 8.83718742e+05-2.81126900e+07j\n",
      " 7.70792616e+05-2.45193224e+07j 6.72300722e+05-2.13852595e+07j\n",
      " 5.86398074e+05-1.86517930e+07j 5.11475513e+05-1.62677184e+07j\n",
      " 4.46129564e+05-1.41883766e+07j 3.89136142e+05-1.23748165e+07j\n",
      " 3.39427627e+05-1.07930659e+07j 2.96072860e+05-9.41349484e+06j\n",
      " 2.58259705e+05-8.21026074e+06j 2.25279832e+05-7.16082417e+06j\n",
      " 1.96515451e+05-6.24552672e+06j 1.71427736e+05-5.44722270e+06j\n",
      " 1.49546737e+05-4.75095801e+06j 1.30462570e+05-4.14368996e+06j\n",
      " 1.13817743e+05-3.61404298e+06j 9.93004599e+04-3.15209555e+06j\n",
      " 8.66387780e+04-2.74919430e+06j 7.55955138e+04-2.39779194e+06j\n",
      " 6.59638011e+04-2.09130587e+06j 5.75632151e+04-1.82399489e+06j\n",
      " 5.02363930e+04-1.59085163e+06j 4.38460863e+04-1.38750878e+06j\n",
      " 3.82725894e+04-1.21015723e+06j 3.34114976e+04-1.05547478e+06j\n",
      " 2.91717511e+04-9.20563863e+05j 2.54739295e+04-8.02897276e+05j\n",
      " 2.22487640e+04-7.00270846e+05j 1.94358395e+04-6.10762141e+05j\n",
      " 1.69824634e+04-5.32694450e+05j 1.48426781e+04-4.64605381e+05j\n",
      " 1.29764004e+04-4.05219466e+05j 1.13486705e+04-3.53424267e+05j\n",
      " 9.92899730e+03-3.08249538e+05j 8.69078685e+03-2.68849049e+05j\n",
      " 7.61084458e+03-2.34484736e+05j 6.66894065e+03-2.04512875e+05j\n",
      " 5.84743095e+03-1.78372023e+05j 5.13092669e+03-1.55572499e+05j\n",
      " 4.50600605e+03-1.35687214e+05j 3.96096278e+03-1.18343670e+05j\n",
      " 3.48558695e+03-1.03216983e+05j 3.07097365e+03-9.00237929e+04j\n",
      " 2.70935618e+03-7.85169606e+04j 2.39396061e+03-6.84809360e+04j\n",
      " 2.11887883e+03-5.97277208e+04j 1.87895791e+03-5.20933466e+04j\n",
      " 1.66970355e+03-4.54348036e+04j 1.48719595e+03-3.96273615e+04j\n",
      " 1.32801628e+03-3.45622333e+04j 1.18918275e+03-3.01445372e+04j\n",
      " 1.06809466e+03-2.62915193e+04j 9.62483755e+02-2.29310035e+04j\n",
      " 8.70371679e+02-2.00000395e+04j 7.90032949e+02-1.74437234e+04j\n",
      " 7.19962621e+02-1.52141693e+04j 6.58848098e+02-1.32696124e+04j\n",
      " 6.05544543e+02-1.15736267e+04j 5.59053431e+02-1.00944422e+04j\n",
      " 5.18503841e+02-8.80435049e+03j 4.83136142e+02-7.67918496e+03j\n",
      " 4.52287759e+02-6.69786865e+03j 4.25380756e+02-5.84201919e+03j\n",
      " 4.01911007e+02-5.09560448e+03j 3.81438743e+02-4.44464241e+03j\n",
      " 3.63580306e+02-3.87693891e+03j 3.48000951e+02-3.38185953e+03j\n",
      " 3.34408555e+02-2.95013024e+03j 3.22548129e+02-2.57366369e+03j\n",
      " 3.12197010e+02-2.24540773e+03j 3.03160657e+02-1.95921325e+03j\n",
      " 2.95268955e+02-1.70971905e+03j 2.88372971e+02-1.49225135e+03j\n",
      " 2.82342077e+02-1.30273625e+03j 2.77061403e+02-1.13762334e+03j\n",
      " 2.72429545e+02-9.93819207e+02j 2.68356485e+02-8.68629383e+02j\n",
      " 2.64761677e+02-7.59707791e+02j 2.61572238e+02-6.65012663e+02j\n",
      " 2.58721207e+02-5.82768085e+02j 2.56145805e+02-5.11430442e+02j\n",
      " 2.53785662e+02-4.49659072e+02j 2.51580941e+02-3.96290530e+02j]\n"
     ]
    },
    {
     "name": "stderr",
     "output_type": "stream",
     "text": [
      "C:\\Users\\admin\\AppData\\Local\\Packages\\PythonSoftwareFoundation.Python.3.10_qbz5n2kfra8p0\\LocalCache\\local-packages\\Python310\\site-packages\\impedance\\models\\circuits\\circuits.py:145: UserWarning: Simulating circuit based on initial parameters\n",
      "  warnings.warn(\"Simulating circuit based on initial parameters\")\n"
     ]
    }
   ],
   "source": [
    "R1=500\n",
    "R2=100\n",
    "Q=1e-6\n",
    "alpha=0.98\n",
    "delta1=0.3\n",
    "delta2=0.4\n",
    "R3=1000\n",
    "c1=CustomCircuit(initial_guess=[R1,R1*Q,R2*Q,delta1,alpha],circuit=\"TLMtwo\")\n",
    "f=np.logspace(-3,3,100)\n",
    "zout=c1.predict(frequencies=f)\n",
    "print(zout)\n"
   ]
  },
  {
   "cell_type": "code",
   "execution_count": 18,
   "metadata": {},
   "outputs": [],
   "source": [
    "cthree=CustomCircuit(initial_guess=[R1, R1*Q, R2*Q, R3*Q, delta1, delta2, alpha],circuit=\"TLMthree\")\n",
    "clin=CustomCircuit(initial_guess=[R1, R1*Q, R2*Q, alpha],circuit=\"TLMlin\")\n",
    "cilin=CustomCircuit(initial_guess=[R1, R1*Q, R2*Q, alpha],circuit=\"TLMilin\")"
   ]
  },
  {
   "cell_type": "code",
   "execution_count": 20,
   "metadata": {},
   "outputs": [
    {
     "ename": "KeyboardInterrupt",
     "evalue": "",
     "output_type": "error",
     "traceback": [
      "\u001b[1;31m---------------------------------------------------------------------------\u001b[0m",
      "\u001b[1;31mKeyboardInterrupt\u001b[0m                         Traceback (most recent call last)",
      "\u001b[1;32mc:\\Users\\admin\\OneDrive - Indian Institute of Technology Bombay\\Documents\\Code\\December Final\\user interface.ipynb Cell 5\u001b[0m line \u001b[0;36m3\n\u001b[0;32m      <a href='vscode-notebook-cell:/c%3A/Users/admin/OneDrive%20-%20Indian%20Institute%20of%20Technology%20Bombay/Documents/Code/December%20Final/user%20interface.ipynb#W2sZmlsZQ%3D%3D?line=0'>1</a>\u001b[0m cthree\u001b[39m.\u001b[39mfit(impedance\u001b[39m=\u001b[39mzout,frequencies\u001b[39m=\u001b[39mf,bounds\u001b[39m=\u001b[39m[(\u001b[39m0\u001b[39m,\u001b[39m0\u001b[39m,\u001b[39m0\u001b[39m,\u001b[39m0\u001b[39m,\u001b[39m0\u001b[39m,\u001b[39m0\u001b[39m,\u001b[39m0.5\u001b[39m),(np\u001b[39m.\u001b[39minf,np\u001b[39m.\u001b[39minf,np\u001b[39m.\u001b[39minf,np\u001b[39m.\u001b[39minf,\u001b[39m1\u001b[39m,\u001b[39m1\u001b[39m,\u001b[39m1\u001b[39m)])\n\u001b[0;32m      <a href='vscode-notebook-cell:/c%3A/Users/admin/OneDrive%20-%20Indian%20Institute%20of%20Technology%20Bombay/Documents/Code/December%20Final/user%20interface.ipynb#W2sZmlsZQ%3D%3D?line=1'>2</a>\u001b[0m clin\u001b[39m.\u001b[39mfit(impedance\u001b[39m=\u001b[39mzout,frequencies\u001b[39m=\u001b[39mf,bounds\u001b[39m=\u001b[39m[(\u001b[39m0\u001b[39m,\u001b[39m0\u001b[39m,\u001b[39m0\u001b[39m,\u001b[39m0.5\u001b[39m),(np\u001b[39m.\u001b[39minf,np\u001b[39m.\u001b[39minf,np\u001b[39m.\u001b[39minf,\u001b[39m1\u001b[39m)])\n\u001b[1;32m----> <a href='vscode-notebook-cell:/c%3A/Users/admin/OneDrive%20-%20Indian%20Institute%20of%20Technology%20Bombay/Documents/Code/December%20Final/user%20interface.ipynb#W2sZmlsZQ%3D%3D?line=2'>3</a>\u001b[0m cilin\u001b[39m.\u001b[39;49mfit(impedance\u001b[39m=\u001b[39;49mzout,frequencies\u001b[39m=\u001b[39;49mf,bounds\u001b[39m=\u001b[39;49m[(\u001b[39m0\u001b[39;49m,\u001b[39m0\u001b[39;49m,\u001b[39m0\u001b[39;49m,\u001b[39m0.5\u001b[39;49m),(np\u001b[39m.\u001b[39;49minf,np\u001b[39m.\u001b[39;49minf,np\u001b[39m.\u001b[39;49minf,\u001b[39m1\u001b[39;49m)])\n\u001b[0;32m      <a href='vscode-notebook-cell:/c%3A/Users/admin/OneDrive%20-%20Indian%20Institute%20of%20Technology%20Bombay/Documents/Code/December%20Final/user%20interface.ipynb#W2sZmlsZQ%3D%3D?line=3'>4</a>\u001b[0m \u001b[39mprint\u001b[39m(cthree)\n",
      "File \u001b[1;32m~\\AppData\\Local\\Packages\\PythonSoftwareFoundation.Python.3.10_qbz5n2kfra8p0\\LocalCache\\local-packages\\Python310\\site-packages\\impedance\\models\\circuits\\circuits.py:100\u001b[0m, in \u001b[0;36mBaseCircuit.fit\u001b[1;34m(self, frequencies, impedance, bounds, weight_by_modulus, **kwargs)\u001b[0m\n\u001b[0;32m     97\u001b[0m     \u001b[39mraise\u001b[39;00m \u001b[39mTypeError\u001b[39;00m(\u001b[39m'\u001b[39m\u001b[39mlength of frequencies and impedance do not match\u001b[39m\u001b[39m'\u001b[39m)\n\u001b[0;32m     99\u001b[0m \u001b[39mif\u001b[39;00m \u001b[39mself\u001b[39m\u001b[39m.\u001b[39minitial_guess \u001b[39m!=\u001b[39m []:\n\u001b[1;32m--> 100\u001b[0m     parameters, conf \u001b[39m=\u001b[39m circuit_fit(frequencies, impedance,\n\u001b[0;32m    101\u001b[0m                                    \u001b[39mself\u001b[39m\u001b[39m.\u001b[39mcircuit, \u001b[39mself\u001b[39m\u001b[39m.\u001b[39minitial_guess,\n\u001b[0;32m    102\u001b[0m                                    constants\u001b[39m=\u001b[39m\u001b[39mself\u001b[39m\u001b[39m.\u001b[39mconstants,\n\u001b[0;32m    103\u001b[0m                                    bounds\u001b[39m=\u001b[39mbounds,\n\u001b[0;32m    104\u001b[0m                                    weight_by_modulus\u001b[39m=\u001b[39mweight_by_modulus,\n\u001b[0;32m    105\u001b[0m                                    \u001b[39m*\u001b[39m\u001b[39m*\u001b[39mkwargs)\n\u001b[0;32m    106\u001b[0m     \u001b[39mself\u001b[39m\u001b[39m.\u001b[39mparameters_ \u001b[39m=\u001b[39m parameters\n\u001b[0;32m    107\u001b[0m     \u001b[39mif\u001b[39;00m conf \u001b[39mis\u001b[39;00m \u001b[39mnot\u001b[39;00m \u001b[39mNone\u001b[39;00m:\n",
      "File \u001b[1;32m~\\AppData\\Local\\Packages\\PythonSoftwareFoundation.Python.3.10_qbz5n2kfra8p0\\LocalCache\\local-packages\\Python310\\site-packages\\impedance\\models\\circuits\\fitting.py:152\u001b[0m, in \u001b[0;36mcircuit_fit\u001b[1;34m(frequencies, impedances, circuit, initial_guess, constants, bounds, weight_by_modulus, global_opt, **kwargs)\u001b[0m\n\u001b[0;32m    149\u001b[0m     abs_Z \u001b[39m=\u001b[39m np\u001b[39m.\u001b[39mabs(Z)\n\u001b[0;32m    150\u001b[0m     kwargs[\u001b[39m'\u001b[39m\u001b[39msigma\u001b[39m\u001b[39m'\u001b[39m] \u001b[39m=\u001b[39m np\u001b[39m.\u001b[39mhstack([abs_Z, abs_Z])\n\u001b[1;32m--> 152\u001b[0m popt, pcov \u001b[39m=\u001b[39m curve_fit(wrapCircuit(circuit, constants), f,\n\u001b[0;32m    153\u001b[0m                        np\u001b[39m.\u001b[39mhstack([Z\u001b[39m.\u001b[39mreal, Z\u001b[39m.\u001b[39mimag]),\n\u001b[0;32m    154\u001b[0m                        p0\u001b[39m=\u001b[39minitial_guess, bounds\u001b[39m=\u001b[39mbounds, \u001b[39m*\u001b[39m\u001b[39m*\u001b[39mkwargs)\n\u001b[0;32m    156\u001b[0m \u001b[39m# Calculate one standard deviation error estimates for fit parameters,\u001b[39;00m\n\u001b[0;32m    157\u001b[0m \u001b[39m# defined as the square root of the diagonal of the covariance matrix.\u001b[39;00m\n\u001b[0;32m    158\u001b[0m \u001b[39m# https://stackoverflow.com/a/52275674/5144795\u001b[39;00m\n\u001b[0;32m    159\u001b[0m perror \u001b[39m=\u001b[39m np\u001b[39m.\u001b[39msqrt(np\u001b[39m.\u001b[39mdiag(pcov))\n",
      "File \u001b[1;32m~\\AppData\\Local\\Packages\\PythonSoftwareFoundation.Python.3.10_qbz5n2kfra8p0\\LocalCache\\local-packages\\Python310\\site-packages\\scipy\\optimize\\_minpack_py.py:870\u001b[0m, in \u001b[0;36mcurve_fit\u001b[1;34m(f, xdata, ydata, p0, sigma, absolute_sigma, check_finite, bounds, method, jac, full_output, **kwargs)\u001b[0m\n\u001b[0;32m    867\u001b[0m \u001b[39mif\u001b[39;00m \u001b[39m'\u001b[39m\u001b[39mmax_nfev\u001b[39m\u001b[39m'\u001b[39m \u001b[39mnot\u001b[39;00m \u001b[39min\u001b[39;00m kwargs:\n\u001b[0;32m    868\u001b[0m     kwargs[\u001b[39m'\u001b[39m\u001b[39mmax_nfev\u001b[39m\u001b[39m'\u001b[39m] \u001b[39m=\u001b[39m kwargs\u001b[39m.\u001b[39mpop(\u001b[39m'\u001b[39m\u001b[39mmaxfev\u001b[39m\u001b[39m'\u001b[39m, \u001b[39mNone\u001b[39;00m)\n\u001b[1;32m--> 870\u001b[0m res \u001b[39m=\u001b[39m least_squares(func, p0, jac\u001b[39m=\u001b[39mjac, bounds\u001b[39m=\u001b[39mbounds, method\u001b[39m=\u001b[39mmethod,\n\u001b[0;32m    871\u001b[0m                     \u001b[39m*\u001b[39m\u001b[39m*\u001b[39mkwargs)\n\u001b[0;32m    873\u001b[0m \u001b[39mif\u001b[39;00m \u001b[39mnot\u001b[39;00m res\u001b[39m.\u001b[39msuccess:\n\u001b[0;32m    874\u001b[0m     \u001b[39mraise\u001b[39;00m \u001b[39mRuntimeError\u001b[39;00m(\u001b[39m\"\u001b[39m\u001b[39mOptimal parameters not found: \u001b[39m\u001b[39m\"\u001b[39m \u001b[39m+\u001b[39m res\u001b[39m.\u001b[39mmessage)\n",
      "File \u001b[1;32m~\\AppData\\Local\\Packages\\PythonSoftwareFoundation.Python.3.10_qbz5n2kfra8p0\\LocalCache\\local-packages\\Python310\\site-packages\\scipy\\optimize\\_lsq\\least_squares.py:938\u001b[0m, in \u001b[0;36mleast_squares\u001b[1;34m(fun, x0, jac, bounds, method, ftol, xtol, gtol, x_scale, loss, f_scale, diff_step, tr_solver, tr_options, jac_sparsity, max_nfev, verbose, args, kwargs)\u001b[0m\n\u001b[0;32m    934\u001b[0m     result \u001b[39m=\u001b[39m call_minpack(fun_wrapped, x0, jac_wrapped, ftol, xtol, gtol,\n\u001b[0;32m    935\u001b[0m                           max_nfev, x_scale, diff_step)\n\u001b[0;32m    937\u001b[0m \u001b[39melif\u001b[39;00m method \u001b[39m==\u001b[39m \u001b[39m'\u001b[39m\u001b[39mtrf\u001b[39m\u001b[39m'\u001b[39m:\n\u001b[1;32m--> 938\u001b[0m     result \u001b[39m=\u001b[39m trf(fun_wrapped, jac_wrapped, x0, f0, J0, lb, ub, ftol, xtol,\n\u001b[0;32m    939\u001b[0m                  gtol, max_nfev, x_scale, loss_function, tr_solver,\n\u001b[0;32m    940\u001b[0m                  tr_options\u001b[39m.\u001b[39;49mcopy(), verbose)\n\u001b[0;32m    942\u001b[0m \u001b[39melif\u001b[39;00m method \u001b[39m==\u001b[39m \u001b[39m'\u001b[39m\u001b[39mdogbox\u001b[39m\u001b[39m'\u001b[39m:\n\u001b[0;32m    943\u001b[0m     \u001b[39mif\u001b[39;00m tr_solver \u001b[39m==\u001b[39m \u001b[39m'\u001b[39m\u001b[39mlsmr\u001b[39m\u001b[39m'\u001b[39m \u001b[39mand\u001b[39;00m \u001b[39m'\u001b[39m\u001b[39mregularize\u001b[39m\u001b[39m'\u001b[39m \u001b[39min\u001b[39;00m tr_options:\n",
      "File \u001b[1;32m~\\AppData\\Local\\Packages\\PythonSoftwareFoundation.Python.3.10_qbz5n2kfra8p0\\LocalCache\\local-packages\\Python310\\site-packages\\scipy\\optimize\\_lsq\\trf.py:123\u001b[0m, in \u001b[0;36mtrf\u001b[1;34m(fun, jac, x0, f0, J0, lb, ub, ftol, xtol, gtol, max_nfev, x_scale, loss_function, tr_solver, tr_options, verbose)\u001b[0m\n\u001b[0;32m    119\u001b[0m     \u001b[39mreturn\u001b[39;00m trf_no_bounds(\n\u001b[0;32m    120\u001b[0m         fun, jac, x0, f0, J0, ftol, xtol, gtol, max_nfev, x_scale,\n\u001b[0;32m    121\u001b[0m         loss_function, tr_solver, tr_options, verbose)\n\u001b[0;32m    122\u001b[0m \u001b[39melse\u001b[39;00m:\n\u001b[1;32m--> 123\u001b[0m     \u001b[39mreturn\u001b[39;00m trf_bounds(\n\u001b[0;32m    124\u001b[0m         fun, jac, x0, f0, J0, lb, ub, ftol, xtol, gtol, max_nfev, x_scale,\n\u001b[0;32m    125\u001b[0m         loss_function, tr_solver, tr_options, verbose)\n",
      "File \u001b[1;32m~\\AppData\\Local\\Packages\\PythonSoftwareFoundation.Python.3.10_qbz5n2kfra8p0\\LocalCache\\local-packages\\Python310\\site-packages\\scipy\\optimize\\_lsq\\trf.py:300\u001b[0m, in \u001b[0;36mtrf_bounds\u001b[1;34m(fun, jac, x0, f0, J0, lb, ub, ftol, xtol, gtol, max_nfev, x_scale, loss_function, tr_solver, tr_options, verbose)\u001b[0m\n\u001b[0;32m    298\u001b[0m J_augmented[:m] \u001b[39m=\u001b[39m J \u001b[39m*\u001b[39m d\n\u001b[0;32m    299\u001b[0m J_h \u001b[39m=\u001b[39m J_augmented[:m]  \u001b[39m# Memory view.\u001b[39;00m\n\u001b[1;32m--> 300\u001b[0m J_augmented[m:] \u001b[39m=\u001b[39m np\u001b[39m.\u001b[39;49mdiag(diag_h\u001b[39m*\u001b[39;49m\u001b[39m*\u001b[39;49m\u001b[39m0.5\u001b[39;49m)\n\u001b[0;32m    301\u001b[0m U, s, V \u001b[39m=\u001b[39m svd(J_augmented, full_matrices\u001b[39m=\u001b[39m\u001b[39mFalse\u001b[39;00m)\n\u001b[0;32m    302\u001b[0m V \u001b[39m=\u001b[39m V\u001b[39m.\u001b[39mT\n",
      "File \u001b[1;32m<__array_function__ internals>:180\u001b[0m, in \u001b[0;36mdiag\u001b[1;34m(*args, **kwargs)\u001b[0m\n",
      "File \u001b[1;32m~\\AppData\\Local\\Packages\\PythonSoftwareFoundation.Python.3.10_qbz5n2kfra8p0\\LocalCache\\local-packages\\Python310\\site-packages\\numpy\\lib\\twodim_base.py:236\u001b[0m, in \u001b[0;36m_diag_dispatcher\u001b[1;34m(v, k)\u001b[0m\n\u001b[0;32m    228\u001b[0m     \u001b[39mreturn\u001b[39;00m m\n\u001b[0;32m    231\u001b[0m _eye_with_like \u001b[39m=\u001b[39m array_function_dispatch(\n\u001b[0;32m    232\u001b[0m     _eye_dispatcher\n\u001b[0;32m    233\u001b[0m )(eye)\n\u001b[1;32m--> 236\u001b[0m \u001b[39mdef\u001b[39;00m \u001b[39m_diag_dispatcher\u001b[39m(v, k\u001b[39m=\u001b[39m\u001b[39mNone\u001b[39;00m):\n\u001b[0;32m    237\u001b[0m     \u001b[39mreturn\u001b[39;00m (v,)\n\u001b[0;32m    240\u001b[0m \u001b[39m@array_function_dispatch\u001b[39m(_diag_dispatcher)\n\u001b[0;32m    241\u001b[0m \u001b[39mdef\u001b[39;00m \u001b[39mdiag\u001b[39m(v, k\u001b[39m=\u001b[39m\u001b[39m0\u001b[39m):\n",
      "\u001b[1;31mKeyboardInterrupt\u001b[0m: "
     ]
    }
   ],
   "source": [
    "cthree.fit(impedance=zout,frequencies=f,bounds=[(0,0,0,0,0,0,0.5),(np.inf,np.inf,np.inf,np.inf,1,1,1)])\n",
    "clin.fit(impedance=zout,frequencies=f,bounds=[(0,0,0,0.5),(np.inf,np.inf,np.inf,1)])\n",
    "cilin.fit(impedance=zout,frequencies=f,bounds=[(0,0,0,0.5),(np.inf,np.inf,np.inf,1)])\n",
    "print(cthree)"
   ]
  },
  {
   "cell_type": "markdown",
   "metadata": {},
   "source": [
    "### Notes\n",
    "Change the print function to directly print name of the parameters\n"
   ]
  },
  {
   "cell_type": "code",
   "execution_count": null,
   "metadata": {},
   "outputs": [],
   "source": []
  }
 ],
 "metadata": {
  "kernelspec": {
   "display_name": "Python 3",
   "language": "python",
   "name": "python3"
  },
  "language_info": {
   "codemirror_mode": {
    "name": "ipython",
    "version": 3
   },
   "file_extension": ".py",
   "mimetype": "text/x-python",
   "name": "python",
   "nbconvert_exporter": "python",
   "pygments_lexer": "ipython3",
   "version": "3.10.11"
  }
 },
 "nbformat": 4,
 "nbformat_minor": 2
}
