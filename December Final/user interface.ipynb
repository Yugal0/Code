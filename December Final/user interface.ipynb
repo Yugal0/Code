{
 "cells": [
  {
   "cell_type": "code",
   "execution_count": 1,
   "metadata": {},
   "outputs": [],
   "source": [
    "import models\n",
    "from impedance import preprocessing\n",
    "from impedance.models.circuits import CustomCircuit\n",
    "import numpy as np\n",
    "import scipy as sp"
   ]
  },
  {
   "cell_type": "code",
   "execution_count": 2,
   "metadata": {},
   "outputs": [],
   "source": [
    "# def MakeCircuit(initial_guess,circuit):\n",
    "#     CustomCircuit(initial_guess=[R1,R1*Q,R2*Q,delta,alpha],circuit=circuit)\n",
    "    "
   ]
  },
  {
   "cell_type": "code",
   "execution_count": 7,
   "metadata": {},
   "outputs": [],
   "source": [
    "R1=500\n",
    "R2=100\n",
    "Q=1e-6\n",
    "alpha=0.98\n",
    "delta1=0.3\n",
    "delta2=0.4\n",
    "R3=1000\n",
    "c1=CustomCircuit(initial_guess=[R1,R1*Q,R2*Q,delta1,alpha],circuit=\"TLMtwo\")\n",
    "f=np.logspace(-3,3,100)\n",
    "zout=c1.predict(frequencies=f)\n"
   ]
  },
  {
   "cell_type": "code",
   "execution_count": 4,
   "metadata": {},
   "outputs": [],
   "source": [
    "cthree=CustomCircuit(initial_guess=[R1, R1*Q, R2*Q, R3*Q, delta1, delta2, alpha],circuit=\"TLMthree\")\n",
    "clin=CustomCircuit(initial_guess=[R1, R1*Q, R2*Q, alpha],circuit=\"TLMlin\")\n",
    "cilin=CustomCircuit(initial_guess=[R1, R1*Q, R2*Q, alpha],circuit=\"TLMilin\")"
   ]
  },
  {
   "cell_type": "code",
   "execution_count": 6,
   "metadata": {},
   "outputs": [
    {
     "name": "stdout",
     "output_type": "stream",
     "text": [
      "\n",
      "Circuit string: TLMthree\n",
      "Fit: True\n",
      "\n",
      "Initial guesses:\n",
      "  TLMthree_0 = 5.00e+02 [Ohm]\n",
      "  TLMthree_1 = 5.00e-04 [Ohm F]\n",
      "  TLMthree_2 = 1.00e-04 [Ohm F]\n",
      "  TLMthree_3 = 1.00e-03 []\n",
      "  TLMthree_4 = 3.00e-01 []\n",
      "  TLMthree_5 = 4.00e-01 []\n",
      "  TLMthree_6 = 9.80e-01 []\n",
      "\n",
      "Fit parameters:\n",
      "  TLMthree_0 = 5.00e+02  (+/- 4.06e-09) [Ohm]\n",
      "  TLMthree_1 = 5.00e-04  (+/- 4.17e-15) [Ohm F]\n",
      "  TLMthree_2 = 8.36e-05  (+/- 6.67e-08) [Ohm F]\n",
      "  TLMthree_3 = 4.52e-04  (+/- 1.37e-06) []\n",
      "  TLMthree_4 = 3.06e-01  (+/- 2.54e-05) []\n",
      "  TLMthree_5 = 5.19e-01  (+/- 2.31e-05) []\n",
      "  TLMthree_6 = 9.80e-01  (+/- 3.04e-13) []\n",
      "\n"
     ]
    }
   ],
   "source": [
    "cthree.fit(impedance=zout,frequencies=f,bounds=[(0,0,0,0,0,0,0.5),(np.inf,np.inf,np.inf,np.inf,1,1,1)])\n",
    "clin.fit(impedance=zout,frequencies=f,bounds=[(0,0,0,0.5),(np.inf,np.inf,np.inf,1)])\n",
    "#cilin.fit(impedance=zout,frequencies=f,bounds=[(0,0,0,0.5),(np.inf,np.inf,np.inf,1)])\n",
    "print(cthree)"
   ]
  },
  {
   "cell_type": "markdown",
   "metadata": {},
   "source": [
    "### Notes\n",
    "Change the print function to directly print name of the parameters\n"
   ]
  },
  {
   "cell_type": "code",
   "execution_count": null,
   "metadata": {},
   "outputs": [],
   "source": []
  }
 ],
 "metadata": {
  "kernelspec": {
   "display_name": "Python 3",
   "language": "python",
   "name": "python3"
  },
  "language_info": {
   "codemirror_mode": {
    "name": "ipython",
    "version": 3
   },
   "file_extension": ".py",
   "mimetype": "text/x-python",
   "name": "python",
   "nbconvert_exporter": "python",
   "pygments_lexer": "ipython3",
   "version": "3.11.4"
  }
 },
 "nbformat": 4,
 "nbformat_minor": 2
}
