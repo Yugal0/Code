{
 "cells": [
  {
   "cell_type": "code",
   "execution_count": null,
   "metadata": {},
   "outputs": [],
   "source": [
    "%matplotlib ipympl\n",
    "from impedance.models.circuits import CustomCircuit\n",
    "from impedance.models.circuits.elements import element\n",
    "from impedance.visualization import plot_nyquist, plot_bode\n",
    "import numpy as np\n",
    "import matplotlib.pyplot as plt\n",
    "import os\n",
    "import shutil"
   ]
  },
  {
   "cell_type": "code",
   "execution_count": null,
   "metadata": {},
   "outputs": [],
   "source": [
    "@element(num_params=5, units=[\"Ohm\", \"Ohm\", \"F\", \"\"],overwrite=True)\n",
    "def TLMtwoNewAplha(p, f):\n",
    "   \n",
    "    omega = 2 * np.pi * np.array(f)\n",
    "    R1, R2, Q, delta1,alpha = p[0], p[1], p[2], p[3], p[4]\n",
    "    delta2=1-delta1\n",
    "    k12=R2/R1\n",
    "    CTotal1=Q\n",
    "    CTotal2=Q\n",
    "    wc1=1/(R1*CTotal1)\n",
    "    wc2=1/(R2*CTotal2)\n",
    "    S1=np.sqrt((omega*1j)^alpha/wc1)\n",
    "    S2=np.sqrt((omega*1j)^alpha/wc2)\n",
    "    C1=1/np.tanh(delta1*S1)\n",
    "    C2=1/np.tanh(delta2*S2)\n",
    "\n",
    "    Z=2*(R1)*(C1*C2*S1*k12+S2)/(S1*(C2*S1*k12+C1*S2))\n",
    "\n",
    "    return Z"
   ]
  }
 ],
 "metadata": {
  "language_info": {
   "name": "python"
  },
  "orig_nbformat": 4
 },
 "nbformat": 4,
 "nbformat_minor": 2
}
