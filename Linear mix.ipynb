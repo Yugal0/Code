{
 "cells": [
  {
   "cell_type": "code",
   "execution_count": 351,
   "metadata": {},
   "outputs": [],
   "source": [
    "%matplotlib ipympl"
   ]
  },
  {
   "cell_type": "code",
   "execution_count": 352,
   "metadata": {},
   "outputs": [],
   "source": [
    "from impedance.models.circuits import CustomCircuit\n",
    "from impedance.models.circuits.elements import element\n",
    "import numpy as np\n",
    "import scipy\n",
    "from impedance.visualization import plot_nyquist\n",
    "import matplotlib.pyplot as plt\n"
   ]
  },
  {
   "cell_type": "code",
   "execution_count": 353,
   "metadata": {},
   "outputs": [],
   "source": [
    "def find_index_of_nearest(array, value):\n",
    "    array = np.asarray(array)\n",
    "    idx = (np.abs(array - value)).argmin()\n",
    "    return idx"
   ]
  },
  {
   "cell_type": "code",
   "execution_count": 354,
   "metadata": {},
   "outputs": [],
   "source": [
    "@element(num_params=3, units=[\"Ohm\", \"Ohm\", \"F\"],overwrite=True)\n",
    "def TLMlinNew(p,f):\n",
    "    omega = 2 * np.pi * np.array(f)\n",
    "    R1, R2, Q = p[0], p[1], p[2]\n",
    "    t12=R1/R2\n",
    "    Rion1=R1\n",
    "    wclin=1/(Rion1*Q)\n",
    "    S=np.sqrt(1j*omega/wclin)\n",
    "\n",
    "    Z = (2*R1/S)*(scipy.special.iv(1/3, -2/3*(S*(t12**(-1/2)/(t12-1))))*scipy.special.iv(2/3, -2/3*(t12*S/(t12-1)))-scipy.special.iv(-1/3, -2/3*(S*t12**(-1/2)/(t12-1)))*scipy.special.iv(-2/3, -2/3*(t12*S/(t12-1))))/((scipy.special.iv(-1/3, -2/3*(S*t12**(-1/2)/(t12-1))))*scipy.special.iv(1/3, -2/3*(t12*S/(t12-1)))-scipy.special.iv(1/3, -2/3*(S*t12**(-1/2)/(t12-1)))*scipy.special.iv(-1/3, -2/3*(t12*S/(t12-1))))\n",
    "    return Z\n",
    "\n",
    "@element(num_params=3, units=[\"Ohm\", \"Ohm\", \"F\"],overwrite=True)\n",
    "def TLMlinzertNew(p,f):\n",
    "    omega = 2 * np.pi * np.array(f)\n",
    "    R1, R2, Q = p[0], p[1], p[2]\n",
    "    tlin1=R1\n",
    "    tlin2=R2\n",
    "    eps=(tlin2-tlin1)/tlin1\n",
    "    S=np.sqrt((R1*Q*omega*1j))\n",
    "\n",
    "    Z=2*(R1)*((np.exp(2*S)+1)**2\n",
    "        /(eps*(S**2+0.5)*np.exp(2*S)+(-eps/4+S)*np.exp(4*S)-eps/4-S))\n",
    "    \n",
    "    return Z\n",
    "\n",
    "@element(num_params=3, units=[\"Ohm\", \"Ohm\", \"F\"],overwrite=True)\n",
    "def TLMlinsemiNew(p,f):\n",
    "    omega = 2 * np.pi * np.array(f)\n",
    "    R1, R2, Q = p[0], p[1], p[2]\n",
    "    tlin1=R1\n",
    "    tlin2=R2\n",
    "    t12=tlin1/tlin2\n",
    "    Rion1=R1\n",
    "    Rion2=R2\n",
    "    wclin1=1/(Rion1*Q)\n",
    "    wclin2=1/(Rion2*Q)\n",
    "    S1=np.sqrt(1j*omega/wclin1)\n",
    "    kk=-(2/3)*t12*S1/(t12-1)\n",
    "\n",
    "    Z = (2*R1/S1)*(scipy.special.iv(-2/3,kk)-scipy.special.iv(2/3,kk))/(scipy.special.iv(-1/3,kk)-scipy.special.iv(1/3,kk))\n",
    "    \n",
    "    return Z\n",
    "\n",
    "@element(num_params=3, units=[\"Ohm\", \"Ohm\", \"F\"],overwrite=True)\n",
    "def TLMlinNewMix(p,f):\n",
    "    omega = 2 * np.pi * np.array(f)\n",
    "    R1, R2, Q = p[0], p[1], p[2]\n",
    "    t12_lin=R1/R2\n",
    "    Rion1_lin=R1\n",
    "    wc_lin=1/(Rion1_lin*Q)\n",
    "    \n",
    "    wclin_new=wc_lin*100\n",
    "    idx=find_index_of_nearest(omega,wclin_new)\n",
    "    omega_low=omega[0:idx]\n",
    "    omega_high=omega[idx:len(omega)]\n",
    "\n",
    "    S_lin=np.sqrt(1j*omega_low/wc_lin)\n",
    "    kk1_lin=-2/3*(S_lin*(t12_lin**(-1/2)/(t12_lin-1)))   \n",
    "    kk2_lin=-2/3*(t12_lin*S_lin/(t12_lin-1))\n",
    "\n",
    "    Z_lin = (2*Rion1_lin/S_lin)*(scipy.special.iv(1/3, kk1_lin)*scipy.special.iv(2/3, kk2_lin)-scipy.special.iv(-1/3, kk1_lin)*scipy.special.iv(-2/3,kk2_lin))/((scipy.special.iv(-1/3, kk1_lin))*scipy.special.iv(1/3, kk2_lin)-scipy.special.iv(1/3, kk1_lin)*scipy.special.iv(-1/3, kk2_lin))\n",
    "\n",
    "    #calc Z semi\n",
    "    tlin1=R1\n",
    "    tlin2=R2\n",
    "    t12=tlin1/tlin2\n",
    "    Rion1=R1\n",
    "    wc_semi=1/(Rion1*Q)\n",
    "    S1_semi=np.sqrt(1j*omega_high/wc_semi)\n",
    "    kk=-(2/3)*t12*S1_semi/(t12-1)\n",
    "\n",
    "    Z_semi = (2*R1/S1_semi)*(scipy.special.iv(-2/3,kk)-scipy.special.iv(2/3,kk))/(scipy.special.iv(-1/3,kk)-scipy.special.iv(1/3,kk))\n",
    "\n",
    "    # #calc Z pert\n",
    "    # tlin1=R1\n",
    "    # tlin2=R2   \n",
    "    # eps=(tlin2-tlin1)/tlin1\n",
    "    # S_pert=np.sqrt((R1*Q*omega_high*1j))\n",
    "    # Z_pert=2*(R1)*((np.exp(2*S_pert)+1)**2\n",
    "    #     /(eps*(S_pert**2+0.5)*np.exp(2*S_pert)+(-eps/4+S_pert)*np.exp(4*S_pert)-eps/4-S_pert))   \n",
    "\n",
    "    # eps_c=0.05 #i.e. 5% diff between t1 and t2\n",
    "    # if eps<eps_c:\n",
    "    #     Z_high=Z_pert\n",
    "    # else:\n",
    "    #     Z_high=Z_semi\n",
    "    Z_high=Z_semi\n",
    "    Z_low=Z_lin\n",
    "\n",
    "    return np.append(Z_low,Z_high)\n",
    "\n",
    "@element(num_params=3, units=[\"Ohm\", \"Ohm\", \"F\"],overwrite=True)\n",
    "def TLMlinzertNewSecondFirst(p,f):\n",
    "    omega = 2 * np.pi * np.array(f)\n",
    "    R1, R2, Q = p[0], p[1], p[2]\n",
    "    tlin1=R1\n",
    "    tlin2=R2\n",
    "    eps=(tlin2-tlin1)/tlin1\n",
    "    S=np.sqrt((R1*Q*omega*1j))\n",
    "    #first expansion\n",
    "    Z=2*4*R1*(np.exp(4*S)+2*np.exp(2*S)+1)*(np.exp(2*S)+1)*S/((((S**4+2*S**3+2*S**2+3/2*S+9/8)*eps**2+(4*S**3+S)*eps-4*S**2)*np.exp(2*S)+((-S**4+2*S**3-2*S**2+3/2*S-9/8)*eps**2+(4*S**3+S)*eps+4*S**2)*np.exp(4*S)+(-(1/8)*eps**2-S*eps+4*S**2)*np.exp(6*S)-4*S**2-S*eps+(1/8)*eps**2))\n",
    "    return Z\n",
    "\n",
    "@element(num_params=3, units=[\"Ohm\", \"Ohm\", \"F\"],overwrite=True)\n",
    "def TLMlinzertNewSecondSecond(p,f):\n",
    "    omega = 2 * np.pi * np.array(f)\n",
    "    R1, R2, Q = p[0], p[1], p[2]\n",
    "    tlin1=R1\n",
    "    tlin2=R2\n",
    "    eps=(tlin2-tlin1)/tlin1\n",
    "    S=np.sqrt((R1*Q*omega*1j))\n",
    "\n",
    "    #second expansion\n",
    "    Z=2*4*R1*(np.exp(4*S)+2*np.exp(2*S)+1)*(np.exp(2*S)+1)*S/((((S**4-2/3*(S**3)+2*S**2-5/2*S+1/8)*eps**2+(4*S**3+S)*eps-4*S**2)*np.exp(2*S)+((-S**4-2/3*(S**3)-2*S**2-5/2*S-1/8)*eps**2+(4*S**3+S)*eps+4*S**2)*np.exp(4*S)+(4*S**2-S*eps+7/8*(eps**2))*np.exp(6*S)-4*S**2-S*eps-7*eps**2*(1/8)))\n",
    "    return Z"
   ]
  },
  {
   "cell_type": "code",
   "execution_count": 355,
   "metadata": {},
   "outputs": [],
   "source": [
    "# Rref=194.56\n",
    "# t1=6.26\n",
    "# R1=Rref*t1\n",
    "# t2=2 \n",
    "# R2=Rref*t2\n",
    "# Q=6.61e-4"
   ]
  },
  {
   "cell_type": "code",
   "execution_count": 356,
   "metadata": {},
   "outputs": [],
   "source": [
    "initial_guess=[100,1,6.61e-4]\n",
    "tlmlin=CustomCircuit(initial_guess=initial_guess,circuit='TLMlinNew_0')\n",
    "tlmlin_zert=CustomCircuit(initial_guess=initial_guess,circuit='TLMlinzertNew_0')\n",
    "tlmlin_semi=CustomCircuit(initial_guess=initial_guess,circuit='TLMlinsemiNew_0')\n",
    "tlmlin_mix=CustomCircuit(initial_guess=initial_guess,circuit='TLMlinNewMix_0')\n",
    "tlmlin_zert_21=CustomCircuit(initial_guess=initial_guess,circuit='TLMlinzertNewSecondFirst')\n",
    "tlmlin_zert_22=CustomCircuit(initial_guess=initial_guess,circuit='TLMlinzertNewSecondSecond')\n"
   ]
  },
  {
   "cell_type": "code",
   "execution_count": 357,
   "metadata": {},
   "outputs": [],
   "source": [
    "##just code to check plotting from diff freq ranges\n",
    "# f_pred_c=1/(2*np.pi*194.56*4*6.61e-4)\n",
    "# f_pred_c_lin_new=f_pred_c*10\n",
    "# idx=find_index_of_nearest(f_pred,f_pred_c_lin_new)\n",
    "# f_low=f_pred[0:idx]\n",
    "# f_high=f_pred[idx:len(f_pred)]\n",
    "\n",
    "#printing the f_pred, high and low\n",
    "#print(f_pred,f_low,f_high)"
   ]
  },
  {
   "cell_type": "code",
   "execution_count": 358,
   "metadata": {},
   "outputs": [],
   "source": [
    "f_pred = np.logspace(-3,3,num=50)\n",
    "\n",
    "tlmlin_pred = tlmlin.predict(f_pred)\n",
    "tlmlin_zert_pred=tlmlin_zert.predict(f_pred)\n",
    "tlmlin_semi_pred=tlmlin_semi.predict(f_pred)\n",
    "tlmlin_mix_pred=tlmlin_mix.predict(f_pred)\n",
    "tlmlin_zert_21_pred=tlmlin_zert_21.predict(f_pred)\n",
    "tlmlin_zert_22_pred=tlmlin_zert_22.predict(f_pred)"
   ]
  },
  {
   "cell_type": "code",
   "execution_count": 359,
   "metadata": {},
   "outputs": [],
   "source": [
    "# ax= plt.figure().add_subplot()\n",
    "# # factor=194.56/1.5\n",
    "# factor=1\n",
    "# ax.plot(np.real(tlmlin_pred/factor),-np.imag(tlmlin_pred/factor),\"r\",label=\"lin\")\n",
    "# ax.plot(np.real(tlmlin_zert_pred/factor),-np.imag(tlmlin_zert_pred/factor),\"b\",label=\"lin_pert\")\n",
    "# #ax.plot(np.real(tlmlin_semi_pred)/factor,-np.imag(tlmlin_semi_pred)/factor,\"g\",label=\"lin_semi\")\n",
    "# #ax.plot(np.real(tlmlin_mix_pred)/factor,-np.imag(tlmlin_mix_pred)/factor,\"y\",label=\"lin_mix\")\n",
    "# ax.plot(np.real(tlmlin_zert_21_pred)/factor,-np.imag(tlmlin_zert_21_pred)/factor,\"pink\",label=\"lin_pert_21\")\n",
    "# ax.plot(np.real(tlmlin_zert_22_pred)/factor,-np.imag(tlmlin_zert_22_pred)/factor,\"g\",label=\"lin_pert_22\")\n",
    "# ax.legend()\n",
    "# ax.set_xlabel(\"Re(Z)\")\n",
    "# ax.set_ylabel(\"-Im(Z)\")\n",
    "# ax.set_aspect(\"equal\")\n",
    "# ax.set_xlim(-4,200)\n",
    "# ax.set_ylim(-1,200)"
   ]
  },
  {
   "cell_type": "code",
   "execution_count": 360,
   "metadata": {},
   "outputs": [],
   "source": [
    "def give_chi_square(z1,z2):\n",
    "    return np.sum((np.real(z1)-np.real(z2))**2), np.sum((np.imag(z1)-np.imag(z2))**2)"
   ]
  },
  {
   "cell_type": "code",
   "execution_count": 361,
   "metadata": {},
   "outputs": [],
   "source": [
    "# print(give_chi_square(tlmlin_pred,tlmlin_zert_pred))\n",
    "# print(give_chi_square(tlmlin_zert_21_pred,tlmlin_zert_22_pred))\n",
    "# tlmlin_zert_pred\n",
    "#tlmlin_zert_pred"
   ]
  },
  {
   "cell_type": "code",
   "execution_count": 362,
   "metadata": {},
   "outputs": [],
   "source": [
    "def make_z_from_csv(filename):\n",
    "    data_csv=np.genfromtxt(filename,delimiter=',')\n",
    "    zz=data_csv[0]+1j*data_csv[1]\n",
    "    return zz\n"
   ]
  },
  {
   "cell_type": "code",
   "execution_count": 363,
   "metadata": {},
   "outputs": [],
   "source": [
    "z_lin_maple_100=make_z_from_csv(\"z_lin_data.csv\")\n",
    "z_lin_pert_maple_100=make_z_from_csv(\"z_lin_pert_data.csv\")\n",
    "z_lin_pert_21_maple_100=make_z_from_csv(\"z_lin_pert_21_data.csv\")\n",
    "z_lin_pert_22_maple_100=make_z_from_csv(\"z_lin_pert_22_data.csv\")"
   ]
  },
  {
   "cell_type": "code",
   "execution_count": 364,
   "metadata": {},
   "outputs": [],
   "source": [
    "z_lin_maple_100_100=make_z_from_csv(\"z_lin_data_R1R2_100.csv\")\n",
    "z_lin_pert_maple_100_100=make_z_from_csv(\"z_lin_pert_data_R1R2_100.csv\")\n",
    "z_lin_pert_21_maple_100_100=make_z_from_csv(\"z_lin_pert_21_data_R1R2_100.csv\")\n",
    "z_lin_pert_22_maple_100_100=make_z_from_csv(\"z_lin_pert_22_data_R1R2_100.csv\")"
   ]
  },
  {
   "cell_type": "code",
   "execution_count": 365,
   "metadata": {},
   "outputs": [],
   "source": [
    "z_lin_maple_100_1_point_1=make_z_from_csv(\"z_lin_data_R1R2_1point1.csv\")\n",
    "z_lin_pert_maple_100_1_point_1=make_z_from_csv(\"z_lin_pert_data_R1R2_1point1.csv\")\n",
    "z_lin_pert_21_maple_100_1_point_1=make_z_from_csv(\"z_lin_pert_21_data_R1R2_1point1.csv\")\n",
    "z_lin_pert_22_maple_100_1_point_1=make_z_from_csv(\"z_lin_pert_22_data_R1R2_1point1.csv\")"
   ]
  },
  {
   "cell_type": "code",
   "execution_count": null,
   "metadata": {},
   "outputs": [],
   "source": []
  },
  {
   "cell_type": "code",
   "execution_count": 366,
   "metadata": {},
   "outputs": [
    {
     "data": {
      "text/plain": [
       "(0.0, 150.0)"
      ]
     },
     "execution_count": 366,
     "metadata": {},
     "output_type": "execute_result"
    },
    {
     "data": {
      "application/vnd.jupyter.widget-view+json": {
       "model_id": "c8bea499f65a454b9c5de488b31e7112",
       "version_major": 2,
       "version_minor": 0
      },
      "image/png": "[encoded data removed]",
      "text/html": [
       "\n",
       "            <div style=\"display: inline-block;\">\n",
       "                <div class=\"jupyter-widgets widget-label\" style=\"text-align: center;\">\n",
       "                    Figure\n",
       "                </div>\n",
       "                <img src='data:image/png;base64,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' width=640.0/>\n",
       "            </div>\n",
       "        "
      ],
      "text/plain": [
       "Canvas(toolbar=Toolbar(toolitems=[('Home', 'Reset original view', 'home', 'home'), ('Back', 'Back to previous …"
      ]
     },
     "metadata": {},
     "output_type": "display_data"
    }
   ],
   "source": [
    "ax= plt.figure().add_subplot()\n",
    "# # factor=194.56/1.5\n",
    "factor=1\n",
    "ax.plot(np.real(tlmlin_pred/factor),-np.imag(tlmlin_pred/factor),\"r\",label=\"lin\")\n",
    "ax.plot(np.real(tlmlin_zert_pred/factor),-np.imag(tlmlin_zert_pred/factor),\"b\",label=\"lin_pert\")\n",
    "#ax.plot(np.real(tlmlin_semi_pred)/factor,-np.imag(tlmlin_semi_pred)/factor,\"g\",label=\"lin_semi\")\n",
    "#ax.plot(np.real(tlmlin_mix_pred)/factor,-np.imag(tlmlin_mix_pred)/factor,\"y\",label=\"lin_mix\")\n",
    "ax.plot(np.real(tlmlin_zert_21_pred)/factor,-np.imag(tlmlin_zert_21_pred)/factor,\"pink\",label=\"lin_pert_21\")\n",
    "ax.plot(np.real(tlmlin_zert_22_pred)/factor,-np.imag(tlmlin_zert_22_pred)/factor,\"g\",label=\"lin_pert_22\")\n",
    "ax.legend()\n",
    "ax.set_xlabel(\"Re(Z)\")\n",
    "ax.set_ylabel(\"-Im(Z)\")\n",
    "ax.set_aspect(\"equal\")\n",
    "ax.set_xlim(0,150)\n",
    "ax.set_ylim(0,150)\n",
    "\n",
    "\n",
    "##From MAPLE\n",
    "# ax4= plt.figure().add_subplot()\n",
    "# ax4.set_title(\"maple_100_100\")\n",
    "# ax4.plot(np.real(z_lin_maple_100),-np.imag(z_lin_maple_100),\"r\",label=\"lin\")\n",
    "# ax4.plot(np.real(z_lin_pert_maple_100),-np.imag(z_lin_pert_maple_100),\"b\",label=\"lin_pert\")\n",
    "# ax4.plot(np.real(z_lin_pert_21_maple_100),-np.imag(z_lin_pert_21_maple_100),\"pink\",label=\"lin_pert_21\")\n",
    "# ax4.plot(np.real(z_lin_pert_22_maple_100),-np.imag(z_lin_pert_22_maple_100),\"g\",label=\"lin_pert_22\")\n",
    "# ax4.legend()\n",
    "# ax4.set_xlabel(\"Re(Z)\")\n",
    "# ax4.set_ylabel(\"-Im(Z)\")\n",
    "# ax4.set_aspect(\"equal\")\n",
    "# ax4.set_xlim(-4,200)\n",
    "# ax4.set_ylim(-1,600)\n",
    "\n",
    "# ax6= plt.figure().add_subplot()\n",
    "# ax6.set_title(\"maple_100_100_rerun\")\n",
    "# ax6.plot(np.real(z_lin_maple_100_100),-np.imag(z_lin_maple_100_100),\"r\",label=\"lin\")\n",
    "# ax6.plot(np.real(z_lin_pert_maple_100_100),-np.imag(z_lin_pert_maple_100_100),\"b\",label=\"lin_pert\")\n",
    "# ax6.plot(np.real(z_lin_pert_21_maple_100_100),-np.imag(z_lin_pert_21_maple_100_100),\"pink\",label=\"lin_pert_21\")\n",
    "# #ax6.plot(np.real(z_lin_pert_22_maple_100_100),-np.imag(z_lin_pert_22_maple_100_100),\"g\",label=\"lin_pert_22\")\n",
    "# ax6.legend()\n",
    "# ax6.set_xlabel(\"Re(Z)\")\n",
    "# ax6.set_ylabel(\"-Im(Z)\")\n",
    "# ax6.set_aspect(\"equal\")\n",
    "# ax6.set_xlim(-4,200)\n",
    "# ax6.set_ylim(-1,600)\n",
    "\n",
    "# ax5= plt.figure().add_subplot()\n",
    "# ax5.plot(np.real(z_lin_maple_100_1_point_1),-np.imag(z_lin_maple_100_1_point_1),\"r\",label=\"lin\")\n",
    "# ax5.plot(np.real(z_lin_pert_maple_100_1_point_1),-np.imag(z_lin_pert_maple_100_1_point_1),\"b\",label=\"lin_pert\")\n",
    "# ax5.plot(np.real(z_lin_pert_21_maple_100_1_point_1),-np.imag(z_lin_pert_21_maple_100_1_point_1),\"pink\",label=\"lin_pert_21\")\n",
    "# ax5.plot(np.real(z_lin_pert_22_maple_100_1_point_1),-np.imag(z_lin_pert_22_maple_100_1_point_1),\"g\",label=\"lin_pert_22\")\n",
    "# ax5.legend()\n",
    "# ax5.set_xlabel(\"Re(Z)\")\n",
    "# ax5.set_ylabel(\"-Im(Z)\")\n",
    "# ax5.set_aspect(\"equal\")\n",
    "# ax5.set_xlim(0,1)\n",
    "# ax5.set_ylim(0,2)\n"
   ]
  }
 ],
 "metadata": {
  "kernelspec": {
   "display_name": "Python 3",
   "language": "python",
   "name": "python3"
  },
  "language_info": {
   "codemirror_mode": {
    "name": "ipython",
    "version": 3
   },
   "file_extension": ".py",
   "mimetype": "text/x-python",
   "name": "python",
   "nbconvert_exporter": "python",
   "pygments_lexer": "ipython3",
   "version": "3.10.11"
  },
  "orig_nbformat": 4
 },
 "nbformat": 4,
 "nbformat_minor": 2
}
