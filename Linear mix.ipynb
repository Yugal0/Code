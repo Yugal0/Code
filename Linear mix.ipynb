{
 "cells": [
  {
   "cell_type": "code",
   "execution_count": 63,
   "metadata": {},
   "outputs": [],
   "source": [
    "%matplotlib ipympl"
   ]
  },
  {
   "cell_type": "code",
   "execution_count": 64,
   "metadata": {},
   "outputs": [],
   "source": [
    "from impedance.models.circuits import CustomCircuit\n",
    "from impedance.models.circuits.elements import element\n",
    "import numpy as np\n",
    "import scipy\n",
    "from impedance.visualization import plot_nyquist\n",
    "import matplotlib.pyplot as plt\n"
   ]
  },
  {
   "cell_type": "code",
   "execution_count": 65,
   "metadata": {},
   "outputs": [],
   "source": [
    "def find_index_of_nearest(array, value):\n",
    "    array = np.asarray(array)\n",
    "    idx = (np.abs(array - value)).argmin()\n",
    "    return idx"
   ]
  },
  {
   "cell_type": "code",
   "execution_count": 66,
   "metadata": {},
   "outputs": [],
   "source": [
    "@element(num_params=3, units=[\"Ohm\", \"Ohm\", \"F\"],overwrite=True)\n",
    "def TLMlinNew(p,f):\n",
    "    omega = 2 * np.pi * np.array(f)\n",
    "    R1, R2, Q = p[0], p[1], p[2]\n",
    "    t12=R1/R2\n",
    "    Rion1=R1\n",
    "    wclin=1/(Rion1*Q)\n",
    "    S=np.sqrt(1j*omega/wclin)\n",
    "\n",
    "    Z = (2*R1/S)*(scipy.special.iv(1/3, -2/3*(S*(t12**(-1/2)/(t12-1))))*scipy.special.iv(2/3, -2/3*(t12*S/(t12-1)))-scipy.special.iv(-1/3, -2/3*(S*t12**(-1/2)/(t12-1)))*scipy.special.iv(-2/3, -2/3*(t12*S/(t12-1))))/((scipy.special.iv(-1/3, -2/3*(S*t12**(-1/2)/(t12-1))))*scipy.special.iv(1/3, -2/3*(t12*S/(t12-1)))-scipy.special.iv(1/3, -2/3*(S*t12**(-1/2)/(t12-1)))*scipy.special.iv(-1/3, -2/3*(t12*S/(t12-1))))\n",
    "    return Z\n",
    "\n",
    "@element(num_params=3, units=[\"Ohm\", \"Ohm\", \"F\"],overwrite=True)\n",
    "def TLMlinzertNew(p,f):\n",
    "    omega = 2 * np.pi * np.array(f)\n",
    "    R1, R2, Q = p[0], p[1], p[2]\n",
    "    tlin1=R1\n",
    "    tlin2=R2\n",
    "    eps=(tlin2-tlin1)/tlin1\n",
    "    S=np.sqrt((R1*Q*omega*1j))\n",
    "\n",
    "    Z=2*(R1)*((np.exp(2*S)+1)**2\n",
    "        /(eps*(S**2+0.5)*np.exp(2*S)+(-eps/4+S)*np.exp(4*S)-eps/4-S))\n",
    "    \n",
    "    return Z\n",
    "\n",
    "@element(num_params=3, units=[\"Ohm\", \"Ohm\", \"F\"],overwrite=True)\n",
    "def TLMlinsemiNew(p,f):\n",
    "    omega = 2 * np.pi * np.array(f)\n",
    "    R1, R2, Q = p[0], p[1], p[2]\n",
    "    tlin1=R1\n",
    "    tlin2=R2\n",
    "    t12=tlin1/tlin2\n",
    "    Rion1=R1\n",
    "    Rion2=R2\n",
    "    wclin1=1/(Rion1*Q)\n",
    "    wclin2=1/(Rion2*Q)\n",
    "    S1=np.sqrt(1j*omega/wclin1)\n",
    "    kk=-(2/3)*t12*S1/(t12-1)\n",
    "\n",
    "    Z = (2*R1/S1)*(scipy.special.iv(-2/3,kk)-scipy.special.iv(2/3,kk))/(scipy.special.iv(-1/3,kk)-scipy.special.iv(1/3,kk))\n",
    "    \n",
    "    return Z\n",
    "\n",
    "@element(num_params=3, units=[\"Ohm\", \"Ohm\", \"F\"],overwrite=True)\n",
    "def TLMlinNewMix(p,f):\n",
    "    omega = 2 * np.pi * np.array(f)\n",
    "    R1, R2, Q = p[0], p[1], p[2]\n",
    "    t12_lin=R1/R2\n",
    "    Rion1_lin=R1\n",
    "    wc_lin=1/(Rion1_lin*Q)\n",
    "    \n",
    "    wclin_new=wc_lin*10\n",
    "    idx=find_index_of_nearest(omega,wclin_new)\n",
    "    omega_low=omega[0:idx]\n",
    "    omega_high=omega[idx:len(omega)]\n",
    "\n",
    "    S_lin=np.sqrt(1j*omega_low/wc_lin)\n",
    "    kk1_lin=-2/3*(S_lin*(t12_lin**(-1/2)/(t12_lin-1)))   \n",
    "    kk2_lin=-2/3*(t12_lin*S_lin/(t12_lin-1))\n",
    "\n",
    "    Z_lin = (2*Rion1_lin/S_lin)*(scipy.special.iv(1/3, kk1_lin)*scipy.special.iv(2/3, kk2_lin)-scipy.special.iv(-1/3, kk1_lin)*scipy.special.iv(-2/3,kk2_lin))/((scipy.special.iv(-1/3, kk1_lin))*scipy.special.iv(1/3, kk2_lin)-scipy.special.iv(1/3, kk1_lin)*scipy.special.iv(-1/3, kk2_lin))\n",
    "\n",
    "    #calc Z semi\n",
    "    tlin1=R1\n",
    "    tlin2=R2\n",
    "    t12=tlin1/tlin2\n",
    "    Rion1=R1\n",
    "    wc_semi=1/(Rion1*Q)\n",
    "    S1_semi=np.sqrt(1j*omega_high/wc_semi)\n",
    "    kk=-(2/3)*t12*S1_semi/(t12-1)\n",
    "\n",
    "    Z_semi = (2*R1/S1_semi)*(scipy.special.iv(-2/3,kk)-scipy.special.iv(2/3,kk))/(scipy.special.iv(-1/3,kk)-scipy.special.iv(1/3,kk))\n",
    "\n",
    "    # #calc Z pert\n",
    "    # tlin1=R1\n",
    "    # tlin2=R2   \n",
    "    # eps=(tlin2-tlin1)/tlin1\n",
    "    # S_pert=np.sqrt((R1*Q*omega_high*1j))\n",
    "    # Z_pert=2*(R1)*((np.exp(2*S_pert)+1)**2\n",
    "    #     /(eps*(S_pert**2+0.5)*np.exp(2*S_pert)+(-eps/4+S_pert)*np.exp(4*S_pert)-eps/4-S_pert))   \n",
    "\n",
    "    # eps_c=0.05 #i.e. 5% diff between t1 and t2\n",
    "    # if eps<eps_c:\n",
    "    #     Z_high=Z_pert\n",
    "    # else:\n",
    "    #     Z_high=Z_semi\n",
    "    Z_high=Z_semi\n",
    "    Z_low=Z_lin\n",
    "\n",
    "    return np.append(Z_low,Z_high)"
   ]
  },
  {
   "cell_type": "code",
   "execution_count": 67,
   "metadata": {},
   "outputs": [],
   "source": [
    "Rref=194.56\n",
    "t1=6.26\n",
    "R1=Rref*t1\n",
    "t2=2 \n",
    "R2=Rref*t2\n",
    "Q=6.61e-4\n",
    "initial_guess=[194.56*4,194.56*2,6.61e-4]\n",
    "tlmlin=CustomCircuit(initial_guess=[194.56*4,194.56*2,6.61e-4],circuit='TLMlinNew_0')\n",
    "tlmlin_zert=CustomCircuit(initial_guess=[194.56*4,194.56*2,6.61e-4],circuit='TLMlinzertNew_0')\n",
    "tlmlin_semi=CustomCircuit(initial_guess=initial_guess,circuit='TLMlinsemiNew_0')\n",
    "tlmlin_mix=CustomCircuit(initial_guess=initial_guess,circuit='TLMlinNewMix_0')"
   ]
  },
  {
   "cell_type": "code",
   "execution_count": 68,
   "metadata": {},
   "outputs": [
    {
     "name": "stdout",
     "output_type": "stream",
     "text": [
      "[1.00000000e-03 1.45634848e-03 2.12095089e-03 3.08884360e-03\n",
      " 4.49843267e-03 6.55128557e-03 9.54095476e-03 1.38949549e-02\n",
      " 2.02358965e-02 2.94705170e-02 4.29193426e-02 6.25055193e-02\n",
      " 9.10298178e-02 1.32571137e-01 1.93069773e-01 2.81176870e-01\n",
      " 4.09491506e-01 5.96362332e-01 8.68511374e-01 1.26485522e+00\n",
      " 1.84206997e+00 2.68269580e+00 3.90693994e+00 5.68986603e+00\n",
      " 8.28642773e+00 1.20679264e+01 1.75751062e+01 2.55954792e+01\n",
      " 3.72759372e+01 5.42867544e+01 7.90604321e+01 1.15139540e+02\n",
      " 1.67683294e+02 2.44205309e+02 3.55648031e+02 5.17947468e+02\n",
      " 7.54312006e+02 1.09854114e+03 1.59985872e+03 2.32995181e+03\n",
      " 3.39322177e+03 4.94171336e+03 7.19685673e+03 1.04811313e+04\n",
      " 1.52641797e+04 2.22299648e+04 3.23745754e+04 4.71486636e+04\n",
      " 6.86648845e+04 1.00000000e+05] [1.00000000e-03 1.45634848e-03 2.12095089e-03 3.08884360e-03\n",
      " 4.49843267e-03 6.55128557e-03 9.54095476e-03 1.38949549e-02\n",
      " 2.02358965e-02 2.94705170e-02 4.29193426e-02 6.25055193e-02\n",
      " 9.10298178e-02 1.32571137e-01 1.93069773e-01 2.81176870e-01\n",
      " 4.09491506e-01 5.96362332e-01 8.68511374e-01 1.26485522e+00\n",
      " 1.84206997e+00] [2.68269580e+00 3.90693994e+00 5.68986603e+00 8.28642773e+00\n",
      " 1.20679264e+01 1.75751062e+01 2.55954792e+01 3.72759372e+01\n",
      " 5.42867544e+01 7.90604321e+01 1.15139540e+02 1.67683294e+02\n",
      " 2.44205309e+02 3.55648031e+02 5.17947468e+02 7.54312006e+02\n",
      " 1.09854114e+03 1.59985872e+03 2.32995181e+03 3.39322177e+03\n",
      " 4.94171336e+03 7.19685673e+03 1.04811313e+04 1.52641797e+04\n",
      " 2.22299648e+04 3.23745754e+04 4.71486636e+04 6.86648845e+04\n",
      " 1.00000000e+05]\n"
     ]
    },
    {
     "name": "stderr",
     "output_type": "stream",
     "text": [
      "C:\\Users\\admin\\AppData\\Local\\Temp\\ipykernel_22096\\879643618.py:22: RuntimeWarning: overflow encountered in exp\n",
      "  Z=2*(R1)*((np.exp(2*S)+1)**2\n",
      "C:\\Users\\admin\\AppData\\Local\\Temp\\ipykernel_22096\\879643618.py:22: RuntimeWarning: overflow encountered in square\n",
      "  Z=2*(R1)*((np.exp(2*S)+1)**2\n",
      "C:\\Users\\admin\\AppData\\Local\\Temp\\ipykernel_22096\\879643618.py:22: RuntimeWarning: invalid value encountered in square\n",
      "  Z=2*(R1)*((np.exp(2*S)+1)**2\n",
      "C:\\Users\\admin\\AppData\\Local\\Temp\\ipykernel_22096\\879643618.py:23: RuntimeWarning: overflow encountered in exp\n",
      "  /(eps*(S**2+0.5)*np.exp(2*S)+(-eps/4+S)*np.exp(4*S)-eps/4-S))\n",
      "C:\\Users\\admin\\AppData\\Local\\Temp\\ipykernel_22096\\879643618.py:23: RuntimeWarning: invalid value encountered in multiply\n",
      "  /(eps*(S**2+0.5)*np.exp(2*S)+(-eps/4+S)*np.exp(4*S)-eps/4-S))\n",
      "C:\\Users\\admin\\AppData\\Local\\Temp\\ipykernel_22096\\879643618.py:23: RuntimeWarning: invalid value encountered in add\n",
      "  /(eps*(S**2+0.5)*np.exp(2*S)+(-eps/4+S)*np.exp(4*S)-eps/4-S))\n",
      "C:\\Users\\admin\\AppData\\Local\\Temp\\ipykernel_22096\\879643618.py:22: RuntimeWarning: invalid value encountered in divide\n",
      "  Z=2*(R1)*((np.exp(2*S)+1)**2\n"
     ]
    }
   ],
   "source": [
    "f_pred = np.logspace(-3,5,num=50)\n",
    "\n",
    "##just code to check plotting from diff freq ranges\n",
    "f_pred_c=1/(2*np.pi*194.56*4*6.61e-4)\n",
    "f_pred_c_lin_new=f_pred_c*10\n",
    "idx=find_index_of_nearest(f_pred,f_pred_c_lin_new)\n",
    "f_low=f_pred[0:idx]\n",
    "f_high=f_pred[idx:len(f_pred)]\n",
    "\n",
    "#printing the f_pred, high and low\n",
    "print(f_pred,f_low,f_high)\n",
    "\n",
    "tlmlin_pred = tlmlin.predict(f_low)\n",
    "tlmlin_zert_pred=tlmlin_zert.predict(f_pred)\n",
    "tlmlin_semi_pred=tlmlin_semi.predict(f_high)\n",
    "tlmlin_mix_pred=tlmlin_mix.predict(f_pred)"
   ]
  },
  {
   "cell_type": "code",
   "execution_count": 69,
   "metadata": {},
   "outputs": [
    {
     "data": {
      "text/plain": [
       "(-1.0, 10.0)"
      ]
     },
     "execution_count": 69,
     "metadata": {},
     "output_type": "execute_result"
    },
    {
     "data": {
      "application/vnd.jupyter.widget-view+json": {
       "model_id": "5d80f1da93874fe8b9237c7008a925e3",
       "version_major": 2,
       "version_minor": 0
      },
      "image/png": "[encoded data removed]",
      "text/html": [
       "\n",
       "            <div style=\"display: inline-block;\">\n",
       "                <div class=\"jupyter-widgets widget-label\" style=\"text-align: center;\">\n",
       "                    Figure\n",
       "                </div>\n",
       "                <img src='data:image/png;base64,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' width=640.0/>\n",
       "            </div>\n",
       "        "
      ],
      "text/plain": [
       "Canvas(toolbar=Toolbar(toolitems=[('Home', 'Reset original view', 'home', 'home'), ('Back', 'Back to previous …"
      ]
     },
     "metadata": {},
     "output_type": "display_data"
    }
   ],
   "source": [
    "ax= plt.figure().add_subplot()\n",
    "ax.plot(np.real(tlmlin_pred/(194.56/1.5)),-np.imag(tlmlin_pred/(194.56/1.5)),\"r\",label=\"lin\")\n",
    "ax.plot(np.real(tlmlin_zert_pred/(194.56/1.5)),-np.imag(tlmlin_zert_pred/(194.56/1.5)),\"b\",label=\"lin_pert\")\n",
    "ax.plot(np.real(tlmlin_semi_pred)/(194.56/1.5),-np.imag(tlmlin_semi_pred)/(194.56/1.5),\"g\",label=\"lin_semi\")\n",
    "ax.plot(np.real(tlmlin_mix_pred)/(194.56/1.5),-np.imag(tlmlin_mix_pred)/(194.56/1.5),\"y\",label=\"lin_mix\")\n",
    "ax.legend()\n",
    "ax.set_xlabel(\"Re(Z)\")\n",
    "ax.set_ylabel(\"-Im(Z)\")\n",
    "ax.set_aspect(\"equal\")\n",
    "ax.set_xlim(-4,7)\n",
    "ax.set_ylim(-1,10)"
   ]
  },
  {
   "cell_type": "code",
   "execution_count": 70,
   "metadata": {},
   "outputs": [],
   "source": [
    "#fitted_lin_on_lin=tlmlin_guess.fit(f_pred,tlmlin_pred,weight_by_modulus=False)\n",
    "#print(fitted_lin_on_lin)"
   ]
  }
 ],
 "metadata": {
  "kernelspec": {
   "display_name": "Python 3",
   "language": "python",
   "name": "python3"
  },
  "language_info": {
   "codemirror_mode": {
    "name": "ipython",
    "version": 3
   },
   "file_extension": ".py",
   "mimetype": "text/x-python",
   "name": "python",
   "nbconvert_exporter": "python",
   "pygments_lexer": "ipython3",
   "version": "3.10.11"
  },
  "orig_nbformat": 4
 },
 "nbformat": 4,
 "nbformat_minor": 2
}
