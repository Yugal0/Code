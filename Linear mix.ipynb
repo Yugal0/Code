{
 "cells": [
  {
   "cell_type": "code",
   "execution_count": 319,
   "metadata": {},
   "outputs": [],
   "source": [
    "%matplotlib ipympl"
   ]
  },
  {
   "cell_type": "code",
   "execution_count": 320,
   "metadata": {},
   "outputs": [],
   "source": [
    "from impedance.models.circuits import CustomCircuit\n",
    "from impedance.models.circuits.elements import element\n",
    "import numpy as np\n",
    "import scipy\n",
    "from impedance.visualization import plot_nyquist\n",
    "import matplotlib.pyplot as plt\n"
   ]
  },
  {
   "cell_type": "code",
   "execution_count": 321,
   "metadata": {},
   "outputs": [],
   "source": [
    "def find_index_of_nearest(array, value):\n",
    "    array = np.asarray(array)\n",
    "    idx = (np.abs(array - value)).argmin()\n",
    "    return idx"
   ]
  },
  {
   "cell_type": "code",
   "execution_count": 322,
   "metadata": {},
   "outputs": [],
   "source": [
    "@element(num_params=3, units=[\"Ohm\", \"Ohm\", \"F\"],overwrite=True)\n",
    "def TLMlinNew(p,f):\n",
    "    omega = 2 * np.pi * np.array(f)\n",
    "    R1, R2, Q = p[0], p[1], p[2]\n",
    "    t12=R1/R2\n",
    "    Rion1=R1\n",
    "    wclin=1/(Rion1*Q)\n",
    "    S=np.sqrt(1j*omega/wclin)\n",
    "\n",
    "    Z = (2*R1/S)*(scipy.special.iv(1/3, -2/3*(S*(t12**(-1/2)/(t12-1))))*scipy.special.iv(2/3, -2/3*(t12*S/(t12-1)))-scipy.special.iv(-1/3, -2/3*(S*t12**(-1/2)/(t12-1)))*scipy.special.iv(-2/3, -2/3*(t12*S/(t12-1))))/((scipy.special.iv(-1/3, -2/3*(S*t12**(-1/2)/(t12-1))))*scipy.special.iv(1/3, -2/3*(t12*S/(t12-1)))-scipy.special.iv(1/3, -2/3*(S*t12**(-1/2)/(t12-1)))*scipy.special.iv(-1/3, -2/3*(t12*S/(t12-1))))\n",
    "    return Z\n",
    "\n",
    "@element(num_params=3, units=[\"Ohm\", \"Ohm\", \"F\"],overwrite=True)\n",
    "def TLMlinzertNew(p,f):\n",
    "    omega = 2 * np.pi * np.array(f)\n",
    "    R1, R2, Q = p[0], p[1], p[2]\n",
    "    tlin1=R1\n",
    "    tlin2=R2\n",
    "    eps=(tlin2-tlin1)/tlin1\n",
    "    S=np.sqrt((R1*Q*omega*1j))\n",
    "\n",
    "    Z=2*(R1)*((np.exp(2*S)+1)**2\n",
    "        /(eps*(S**2+0.5)*np.exp(2*S)+(-eps/4+S)*np.exp(4*S)-eps/4-S))\n",
    "    \n",
    "    return Z\n",
    "\n",
    "@element(num_params=3, units=[\"Ohm\", \"Ohm\", \"F\"],overwrite=True)\n",
    "def TLMlinsemiNew(p,f):\n",
    "    omega = 2 * np.pi * np.array(f)\n",
    "    R1, R2, Q = p[0], p[1], p[2]\n",
    "    tlin1=R1\n",
    "    tlin2=R2\n",
    "    t12=tlin1/tlin2\n",
    "    Rion1=R1\n",
    "    Rion2=R2\n",
    "    wclin1=1/(Rion1*Q)\n",
    "    wclin2=1/(Rion2*Q)\n",
    "    S1=np.sqrt(1j*omega/wclin1)\n",
    "    kk=-(2/3)*t12*S1/(t12-1)\n",
    "\n",
    "    Z = (2*R1/S1)*(scipy.special.iv(-2/3,kk)-scipy.special.iv(2/3,kk))/(scipy.special.iv(-1/3,kk)-scipy.special.iv(1/3,kk))\n",
    "    \n",
    "    return Z\n",
    "\n",
    "@element(num_params=3, units=[\"Ohm\", \"Ohm\", \"F\"],overwrite=True)\n",
    "def TLMlinNewMix(p,f):\n",
    "    omega = 2 * np.pi * np.array(f)\n",
    "    R1, R2, Q = p[0], p[1], p[2]\n",
    "    t12_lin=R1/R2\n",
    "    Rion1_lin=R1\n",
    "    wc_lin=1/(Rion1_lin*Q)\n",
    "    \n",
    "    wclin_new=wc_lin*100\n",
    "    idx=find_index_of_nearest(omega,wclin_new)\n",
    "    omega_low=omega[0:idx]\n",
    "    omega_high=omega[idx:len(omega)]\n",
    "\n",
    "    S_lin=np.sqrt(1j*omega_low/wc_lin)\n",
    "    kk1_lin=-2/3*(S_lin*(t12_lin**(-1/2)/(t12_lin-1)))   \n",
    "    kk2_lin=-2/3*(t12_lin*S_lin/(t12_lin-1))\n",
    "\n",
    "    Z_lin = (2*Rion1_lin/S_lin)*(scipy.special.iv(1/3, kk1_lin)*scipy.special.iv(2/3, kk2_lin)-scipy.special.iv(-1/3, kk1_lin)*scipy.special.iv(-2/3,kk2_lin))/((scipy.special.iv(-1/3, kk1_lin))*scipy.special.iv(1/3, kk2_lin)-scipy.special.iv(1/3, kk1_lin)*scipy.special.iv(-1/3, kk2_lin))\n",
    "\n",
    "    #calc Z semi\n",
    "    tlin1=R1\n",
    "    tlin2=R2\n",
    "    t12=tlin1/tlin2\n",
    "    Rion1=R1\n",
    "    wc_semi=1/(Rion1*Q)\n",
    "    S1_semi=np.sqrt(1j*omega_high/wc_semi)\n",
    "    kk=-(2/3)*t12*S1_semi/(t12-1)\n",
    "\n",
    "    Z_semi = (2*R1/S1_semi)*(scipy.special.iv(-2/3,kk)-scipy.special.iv(2/3,kk))/(scipy.special.iv(-1/3,kk)-scipy.special.iv(1/3,kk))\n",
    "\n",
    "    # #calc Z pert\n",
    "    # tlin1=R1\n",
    "    # tlin2=R2   \n",
    "    # eps=(tlin2-tlin1)/tlin1\n",
    "    # S_pert=np.sqrt((R1*Q*omega_high*1j))\n",
    "    # Z_pert=2*(R1)*((np.exp(2*S_pert)+1)**2\n",
    "    #     /(eps*(S_pert**2+0.5)*np.exp(2*S_pert)+(-eps/4+S_pert)*np.exp(4*S_pert)-eps/4-S_pert))   \n",
    "\n",
    "    # eps_c=0.05 #i.e. 5% diff between t1 and t2\n",
    "    # if eps<eps_c:\n",
    "    #     Z_high=Z_pert\n",
    "    # else:\n",
    "    #     Z_high=Z_semi\n",
    "    Z_high=Z_semi\n",
    "    Z_low=Z_lin\n",
    "\n",
    "    return np.append(Z_low,Z_high)\n",
    "\n",
    "@element(num_params=3, units=[\"Ohm\", \"Ohm\", \"F\"],overwrite=True)\n",
    "def TLMlinzertNewSecondFirst(p,f):\n",
    "    omega = 2 * np.pi * np.array(f)\n",
    "    R1, R2, Q = p[0], p[1], p[2]\n",
    "    tlin1=R1\n",
    "    tlin2=R2\n",
    "    eps=(tlin2-tlin1)/tlin1\n",
    "    S=np.sqrt((R1*Q*omega*1j))\n",
    "    #first expansion\n",
    "    Z=2*4*R1*(np.exp(4*S)+2*np.exp(2*S)+1)*(np.exp(2*S)+1)*S/((((S**4+2*S**3+2*S**2+3/2*S+9/8)*eps**2+(4*S**3+S)*eps-4*S**2)*np.exp(2*S)+((-S**4+2*S**3-2*S**2+3/2*S-9/8)*eps**2+(4*S**3+S)*eps+4*S**2)*np.exp(4*S)+(-(1/8)*eps**2-S*eps+4*S**2)*np.exp(6*S)-4*S**2-S*eps+(1/8)*eps**2))\n",
    "    return Z\n",
    "\n",
    "@element(num_params=3, units=[\"Ohm\", \"Ohm\", \"F\"],overwrite=True)\n",
    "def TLMlinzertNewSecondSecond(p,f):\n",
    "    omega = 2 * np.pi * np.array(f)\n",
    "    R1, R2, Q = p[0], p[1], p[2]\n",
    "    tlin1=R1\n",
    "    tlin2=R2\n",
    "    eps=(tlin2-tlin1)/tlin1\n",
    "    S=np.sqrt((R1*Q*omega*1j))\n",
    "\n",
    "    #second expansion\n",
    "    Z=2*4*R1*(np.exp(4*S)+2*np.exp(2*S)+1)*(np.exp(2*S)+1)*S/((((S**4-2/3*(S**3)+2*S**2-5/2*S+1/8)*eps**2+(4*S**3+S)*eps-4*S**2)*np.exp(2*S)+((-S**4-2/3*(S**3)-2*S**2-5/2*S-1/8)*eps**2+(4*S**3+S)*eps+4*S**2)*np.exp(4*S)+(4*S**2-S*eps+7/8*(eps**2))*np.exp(6*S)-4*S**2-S*eps-7*eps**2*(1/8)))\n",
    "    return Z"
   ]
  },
  {
   "cell_type": "code",
   "execution_count": 323,
   "metadata": {},
   "outputs": [],
   "source": [
    "# Rref=194.56\n",
    "# t1=6.26\n",
    "# R1=Rref*t1\n",
    "# t2=2 \n",
    "# R2=Rref*t2\n",
    "# Q=6.61e-4"
   ]
  },
  {
   "cell_type": "code",
   "execution_count": 324,
   "metadata": {},
   "outputs": [],
   "source": [
    "initial_guess=[1.1,1,6.61e-4]\n",
    "tlmlin=CustomCircuit(initial_guess=initial_guess,circuit='TLMlinNew_0')\n",
    "tlmlin_zert=CustomCircuit(initial_guess=initial_guess,circuit='TLMlinzertNew_0')\n",
    "tlmlin_semi=CustomCircuit(initial_guess=initial_guess,circuit='TLMlinsemiNew_0')\n",
    "tlmlin_mix=CustomCircuit(initial_guess=initial_guess,circuit='TLMlinNewMix_0')\n",
    "tlmlin_zert_21=CustomCircuit(initial_guess=initial_guess,circuit='TLMlinzertNewSecondFirst')\n",
    "tlmlin_zert_22=CustomCircuit(initial_guess=initial_guess,circuit='TLMlinzertNewSecondSecond')\n"
   ]
  },
  {
   "cell_type": "code",
   "execution_count": 325,
   "metadata": {},
   "outputs": [],
   "source": [
    "##just code to check plotting from diff freq ranges\n",
    "# f_pred_c=1/(2*np.pi*194.56*4*6.61e-4)\n",
    "# f_pred_c_lin_new=f_pred_c*10\n",
    "# idx=find_index_of_nearest(f_pred,f_pred_c_lin_new)\n",
    "# f_low=f_pred[0:idx]\n",
    "# f_high=f_pred[idx:len(f_pred)]\n",
    "\n",
    "#printing the f_pred, high and low\n",
    "#print(f_pred,f_low,f_high)"
   ]
  },
  {
   "cell_type": "code",
   "execution_count": 326,
   "metadata": {},
   "outputs": [],
   "source": [
    "f_pred = np.logspace(-3,3,num=50)\n",
    "\n",
    "tlmlin_pred = tlmlin.predict(f_pred)\n",
    "tlmlin_zert_pred=tlmlin_zert.predict(f_pred)\n",
    "tlmlin_semi_pred=tlmlin_semi.predict(f_pred)\n",
    "tlmlin_mix_pred=tlmlin_mix.predict(f_pred)\n",
    "tlmlin_zert_21_pred=tlmlin_zert_21.predict(f_pred)\n",
    "tlmlin_zert_22_pred=tlmlin_zert_22.predict(f_pred)"
   ]
  },
  {
   "cell_type": "code",
   "execution_count": 327,
   "metadata": {},
   "outputs": [],
   "source": [
    "# ax= plt.figure().add_subplot()\n",
    "# # factor=194.56/1.5\n",
    "# factor=1\n",
    "# ax.plot(np.real(tlmlin_pred/factor),-np.imag(tlmlin_pred/factor),\"r\",label=\"lin\")\n",
    "# ax.plot(np.real(tlmlin_zert_pred/factor),-np.imag(tlmlin_zert_pred/factor),\"b\",label=\"lin_pert\")\n",
    "# #ax.plot(np.real(tlmlin_semi_pred)/factor,-np.imag(tlmlin_semi_pred)/factor,\"g\",label=\"lin_semi\")\n",
    "# #ax.plot(np.real(tlmlin_mix_pred)/factor,-np.imag(tlmlin_mix_pred)/factor,\"y\",label=\"lin_mix\")\n",
    "# ax.plot(np.real(tlmlin_zert_21_pred)/factor,-np.imag(tlmlin_zert_21_pred)/factor,\"pink\",label=\"lin_pert_21\")\n",
    "# ax.plot(np.real(tlmlin_zert_22_pred)/factor,-np.imag(tlmlin_zert_22_pred)/factor,\"g\",label=\"lin_pert_22\")\n",
    "# ax.legend()\n",
    "# ax.set_xlabel(\"Re(Z)\")\n",
    "# ax.set_ylabel(\"-Im(Z)\")\n",
    "# ax.set_aspect(\"equal\")\n",
    "# ax.set_xlim(-4,200)\n",
    "# ax.set_ylim(-1,200)"
   ]
  },
  {
   "cell_type": "code",
   "execution_count": 328,
   "metadata": {},
   "outputs": [],
   "source": [
    "def give_chi_square(z1,z2):\n",
    "    return np.sum((np.real(z1)-np.real(z2))**2), np.sum((np.imag(z1)-np.imag(z2))**2)"
   ]
  },
  {
   "cell_type": "code",
   "execution_count": 329,
   "metadata": {},
   "outputs": [],
   "source": [
    "# print(give_chi_square(tlmlin_pred,tlmlin_zert_pred))\n",
    "# print(give_chi_square(tlmlin_zert_21_pred,tlmlin_zert_22_pred))\n",
    "# tlmlin_zert_pred\n",
    "#tlmlin_zert_pred"
   ]
  },
  {
   "cell_type": "code",
   "execution_count": 330,
   "metadata": {},
   "outputs": [],
   "source": [
    "def make_z_from_csv(filename):\n",
    "    data_csv=np.genfromtxt(filename,delimiter=',')\n",
    "    zz=data_csv[0]+1j*data_csv[1]\n",
    "    return zz\n"
   ]
  },
  {
   "cell_type": "code",
   "execution_count": 331,
   "metadata": {},
   "outputs": [],
   "source": [
    "z_lin_maple_100=make_z_from_csv(\"z_lin_data.csv\")\n",
    "z_lin_pert_maple_100=make_z_from_csv(\"z_lin_pert_data.csv\")\n",
    "z_lin_pert_21_maple_100=make_z_from_csv(\"z_lin_pert_21_data.csv\")\n",
    "z_lin_pert_22_maple_100=make_z_from_csv(\"z_lin_pert_22_data.csv\")"
   ]
  },
  {
   "cell_type": "code",
   "execution_count": 332,
   "metadata": {},
   "outputs": [],
   "source": [
    "z_lin_maple_100_100=make_z_from_csv(\"z_lin_data_R1R2_100.csv\")\n",
    "z_lin_pert_maple_100_100=make_z_from_csv(\"z_lin_pert_data_R1R2_100.csv\")\n",
    "z_lin_pert_21_maple_100_100=make_z_from_csv(\"z_lin_pert_21_data_R1R2_100.csv\")\n",
    "z_lin_pert_22_maple_100_100=make_z_from_csv(\"z_lin_pert_22_data_R1R2_100.csv\")"
   ]
  },
  {
   "cell_type": "code",
   "execution_count": 333,
   "metadata": {},
   "outputs": [],
   "source": [
    "z_lin_maple_100_1_point_1=make_z_from_csv(\"z_lin_data_R1R2_1point1.csv\")\n",
    "z_lin_pert_maple_100_1_point_1=make_z_from_csv(\"z_lin_pert_data_R1R2_1point1.csv\")\n",
    "z_lin_pert_21_maple_100_1_point_1=make_z_from_csv(\"z_lin_pert_21_data_R1R2_1point1.csv\")\n",
    "z_lin_pert_22_maple_100_1_point_1=make_z_from_csv(\"z_lin_pert_22_data_R1R2_1point1.csv\")"
   ]
  },
  {
   "cell_type": "code",
   "execution_count": null,
   "metadata": {},
   "outputs": [],
   "source": []
  },
  {
   "cell_type": "code",
   "execution_count": 334,
   "metadata": {},
   "outputs": [
    {
     "data": {
      "text/plain": [
       "(0.0, 2.0)"
      ]
     },
     "execution_count": 334,
     "metadata": {},
     "output_type": "execute_result"
    },
    {
     "data": {
      "application/vnd.jupyter.widget-view+json": {
       "model_id": "bb7b10110e2241e7b2688bfae87015c4",
       "version_major": 2,
       "version_minor": 0
      },
      "image/png": "[encoded data removed]",
      "text/html": [
       "\n",
       "            <div style=\"display: inline-block;\">\n",
       "                <div class=\"jupyter-widgets widget-label\" style=\"text-align: center;\">\n",
       "                    Figure\n",
       "                </div>\n",
       "                <img src='data:image/png;base64,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' width=640.0/>\n",
       "            </div>\n",
       "        "
      ],
      "text/plain": [
       "Canvas(toolbar=Toolbar(toolitems=[('Home', 'Reset original view', 'home', 'home'), ('Back', 'Back to previous …"
      ]
     },
     "metadata": {},
     "output_type": "display_data"
    }
   ],
   "source": [
    "ax= plt.figure().add_subplot()\n",
    "# # factor=194.56/1.5\n",
    "factor=1\n",
    "ax.plot(np.real(tlmlin_pred/factor),-np.imag(tlmlin_pred/factor),\"r\",label=\"lin\")\n",
    "ax.plot(np.real(tlmlin_zert_pred/factor),-np.imag(tlmlin_zert_pred/factor),\"b\",label=\"lin_pert\")\n",
    "#ax.plot(np.real(tlmlin_semi_pred)/factor,-np.imag(tlmlin_semi_pred)/factor,\"g\",label=\"lin_semi\")\n",
    "#ax.plot(np.real(tlmlin_mix_pred)/factor,-np.imag(tlmlin_mix_pred)/factor,\"y\",label=\"lin_mix\")\n",
    "ax.plot(np.real(tlmlin_zert_21_pred)/factor,-np.imag(tlmlin_zert_21_pred)/factor,\"pink\",label=\"lin_pert_21\")\n",
    "ax.plot(np.real(tlmlin_zert_22_pred)/factor,-np.imag(tlmlin_zert_22_pred)/factor,\"g\",label=\"lin_pert_22\")\n",
    "ax.legend()\n",
    "ax.set_xlabel(\"Re(Z)\")\n",
    "ax.set_ylabel(\"-Im(Z)\")\n",
    "ax.set_aspect(\"equal\")\n",
    "ax.set_xlim(0,1)\n",
    "ax.set_ylim(0,2)\n",
    "\n",
    "\n",
    "##From MAPLE\n",
    "# ax4= plt.figure().add_subplot()\n",
    "# ax4.set_title(\"maple_100_100\")\n",
    "# ax4.plot(np.real(z_lin_maple_100),-np.imag(z_lin_maple_100),\"r\",label=\"lin\")\n",
    "# ax4.plot(np.real(z_lin_pert_maple_100),-np.imag(z_lin_pert_maple_100),\"b\",label=\"lin_pert\")\n",
    "# ax4.plot(np.real(z_lin_pert_21_maple_100),-np.imag(z_lin_pert_21_maple_100),\"pink\",label=\"lin_pert_21\")\n",
    "# ax4.plot(np.real(z_lin_pert_22_maple_100),-np.imag(z_lin_pert_22_maple_100),\"g\",label=\"lin_pert_22\")\n",
    "# ax4.legend()\n",
    "# ax4.set_xlabel(\"Re(Z)\")\n",
    "# ax4.set_ylabel(\"-Im(Z)\")\n",
    "# ax4.set_aspect(\"equal\")\n",
    "# ax4.set_xlim(-4,200)\n",
    "# ax4.set_ylim(-1,600)\n",
    "\n",
    "# ax6= plt.figure().add_subplot()\n",
    "# ax6.set_title(\"maple_100_100_rerun\")\n",
    "# ax6.plot(np.real(z_lin_maple_100_100),-np.imag(z_lin_maple_100_100),\"r\",label=\"lin\")\n",
    "# ax6.plot(np.real(z_lin_pert_maple_100_100),-np.imag(z_lin_pert_maple_100_100),\"b\",label=\"lin_pert\")\n",
    "# ax6.plot(np.real(z_lin_pert_21_maple_100_100),-np.imag(z_lin_pert_21_maple_100_100),\"pink\",label=\"lin_pert_21\")\n",
    "# #ax6.plot(np.real(z_lin_pert_22_maple_100_100),-np.imag(z_lin_pert_22_maple_100_100),\"g\",label=\"lin_pert_22\")\n",
    "# ax6.legend()\n",
    "# ax6.set_xlabel(\"Re(Z)\")\n",
    "# ax6.set_ylabel(\"-Im(Z)\")\n",
    "# ax6.set_aspect(\"equal\")\n",
    "# ax6.set_xlim(-4,200)\n",
    "# ax6.set_ylim(-1,600)\n",
    "\n",
    "# ax5= plt.figure().add_subplot()\n",
    "# ax5.plot(np.real(z_lin_maple_100_1_point_1),-np.imag(z_lin_maple_100_1_point_1),\"r\",label=\"lin\")\n",
    "# ax5.plot(np.real(z_lin_pert_maple_100_1_point_1),-np.imag(z_lin_pert_maple_100_1_point_1),\"b\",label=\"lin_pert\")\n",
    "# ax5.plot(np.real(z_lin_pert_21_maple_100_1_point_1),-np.imag(z_lin_pert_21_maple_100_1_point_1),\"pink\",label=\"lin_pert_21\")\n",
    "# ax5.plot(np.real(z_lin_pert_22_maple_100_1_point_1),-np.imag(z_lin_pert_22_maple_100_1_point_1),\"g\",label=\"lin_pert_22\")\n",
    "# ax5.legend()\n",
    "# ax5.set_xlabel(\"Re(Z)\")\n",
    "# ax5.set_ylabel(\"-Im(Z)\")\n",
    "# ax5.set_aspect(\"equal\")\n",
    "# ax5.set_xlim(0,1)\n",
    "# ax5.set_ylim(0,2)\n"
   ]
  }
 ],
 "metadata": {
  "kernelspec": {
   "display_name": "Python 3",
   "language": "python",
   "name": "python3"
  },
  "language_info": {
   "codemirror_mode": {
    "name": "ipython",
    "version": 3
   },
   "file_extension": ".py",
   "mimetype": "text/x-python",
   "name": "python",
   "nbconvert_exporter": "python",
   "pygments_lexer": "ipython3",
   "version": "3.10.11"
  },
  "orig_nbformat": 4
 },
 "nbformat": 4,
 "nbformat_minor": 2
}
