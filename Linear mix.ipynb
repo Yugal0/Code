{
 "cells": [
  {
   "cell_type": "code",
   "execution_count": 513,
   "metadata": {},
   "outputs": [],
   "source": [
    "%matplotlib ipympl"
   ]
  },
  {
   "cell_type": "code",
   "execution_count": 514,
   "metadata": {},
   "outputs": [],
   "source": [
    "from impedance.models.circuits import CustomCircuit\n",
    "from impedance.models.circuits.elements import element\n",
    "import numpy as np\n",
    "import scipy\n",
    "from impedance.visualization import plot_nyquist\n",
    "import matplotlib.pyplot as plt\n"
   ]
  },
  {
   "cell_type": "code",
   "execution_count": 515,
   "metadata": {},
   "outputs": [],
   "source": [
    "def find_index_of_nearest(array, value):\n",
    "    array = np.asarray(array)\n",
    "    idx = (np.abs(array - value)).argmin()\n",
    "    return idx"
   ]
  },
  {
   "cell_type": "code",
   "execution_count": 516,
   "metadata": {},
   "outputs": [],
   "source": [
    "@element(num_params=3, units=[\"Ohm\", \"Ohm\", \"F\"],overwrite=True)\n",
    "def TLMlinNew(p,f):\n",
    "    omega = 2 * np.pi * np.array(f)\n",
    "    R1, R2, Q = p[0], p[1], p[2]\n",
    "    t12=R1/R2\n",
    "    S=np.sqrt(1j*omega*R1*Q)\n",
    "    kk1=-2/3*(S*(t12**(-1/2)/(t12-1)))\n",
    "    kk2=-2/3*(t12*S/(t12-1))\n",
    "    Z = (2*R1/S)*(scipy.special.iv(1/3, kk1)*scipy.special.iv(2/3, kk2)-scipy.special.iv(-1/3, kk1)*scipy.special.iv(-2/3, kk2))/((scipy.special.iv(-1/3, kk1))*scipy.special.iv(1/3, kk2)-scipy.special.iv(1/3, kk1)*scipy.special.iv(-1/3, kk2))\n",
    "    return Z\n",
    "\n",
    "@element(num_params=3, units=[\"Ohm\", \"Ohm\", \"F\"],overwrite=True)\n",
    "def TLMlinzertNew(p,f):\n",
    "    omega = 2 * np.pi * np.array(f)\n",
    "    R1, R2, Q = p[0], p[1], p[2]\n",
    "    tlin1=R1\n",
    "    tlin2=R2\n",
    "    eps=(tlin2-tlin1)/tlin1\n",
    "    S=np.sqrt((R1*Q*omega*1j))\n",
    "\n",
    "    Z=2*(R1)*((np.exp(2*S)+1)**2\n",
    "        /(eps*(S**2+0.5)*np.exp(2*S)+(-eps/4+S)*np.exp(4*S)-eps/4-S))\n",
    "    \n",
    "    return Z\n",
    "\n",
    "@element(num_params=3, units=[\"Ohm\", \"Ohm\", \"F\"],overwrite=True)\n",
    "def TLMlinsemiNew(p,f):\n",
    "    omega = 2 * np.pi * np.array(f)\n",
    "    R1, R2, Q = p[0], p[1], p[2]\n",
    "    tlin1=R1\n",
    "    tlin2=R2\n",
    "    t12=tlin1/tlin2\n",
    "    Rion1=R1\n",
    "    Rion2=R2\n",
    "    wclin1=1/(Rion1*Q)\n",
    "    S1=np.sqrt(1j*omega/wclin1)\n",
    "    kk=-(2/3)*t12*S1/(t12-1)\n",
    "\n",
    "    Z = (2*R1/S1)*(scipy.special.iv(-2/3,kk)-scipy.special.iv(2/3,kk))/(scipy.special.iv(-1/3,kk)-scipy.special.iv(1/3,kk))\n",
    "    \n",
    "    return Z\n",
    "\n",
    "@element(num_params=3, units=[\"Ohm\", \"Ohm\", \"F\"],overwrite=True)\n",
    "def TLMlinNewMix(p,f):\n",
    "    omega = 2 * np.pi * np.array(f)\n",
    "    R1, R2, Q = p[0], p[1], p[2]\n",
    "    t12_lin=R1/R2\n",
    "    Rion1_lin=R1\n",
    "    wc_lin=1/(Rion1_lin*Q)\n",
    "    \n",
    "    wclin_new=wc_lin*100\n",
    "    idx=find_index_of_nearest(omega,wclin_new)\n",
    "    omega_low=omega[0:idx]\n",
    "    omega_high=omega[idx:len(omega)]\n",
    "\n",
    "    S_lin=np.sqrt(1j*omega_low/wc_lin)\n",
    "    kk1_lin=-2/3*(S_lin*(t12_lin**(-1/2)/(t12_lin-1)))   \n",
    "    kk2_lin=-2/3*(t12_lin*S_lin/(t12_lin-1))\n",
    "\n",
    "    Z_lin = (2*Rion1_lin/S_lin)*(scipy.special.iv(1/3, kk1_lin)*scipy.special.iv(2/3, kk2_lin)-scipy.special.iv(-1/3, kk1_lin)*scipy.special.iv(-2/3,kk2_lin))/((scipy.special.iv(-1/3, kk1_lin))*scipy.special.iv(1/3, kk2_lin)-scipy.special.iv(1/3, kk1_lin)*scipy.special.iv(-1/3, kk2_lin))\n",
    "\n",
    "    #calc Z semi\n",
    "    tlin1=R1\n",
    "    tlin2=R2\n",
    "    t12=tlin1/tlin2\n",
    "    Rion1=R1\n",
    "    wc_semi=1/(Rion1*Q)\n",
    "    S1_semi=np.sqrt(1j*omega_high/wc_semi)\n",
    "    kk=-(2/3)*t12*S1_semi/(t12-1)\n",
    "\n",
    "    Z_semi = (2*R1/S1_semi)*(scipy.special.iv(-2/3,kk)-scipy.special.iv(2/3,kk))/(scipy.special.iv(-1/3,kk)-scipy.special.iv(1/3,kk))\n",
    "\n",
    "    # #calc Z pert\n",
    "    # tlin1=R1\n",
    "    # tlin2=R2   \n",
    "    # eps=(tlin2-tlin1)/tlin1\n",
    "    # S_pert=np.sqrt((R1*Q*omega_high*1j))\n",
    "    # Z_pert=2*(R1)*((np.exp(2*S_pert)+1)**2\n",
    "    #     /(eps*(S_pert**2+0.5)*np.exp(2*S_pert)+(-eps/4+S_pert)*np.exp(4*S_pert)-eps/4-S_pert))   \n",
    "\n",
    "    # eps_c=0.05 #i.e. 5% diff between t1 and t2\n",
    "    # if eps<eps_c:\n",
    "    #     Z_high=Z_pert\n",
    "    # else:\n",
    "    #     Z_high=Z_semi\n",
    "    Z_high=Z_semi\n",
    "    Z_low=Z_lin\n",
    "\n",
    "    return np.append(Z_low,Z_high)\n",
    "\n",
    "@element(num_params=3, units=[\"Ohm\", \"Ohm\", \"F\"],overwrite=True)\n",
    "def TLMlinzertNewSecondFirst(p,f):\n",
    "    omega = 2 * np.pi * np.array(f)\n",
    "    R1, R2, Q = p[0], p[1], p[2]\n",
    "    tlin1=R1\n",
    "    tlin2=R2\n",
    "    eps=(tlin2-tlin1)/tlin1\n",
    "    S=np.sqrt((R1*Q*omega*1j))\n",
    "    #first expansion\n",
    "    Z=2*4*R1*(np.exp(4*S)+2*np.exp(2*S)+1)*(np.exp(2*S)+1)*S/((((S**4+2*S**3+2*S**2+3/2*S+9/8)*eps**2+(4*S**3+S)*eps-4*S**2)*np.exp(2*S)+((-S**4+2*S**3-2*S**2+3/2*S-9/8)*eps**2+(4*S**3+S)*eps+4*S**2)*np.exp(4*S)+(-(1/8)*eps**2-S*eps+4*S**2)*np.exp(6*S)-4*S**2-S*eps+(1/8)*eps**2))\n",
    "    return Z\n",
    "\n",
    "@element(num_params=3, units=[\"Ohm\", \"Ohm\", \"F\"],overwrite=True)\n",
    "def TLMlinzertNewSecondSecond(p,f):\n",
    "    omega = 2 * np.pi * np.array(f)\n",
    "    R1, R2, Q = p[0], p[1], p[2]\n",
    "    tlin1=R1\n",
    "    tlin2=R2\n",
    "    eps=(tlin2-tlin1)/tlin1\n",
    "    S=np.sqrt((R1*Q*omega*1j))\n",
    "\n",
    "    #second expansion\n",
    "    Z=2*4*R1*(np.exp(4*S)+2*np.exp(2*S)+1)*(np.exp(2*S)+1)*S/((((S**4-2/3*(S**3)+2*S**2-5/2*S+1/8)*eps**2+(4*S**3+S)*eps-4*S**2)*np.exp(2*S)+((-S**4-2/3*(S**3)-2*S**2-5/2*S-1/8)*eps**2+(4*S**3+S)*eps+4*S**2)*np.exp(4*S)+(4*S**2-S*eps+7/8*(eps**2))*np.exp(6*S)-4*S**2-S*eps-7*eps**2*(1/8)))\n",
    "    return Z"
   ]
  },
  {
   "cell_type": "code",
   "execution_count": 517,
   "metadata": {},
   "outputs": [],
   "source": [
    "# Rref=194.56\n",
    "# t1=6.26\n",
    "# R1=Rref*t1\n",
    "# t2=2 \n",
    "# R2=Rref*t2\n",
    "# Q=6.61e-4"
   ]
  },
  {
   "cell_type": "code",
   "execution_count": 518,
   "metadata": {},
   "outputs": [],
   "source": [
    "initial_guess=[100,1,6.61e-4]\n",
    "tlmlin=CustomCircuit(initial_guess=initial_guess,circuit='TLMlinNew_0')\n",
    "tlmlin_zert=CustomCircuit(initial_guess=initial_guess,circuit='TLMlinzertNew_0')\n",
    "tlmlin_semi=CustomCircuit(initial_guess=initial_guess,circuit='TLMlinsemiNew_0')\n",
    "tlmlin_mix=CustomCircuit(initial_guess=initial_guess,circuit='TLMlinNewMix_0')\n",
    "tlmlin_zert_21=CustomCircuit(initial_guess=initial_guess,circuit='TLMlinzertNewSecondFirst')\n",
    "tlmlin_zert_22=CustomCircuit(initial_guess=initial_guess,circuit='TLMlinzertNewSecondSecond')\n"
   ]
  },
  {
   "cell_type": "code",
   "execution_count": 519,
   "metadata": {},
   "outputs": [],
   "source": [
    "##just code to check plotting from diff freq ranges\n",
    "# f_pred_c=1/(2*np.pi*194.56*4*6.61e-4)\n",
    "# f_pred_c_lin_new=f_pred_c*10\n",
    "# idx=find_index_of_nearest(f_pred,f_pred_c_lin_new)\n",
    "# f_low=f_pred[0:idx]\n",
    "# f_high=f_pred[idx:len(f_pred)]\n",
    "\n",
    "#printing the f_pred, high and low\n",
    "#print(f_pred,f_low,f_high)"
   ]
  },
  {
   "cell_type": "code",
   "execution_count": 520,
   "metadata": {},
   "outputs": [
    {
     "name": "stderr",
     "output_type": "stream",
     "text": [
      "C:\\Users\\admin\\AppData\\Local\\Packages\\PythonSoftwareFoundation.Python.3.10_qbz5n2kfra8p0\\LocalCache\\local-packages\\Python310\\site-packages\\impedance\\models\\circuits\\circuits.py:145: UserWarning: Simulating circuit based on initial parameters\n",
      "  warnings.warn(\"Simulating circuit based on initial parameters\")\n"
     ]
    }
   ],
   "source": [
    "f_pred = np.logspace(-3,3,num=50)\n",
    "\n",
    "tlmlin_pred = tlmlin.predict(f_pred)\n",
    "tlmlin_zert_pred=tlmlin_zert.predict(f_pred)\n",
    "tlmlin_semi_pred=tlmlin_semi.predict(f_pred)\n",
    "tlmlin_mix_pred=tlmlin_mix.predict(f_pred)\n",
    "tlmlin_zert_21_pred=tlmlin_zert_21.predict(f_pred)\n",
    "tlmlin_zert_22_pred=tlmlin_zert_22.predict(f_pred)"
   ]
  },
  {
   "cell_type": "code",
   "execution_count": 521,
   "metadata": {},
   "outputs": [],
   "source": [
    "# ax= plt.figure().add_subplot()\n",
    "# # factor=194.56/1.5\n",
    "# factor=1\n",
    "# ax.plot(np.real(tlmlin_pred/factor),-np.imag(tlmlin_pred/factor),\"r\",label=\"lin\")\n",
    "# ax.plot(np.real(tlmlin_zert_pred/factor),-np.imag(tlmlin_zert_pred/factor),\"b\",label=\"lin_pert\")\n",
    "# #ax.plot(np.real(tlmlin_semi_pred)/factor,-np.imag(tlmlin_semi_pred)/factor,\"g\",label=\"lin_semi\")\n",
    "# #ax.plot(np.real(tlmlin_mix_pred)/factor,-np.imag(tlmlin_mix_pred)/factor,\"y\",label=\"lin_mix\")\n",
    "# ax.plot(np.real(tlmlin_zert_21_pred)/factor,-np.imag(tlmlin_zert_21_pred)/factor,\"pink\",label=\"lin_pert_21\")\n",
    "# ax.plot(np.real(tlmlin_zert_22_pred)/factor,-np.imag(tlmlin_zert_22_pred)/factor,\"g\",label=\"lin_pert_22\")\n",
    "# ax.legend()\n",
    "# ax.set_xlabel(\"Re(Z)\")\n",
    "# ax.set_ylabel(\"-Im(Z)\")\n",
    "# ax.set_aspect(\"equal\")\n",
    "# ax.set_xlim(-4,200)\n",
    "# ax.set_ylim(-1,200)"
   ]
  },
  {
   "cell_type": "code",
   "execution_count": 522,
   "metadata": {},
   "outputs": [],
   "source": [
    "def give_chi_square(z1,z2):\n",
    "    return np.sum((np.real(z1)-np.real(z2))**2), np.sum((np.imag(z1)-np.imag(z2))**2)"
   ]
  },
  {
   "cell_type": "code",
   "execution_count": 523,
   "metadata": {},
   "outputs": [],
   "source": [
    "# print(give_chi_square(tlmlin_pred,tlmlin_zert_pred))\n",
    "# print(give_chi_square(tlmlin_zert_21_pred,tlmlin_zert_22_pred))\n",
    "# tlmlin_zert_pred\n",
    "#tlmlin_zert_pred"
   ]
  },
  {
   "cell_type": "code",
   "execution_count": 524,
   "metadata": {},
   "outputs": [],
   "source": [
    "def make_z_from_csv(filename):\n",
    "    data_csv=np.genfromtxt(filename,delimiter=',')\n",
    "    zz=data_csv[0]+1j*data_csv[1]\n",
    "    return zz\n"
   ]
  },
  {
   "cell_type": "code",
   "execution_count": 525,
   "metadata": {},
   "outputs": [],
   "source": [
    "z_lin_maple_100=make_z_from_csv(\"z_lin_data.csv\")\n",
    "z_lin_pert_maple_100=make_z_from_csv(\"z_lin_pert_data.csv\")\n",
    "z_lin_pert_21_maple_100=make_z_from_csv(\"z_lin_pert_21_data.csv\")\n",
    "z_lin_pert_22_maple_100=make_z_from_csv(\"z_lin_pert_22_data.csv\")"
   ]
  },
  {
   "cell_type": "code",
   "execution_count": 526,
   "metadata": {},
   "outputs": [],
   "source": [
    "z_lin_maple_100_100=make_z_from_csv(\"z_lin_data_R1R2_100.csv\")\n",
    "z_lin_pert_maple_100_100=make_z_from_csv(\"z_lin_pert_data_R1R2_100.csv\")\n",
    "z_lin_pert_21_maple_100_100=make_z_from_csv(\"z_lin_pert_21_data_R1R2_100.csv\")\n",
    "z_lin_pert_22_maple_100_100=make_z_from_csv(\"z_lin_pert_22_data_R1R2_100.csv\")"
   ]
  },
  {
   "cell_type": "code",
   "execution_count": 527,
   "metadata": {},
   "outputs": [],
   "source": [
    "z_lin_maple_100_1_point_1=make_z_from_csv(\"z_lin_data_R1R2_1point1.csv\")\n",
    "z_lin_pert_maple_100_1_point_1=make_z_from_csv(\"z_lin_pert_data_R1R2_1point1.csv\")\n",
    "z_lin_pert_21_maple_100_1_point_1=make_z_from_csv(\"z_lin_pert_21_data_R1R2_1point1.csv\")\n",
    "z_lin_pert_22_maple_100_1_point_1=make_z_from_csv(\"z_lin_pert_22_data_R1R2_1point1.csv\")"
   ]
  },
  {
   "cell_type": "code",
   "execution_count": 529,
   "metadata": {},
   "outputs": [
    {
     "data": {
      "text/plain": [
       "(0.0, 300.0)"
      ]
     },
     "execution_count": 529,
     "metadata": {},
     "output_type": "execute_result"
    },
    {
     "data": {
      "application/vnd.jupyter.widget-view+json": {
       "model_id": "175fb57471094db887204db9dd9596a4",
       "version_major": 2,
       "version_minor": 0
      },
      "image/png": "[encoded data removed]",
      "text/html": [
       "\n",
       "            <div style=\"display: inline-block;\">\n",
       "                <div class=\"jupyter-widgets widget-label\" style=\"text-align: center;\">\n",
       "                    Figure\n",
       "                </div>\n",
       "                <img src='data:image/png;base64,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' width=640.0/>\n",
       "            </div>\n",
       "        "
      ],
      "text/plain": [
       "Canvas(toolbar=Toolbar(toolitems=[('Home', 'Reset original view', 'home', 'home'), ('Back', 'Back to previous …"
      ]
     },
     "metadata": {},
     "output_type": "display_data"
    }
   ],
   "source": [
    "ax= plt.figure().add_subplot()\n",
    "# # factor=194.56/1.5\n",
    "factor=1\n",
    "ax.plot(np.real(tlmlin_pred/factor),-np.imag(tlmlin_pred/factor),\"r\",label=\"lin\")\n",
    "ax.plot(np.real(tlmlin_zert_pred/factor),-np.imag(tlmlin_zert_pred/factor),\"b\",label=\"lin_pert\")\n",
    "#ax.plot(np.real(tlmlin_semi_pred)/factor,-np.imag(tlmlin_semi_pred)/factor,\"g\",label=\"lin_semi\")\n",
    "#ax.plot(np.real(tlmlin_mix_pred)/factor,-np.imag(tlmlin_mix_pred)/factor,\"y\",label=\"lin_mix\")\n",
    "ax.plot(np.real(tlmlin_zert_21_pred)/factor,-np.imag(tlmlin_zert_21_pred)/factor,\"pink\",label=\"lin_pert_21\")\n",
    "ax.plot(np.real(tlmlin_zert_22_pred)/factor,-np.imag(tlmlin_zert_22_pred)/factor,\"g\",label=\"lin_pert_22\")\n",
    "ax.legend()\n",
    "ax.set_xlabel(\"Re(Z)\")\n",
    "ax.set_ylabel(\"-Im(Z)\")\n",
    "ax.set_aspect(\"equal\")\n",
    "ax.set_xlim(0,200)\n",
    "ax.set_ylim(0,300)\n",
    "\n",
    "\n",
    "##From MAPLE\n",
    "# ax4= plt.figure().add_subplot()\n",
    "# ax4.set_title(\"maple_100_100\")\n",
    "# ax4.plot(np.real(z_lin_maple_100),-np.imag(z_lin_maple_100),\"r\",label=\"lin\")\n",
    "# ax4.plot(np.real(z_lin_pert_maple_100),-np.imag(z_lin_pert_maple_100),\"b\",label=\"lin_pert\")\n",
    "# ax4.plot(np.real(z_lin_pert_21_maple_100),-np.imag(z_lin_pert_21_maple_100),\"pink\",label=\"lin_pert_21\")\n",
    "# ax4.plot(np.real(z_lin_pert_22_maple_100),-np.imag(z_lin_pert_22_maple_100),\"g\",label=\"lin_pert_22\")\n",
    "# ax4.legend()\n",
    "# ax4.set_xlabel(\"Re(Z)\")\n",
    "# ax4.set_ylabel(\"-Im(Z)\")\n",
    "# ax4.set_aspect(\"equal\")\n",
    "# ax4.set_xlim(-4,200)\n",
    "# ax4.set_ylim(-1,600)\n",
    "\n",
    "# ax6= plt.figure().add_subplot()\n",
    "# ax6.set_title(\"maple_100_100_rerun\")\n",
    "# ax6.plot(np.real(z_lin_maple_100_100),-np.imag(z_lin_maple_100_100),\"r\",label=\"lin\")\n",
    "# ax6.plot(np.real(z_lin_pert_maple_100_100),-np.imag(z_lin_pert_maple_100_100),\"b\",label=\"lin_pert\")\n",
    "# ax6.plot(np.real(z_lin_pert_21_maple_100_100),-np.imag(z_lin_pert_21_maple_100_100),\"pink\",label=\"lin_pert_21\")\n",
    "# #ax6.plot(np.real(z_lin_pert_22_maple_100_100),-np.imag(z_lin_pert_22_maple_100_100),\"g\",label=\"lin_pert_22\")\n",
    "# ax6.legend()\n",
    "# ax6.set_xlabel(\"Re(Z)\")\n",
    "# ax6.set_ylabel(\"-Im(Z)\")\n",
    "# ax6.set_aspect(\"equal\")\n",
    "# ax6.set_xlim(-4,200)\n",
    "# ax6.set_ylim(-1,600)\n",
    "\n",
    "# ax5= plt.figure().add_subplot()\n",
    "# ax5.plot(np.real(z_lin_maple_100_1_point_1),-np.imag(z_lin_maple_100_1_point_1),\"r\",label=\"lin\")\n",
    "# ax5.plot(np.real(z_lin_pert_maple_100_1_point_1),-np.imag(z_lin_pert_maple_100_1_point_1),\"b\",label=\"lin_pert\")\n",
    "# ax5.plot(np.real(z_lin_pert_21_maple_100_1_point_1),-np.imag(z_lin_pert_21_maple_100_1_point_1),\"pink\",label=\"lin_pert_21\")\n",
    "# ax5.plot(np.real(z_lin_pert_22_maple_100_1_point_1),-np.imag(z_lin_pert_22_maple_100_1_point_1),\"g\",label=\"lin_pert_22\")\n",
    "# ax5.legend()\n",
    "# ax5.set_xlabel(\"Re(Z)\")\n",
    "# ax5.set_ylabel(\"-Im(Z)\")\n",
    "# ax5.set_aspect(\"equal\")\n",
    "# ax5.set_xlim(0,1)\n",
    "# ax5.set_ylim(0,2)\n"
   ]
  }
 ],
 "metadata": {
  "kernelspec": {
   "display_name": "Python 3",
   "language": "python",
   "name": "python3"
  },
  "language_info": {
   "codemirror_mode": {
    "name": "ipython",
    "version": 3
   },
   "file_extension": ".py",
   "mimetype": "text/x-python",
   "name": "python",
   "nbconvert_exporter": "python",
   "pygments_lexer": "ipython3",
   "version": "3.10.11"
  },
  "orig_nbformat": 4
 },
 "nbformat": 4,
 "nbformat_minor": 2
}
