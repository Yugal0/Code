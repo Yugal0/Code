{
 "cells": [
  {
   "cell_type": "code",
   "execution_count": 6,
   "metadata": {},
   "outputs": [],
   "source": [
    "from impedance.models.circuits import CustomCircuit\n",
    "from impedance.models.circuits.elements import element\n",
    "import numpy as np"
   ]
  },
  {
   "cell_type": "code",
   "execution_count": 7,
   "metadata": {},
   "outputs": [],
   "source": [
    "@element(num_params=2, units=[\"Ohm\", \"F\"],overwrite=True)\n",
    "def TLMuniNew(p, f):\n",
    "   \n",
    "    omega = 2 * np.pi * np.array(f)\n",
    "    R1, Q = p[0], p[1]\n",
    "    Z= 2*np.sqrt(R1/(omega*1j*Q))*(1/(np.tanh(np.sqrt(1j*omega*R1*Q))))\n",
    "    return Z"
   ]
  },
  {
   "cell_type": "code",
   "execution_count": 9,
   "metadata": {},
   "outputs": [],
   "source": [
    "Rref=194.56\n",
    "t1=3.55\n",
    "R1=Rref*t1\n",
    "Q=6.61e-4\n",
    "tlmuni=CustomCircuit(initial_guess=[194.56*3.55,6.61e-4],circuit='TLMuniNew_0')\n",
    "tlmuni2=CustomCircuit(initial_guess=[100*1.5,1e-4],circuit='TLMuniNew_0')"
   ]
  },
  {
   "cell_type": "code",
   "execution_count": null,
   "metadata": {},
   "outputs": [
    {
     "name": "stderr",
     "output_type": "stream",
     "text": [
      "C:\\Users\\admin\\AppData\\Local\\Packages\\PythonSoftwareFoundation.Python.3.10_qbz5n2kfra8p0\\LocalCache\\local-packages\\Python310\\site-packages\\impedance\\models\\circuits\\circuits.py:145: UserWarning: Simulating circuit based on initial parameters\n",
      "  warnings.warn(\"Simulating circuit based on initial parameters\")\n"
     ]
    }
   ],
   "source": [
    "f_pred = np.logspace(3,-3,num=100)\n",
    "tlmuni_pred = tlmuni.predict(f_pred)"
   ]
  },
  {
   "cell_type": "code",
   "execution_count": null,
   "metadata": {},
   "outputs": [
    {
     "name": "stdout",
     "output_type": "stream",
     "text": [
      "\n",
      "Circuit string: TLMuniNew_0\n",
      "Fit: True\n",
      "\n",
      "Initial guesses:\n",
      "  TLMuniNew_0_0 = 1.50e+02 [Ohm]\n",
      "  TLMuniNew_0_1 = 1.00e-04 [F]\n",
      "\n",
      "Fit parameters:\n",
      "  TLMuniNew_0_0 = 6.91e+02  (+/- 1.52e-09) [Ohm]\n",
      "  TLMuniNew_0_1 = 6.61e-04  (+/- 7.57e-16) [F]\n",
      "\n"
     ]
    }
   ],
   "source": [
    "fitted_uni_on_uni=tlmuni2.fit(f_pred,tlmuni_pred,weight_by_modulus=True)\n",
    "print(fitted_uni_on_uni)"
   ]
  }
 ],
 "metadata": {
  "kernelspec": {
   "display_name": "Python 3",
   "language": "python",
   "name": "python3"
  },
  "language_info": {
   "codemirror_mode": {
    "name": "ipython",
    "version": 3
   },
   "file_extension": ".py",
   "mimetype": "text/x-python",
   "name": "python",
   "nbconvert_exporter": "python",
   "pygments_lexer": "ipython3",
   "version": "3.10.11"
  },
  "orig_nbformat": 4
 },
 "nbformat": 4,
 "nbformat_minor": 2
}
