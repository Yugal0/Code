{
 "cells": [
  {
   "cell_type": "code",
   "execution_count": 1,
   "metadata": {},
   "outputs": [],
   "source": [
    "from impedance.models.circuits import CustomCircuit\n",
    "from impedance.models.circuits.elements import element\n",
    "import numpy as np\n",
    "import scipy"
   ]
  },
  {
   "cell_type": "code",
   "execution_count": 2,
   "metadata": {},
   "outputs": [],
   "source": [
    "@element(num_params=3, units=[\"Ohm\", \"Ohm\", \"F\"],overwrite=True)\n",
    "def TLMilinNew(p,f):\n",
    "    omega = 2 * np.pi * np.array(f)\n",
    "    R1, R2, Q = p[0], p[1], p[2]\n",
    "    t12=R1/R2\n",
    "    Rion1=R1\n",
    "    Rion2=R2\n",
    "    wclin1=1/(Rion1*Q)\n",
    "    wclin2=1/(Rion2*Q)\n",
    "    S1=np.sqrt(1j*omega/wclin1)\n",
    "    S2=np.sqrt(1j*omega/wclin2)\n",
    "    \n",
    "    Z = -(2*1j*R1/S1)*(((scipy.special.yv(1,-2*1j*t12*S2/(t12-1)))*(scipy.special.jv(0,-2*1j*S1/(t12-1))))-((scipy.special.jv(1,-2*1j*t12*S2/(t12-1)))*(scipy.special.yv(0,-2*1j*S1/(t12-1)))))/(((scipy.special.jv(1,-2*1j*t12*S2/(t12-1)))*(scipy.special.yv(1,-2*1j*S1/(t12-1))))-((scipy.special.yv(1,-2*1j*t12*S2/(t12-1)))*(scipy.special.jv(1,-2*1j*S1/(t12-1)))))\n",
    "    \n",
    "    return Z\n",
    "\n"
   ]
  },
  {
   "cell_type": "code",
   "execution_count": 3,
   "metadata": {},
   "outputs": [],
   "source": [
    "Rref=194.56\n",
    "t1=6.4\n",
    "R1=Rref*t1\n",
    "t2=3.13\n",
    "R2=Rref*t2\n",
    "Q=6.61e-4\n",
    "tlmilin=CustomCircuit(initial_guess=[1245.184,608.9728,6.61e-4],circuit='TLMilinNew_0')\n",
    "tlmilin_guess=CustomCircuit(initial_guess=[1245,608,6.61e-4],circuit='TLMilinNew_0')"
   ]
  },
  {
   "cell_type": "code",
   "execution_count": 4,
   "metadata": {},
   "outputs": [
    {
     "name": "stdout",
     "output_type": "stream",
     "text": [
      "[          nan           +nanj    0.        -0.00000000e+00j\n",
      "           nan           +nanj           nan           +nanj\n",
      "           inf           -infj -104.13039263-3.47101309e+01j\n",
      "           nan           +nanj   -0.        +0.00000000e+00j\n",
      "          -inf           -infj  -15.29491676+1.52949168e+01j\n",
      "           nan           +nanj  -18.61987504+3.10331251e+01j\n",
      "          -inf           -infj          -inf           +infj\n",
      "           nan           +nanj          -inf           -infj\n",
      "           inf           -infj    0.        +1.60369808e+02j\n",
      "  -85.97964451+8.59796445e+01j           nan           +nanj\n",
      "           inf           -infj           nan           +nanj\n",
      "  -50.70985954+6.46987863e+01j   -0.        +0.00000000e+00j\n",
      "  241.25799618-1.60838664e+02j  138.57989669-1.37549563e+02j\n",
      "  149.66390702-1.47067480e+02j  160.91252548-1.55666785e+02j\n",
      "  172.59074389-1.66651652e+02j  185.05049791-1.78240904e+02j\n",
      "  198.3882904 -1.90589095e+02j  212.6641445 -2.03748581e+02j\n",
      "  227.93525926-2.17795307e+02j  244.2826184 -2.32820888e+02j\n",
      "  261.83449036-2.48924699e+02j  280.78011416-2.66179475e+02j\n",
      "  301.35973285-2.84583324e+02j  323.82056629-3.04014002e+02j\n",
      "  348.34016554-3.24207667e+02j  374.93199504-3.44782299e+02j\n",
      "  403.36034549-3.65316269e+02j  433.09754889-3.85475055e+02j\n",
      "  463.35017603-4.05157826e+02j  493.15955085-4.24620361e+02j\n",
      "  521.55215526-4.44533313e+02j  547.69337803-4.65958376e+02j\n",
      "  570.9979113 -4.90257997e+02j  591.17179189-5.18977632e+02j\n",
      "  608.18995139-5.53741695e+02j  622.23283355-5.96189234e+02j\n",
      "  633.60981566-6.47955526e+02j  642.69004092-7.10691750e+02j\n",
      "  649.85067887-7.86109638e+02j  655.44412185-8.76039255e+02j\n",
      "  659.78096012-9.82492003e+02j  663.12410097-1.10772501e+03j\n",
      "  665.68974279-1.25430598e+03j  667.65195775-1.42517949e+03j\n",
      "  669.14873052-1.62373640e+03j  670.28817709-1.85388864e+03j\n",
      "  671.15427796-2.12015154e+03j  671.81184248-2.42773615e+03j\n",
      "  672.31064087-2.78265373e+03j  672.68875328-3.19183492e+03j\n",
      "  672.97523463-3.66326625e+03j  673.19220715-4.20614680e+03j\n",
      "  673.35648786-4.83106819e+03j  673.48084554-5.55022158e+03j\n",
      "  673.57496644-6.37763575e+03j  673.64619344-7.32945085e+03j\n",
      "  673.70009008-8.42423340e+03j  673.74087008-9.68333851e+03j\n",
      "  673.77172391-1.11313265e+04j  673.79506671-1.27964418e+04j\n",
      "  673.8127264 -1.47111644e+04j  673.82608629-1.69128428e+04j\n",
      "  673.83619312-1.94444230e+04j  673.84383889-2.23552861e+04j\n",
      "  673.84962282-2.57022112e+04j  673.85399826-2.95504837e+04j\n",
      "  673.85730818-3.39751678e+04j  673.85981204-3.90625715e+04j\n",
      "  673.86170615-4.49119296e+04j  673.86313898-5.16373397e+04j\n",
      "  673.86422287-5.93699877e+04j  673.86504279-6.82607065e+04j\n",
      "  673.86566304-7.84829185e+04j  673.86613223-9.02360182e+04j\n",
      "  673.86648716-1.03749261e+05j  673.86675566-1.19286238e+05j\n",
      "  673.86695876-1.37150011e+05j  673.8671124 -1.57689032e+05j\n",
      "  673.86722862-1.81303935e+05j  673.86731654-2.08455352e+05j\n",
      "  673.86738305-2.39672899e+05j  673.86743336-2.75565505e+05j\n",
      "  673.86747142-3.16833291e+05j  673.86750021-3.64281227e+05j\n",
      "  673.86752199-4.18834832e+05j  673.86753846-4.81558228e+05j]\n"
     ]
    },
    {
     "name": "stderr",
     "output_type": "stream",
     "text": [
      "C:\\Users\\admin\\AppData\\Local\\Packages\\PythonSoftwareFoundation.Python.3.10_qbz5n2kfra8p0\\LocalCache\\local-packages\\Python310\\site-packages\\impedance\\models\\circuits\\circuits.py:145: UserWarning: Simulating circuit based on initial parameters\n",
      "  warnings.warn(\"Simulating circuit based on initial parameters\")\n",
      "C:\\Users\\admin\\AppData\\Local\\Temp\\ipykernel_34312\\2097421082.py:13: RuntimeWarning: divide by zero encountered in divide\n",
      "  Z = -(2*1j*R1/S1)*(((scipy.special.yv(1,-2*1j*t12*S2/(t12-1)))*(scipy.special.jv(0,-2*1j*S1/(t12-1))))-((scipy.special.jv(1,-2*1j*t12*S2/(t12-1)))*(scipy.special.yv(0,-2*1j*S1/(t12-1)))))/(((scipy.special.jv(1,-2*1j*t12*S2/(t12-1)))*(scipy.special.yv(1,-2*1j*S1/(t12-1))))-((scipy.special.yv(1,-2*1j*t12*S2/(t12-1)))*(scipy.special.jv(1,-2*1j*S1/(t12-1)))))\n",
      "C:\\Users\\admin\\AppData\\Local\\Temp\\ipykernel_34312\\2097421082.py:13: RuntimeWarning: invalid value encountered in divide\n",
      "  Z = -(2*1j*R1/S1)*(((scipy.special.yv(1,-2*1j*t12*S2/(t12-1)))*(scipy.special.jv(0,-2*1j*S1/(t12-1))))-((scipy.special.jv(1,-2*1j*t12*S2/(t12-1)))*(scipy.special.yv(0,-2*1j*S1/(t12-1)))))/(((scipy.special.jv(1,-2*1j*t12*S2/(t12-1)))*(scipy.special.yv(1,-2*1j*S1/(t12-1))))-((scipy.special.yv(1,-2*1j*t12*S2/(t12-1)))*(scipy.special.jv(1,-2*1j*S1/(t12-1)))))\n"
     ]
    }
   ],
   "source": [
    "f_pred = np.logspace(3,-3,num=100)\n",
    "tlmuni_pred = tlmilin.predict(f_pred)\n",
    "print(tlmuni_pred)"
   ]
  },
  {
   "cell_type": "code",
   "execution_count": 5,
   "metadata": {},
   "outputs": [
    {
     "ename": "ValueError",
     "evalue": "array must not contain infs or NaNs",
     "output_type": "error",
     "traceback": [
      "\u001b[1;31m---------------------------------------------------------------------------\u001b[0m",
      "\u001b[1;31mValueError\u001b[0m                                Traceback (most recent call last)",
      "Cell \u001b[1;32mIn[5], line 1\u001b[0m\n\u001b[1;32m----> 1\u001b[0m fitted_ilin_on_ilin\u001b[39m=\u001b[39mtlmilin_guess\u001b[39m.\u001b[39;49mfit(f_pred,tlmuni_pred,weight_by_modulus\u001b[39m=\u001b[39;49m\u001b[39mTrue\u001b[39;49;00m)\n\u001b[0;32m      2\u001b[0m \u001b[39mprint\u001b[39m(fitted_ilin_on_ilin)\n",
      "File \u001b[1;32m~\\AppData\\Local\\Packages\\PythonSoftwareFoundation.Python.3.10_qbz5n2kfra8p0\\LocalCache\\local-packages\\Python310\\site-packages\\impedance\\models\\circuits\\circuits.py:100\u001b[0m, in \u001b[0;36mBaseCircuit.fit\u001b[1;34m(self, frequencies, impedance, bounds, weight_by_modulus, **kwargs)\u001b[0m\n\u001b[0;32m     97\u001b[0m     \u001b[39mraise\u001b[39;00m \u001b[39mTypeError\u001b[39;00m(\u001b[39m'\u001b[39m\u001b[39mlength of frequencies and impedance do not match\u001b[39m\u001b[39m'\u001b[39m)\n\u001b[0;32m     99\u001b[0m \u001b[39mif\u001b[39;00m \u001b[39mself\u001b[39m\u001b[39m.\u001b[39minitial_guess \u001b[39m!=\u001b[39m []:\n\u001b[1;32m--> 100\u001b[0m     parameters, conf \u001b[39m=\u001b[39m circuit_fit(frequencies, impedance,\n\u001b[0;32m    101\u001b[0m                                    \u001b[39mself\u001b[39m\u001b[39m.\u001b[39mcircuit, \u001b[39mself\u001b[39m\u001b[39m.\u001b[39minitial_guess,\n\u001b[0;32m    102\u001b[0m                                    constants\u001b[39m=\u001b[39m\u001b[39mself\u001b[39m\u001b[39m.\u001b[39mconstants,\n\u001b[0;32m    103\u001b[0m                                    bounds\u001b[39m=\u001b[39mbounds,\n\u001b[0;32m    104\u001b[0m                                    weight_by_modulus\u001b[39m=\u001b[39mweight_by_modulus,\n\u001b[0;32m    105\u001b[0m                                    \u001b[39m*\u001b[39m\u001b[39m*\u001b[39mkwargs)\n\u001b[0;32m    106\u001b[0m     \u001b[39mself\u001b[39m\u001b[39m.\u001b[39mparameters_ \u001b[39m=\u001b[39m parameters\n\u001b[0;32m    107\u001b[0m     \u001b[39mif\u001b[39;00m conf \u001b[39mis\u001b[39;00m \u001b[39mnot\u001b[39;00m \u001b[39mNone\u001b[39;00m:\n",
      "File \u001b[1;32m~\\AppData\\Local\\Packages\\PythonSoftwareFoundation.Python.3.10_qbz5n2kfra8p0\\LocalCache\\local-packages\\Python310\\site-packages\\impedance\\models\\circuits\\fitting.py:152\u001b[0m, in \u001b[0;36mcircuit_fit\u001b[1;34m(frequencies, impedances, circuit, initial_guess, constants, bounds, weight_by_modulus, global_opt, **kwargs)\u001b[0m\n\u001b[0;32m    149\u001b[0m     abs_Z \u001b[39m=\u001b[39m np\u001b[39m.\u001b[39mabs(Z)\n\u001b[0;32m    150\u001b[0m     kwargs[\u001b[39m'\u001b[39m\u001b[39msigma\u001b[39m\u001b[39m'\u001b[39m] \u001b[39m=\u001b[39m np\u001b[39m.\u001b[39mhstack([abs_Z, abs_Z])\n\u001b[1;32m--> 152\u001b[0m popt, pcov \u001b[39m=\u001b[39m curve_fit(wrapCircuit(circuit, constants), f,\n\u001b[0;32m    153\u001b[0m                        np\u001b[39m.\u001b[39mhstack([Z\u001b[39m.\u001b[39mreal, Z\u001b[39m.\u001b[39mimag]),\n\u001b[0;32m    154\u001b[0m                        p0\u001b[39m=\u001b[39minitial_guess, bounds\u001b[39m=\u001b[39mbounds, \u001b[39m*\u001b[39m\u001b[39m*\u001b[39mkwargs)\n\u001b[0;32m    156\u001b[0m \u001b[39m# Calculate one standard deviation error estimates for fit parameters,\u001b[39;00m\n\u001b[0;32m    157\u001b[0m \u001b[39m# defined as the square root of the diagonal of the covariance matrix.\u001b[39;00m\n\u001b[0;32m    158\u001b[0m \u001b[39m# https://stackoverflow.com/a/52275674/5144795\u001b[39;00m\n\u001b[0;32m    159\u001b[0m perror \u001b[39m=\u001b[39m np\u001b[39m.\u001b[39msqrt(np\u001b[39m.\u001b[39mdiag(pcov))\n",
      "File \u001b[1;32m~\\AppData\\Local\\Packages\\PythonSoftwareFoundation.Python.3.10_qbz5n2kfra8p0\\LocalCache\\local-packages\\Python310\\site-packages\\scipy\\optimize\\_minpack_py.py:807\u001b[0m, in \u001b[0;36mcurve_fit\u001b[1;34m(f, xdata, ydata, p0, sigma, absolute_sigma, check_finite, bounds, method, jac, full_output, **kwargs)\u001b[0m\n\u001b[0;32m    803\u001b[0m \u001b[39m# optimization may produce garbage for float32 inputs, cast them to float64\u001b[39;00m\n\u001b[0;32m    804\u001b[0m \n\u001b[0;32m    805\u001b[0m \u001b[39m# NaNs cannot be handled\u001b[39;00m\n\u001b[0;32m    806\u001b[0m \u001b[39mif\u001b[39;00m check_finite:\n\u001b[1;32m--> 807\u001b[0m     ydata \u001b[39m=\u001b[39m np\u001b[39m.\u001b[39;49masarray_chkfinite(ydata, \u001b[39mfloat\u001b[39;49m)\n\u001b[0;32m    808\u001b[0m \u001b[39melse\u001b[39;00m:\n\u001b[0;32m    809\u001b[0m     ydata \u001b[39m=\u001b[39m np\u001b[39m.\u001b[39masarray(ydata, \u001b[39mfloat\u001b[39m)\n",
      "File \u001b[1;32m~\\AppData\\Local\\Packages\\PythonSoftwareFoundation.Python.3.10_qbz5n2kfra8p0\\LocalCache\\local-packages\\Python310\\site-packages\\numpy\\lib\\function_base.py:628\u001b[0m, in \u001b[0;36masarray_chkfinite\u001b[1;34m(a, dtype, order)\u001b[0m\n\u001b[0;32m    626\u001b[0m a \u001b[39m=\u001b[39m asarray(a, dtype\u001b[39m=\u001b[39mdtype, order\u001b[39m=\u001b[39morder)\n\u001b[0;32m    627\u001b[0m \u001b[39mif\u001b[39;00m a\u001b[39m.\u001b[39mdtype\u001b[39m.\u001b[39mchar \u001b[39min\u001b[39;00m typecodes[\u001b[39m'\u001b[39m\u001b[39mAllFloat\u001b[39m\u001b[39m'\u001b[39m] \u001b[39mand\u001b[39;00m \u001b[39mnot\u001b[39;00m np\u001b[39m.\u001b[39misfinite(a)\u001b[39m.\u001b[39mall():\n\u001b[1;32m--> 628\u001b[0m     \u001b[39mraise\u001b[39;00m \u001b[39mValueError\u001b[39;00m(\n\u001b[0;32m    629\u001b[0m         \u001b[39m\"\u001b[39m\u001b[39marray must not contain infs or NaNs\u001b[39m\u001b[39m\"\u001b[39m)\n\u001b[0;32m    630\u001b[0m \u001b[39mreturn\u001b[39;00m a\n",
      "\u001b[1;31mValueError\u001b[0m: array must not contain infs or NaNs"
     ]
    }
   ],
   "source": [
    "fitted_ilin_on_ilin=tlmilin_guess.fit(f_pred,tlmuni_pred,weight_by_modulus=True)\n",
    "print(fitted_ilin_on_ilin)"
   ]
  }
 ],
 "metadata": {
  "kernelspec": {
   "display_name": "Python 3",
   "language": "python",
   "name": "python3"
  },
  "language_info": {
   "codemirror_mode": {
    "name": "ipython",
    "version": 3
   },
   "file_extension": ".py",
   "mimetype": "text/x-python",
   "name": "python",
   "nbconvert_exporter": "python",
   "pygments_lexer": "ipython3",
   "version": "3.10.11"
  },
  "orig_nbformat": 4
 },
 "nbformat": 4,
 "nbformat_minor": 2
}
