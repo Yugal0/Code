{
 "cells": [
  {
   "cell_type": "code",
   "execution_count": 65,
   "metadata": {},
   "outputs": [],
   "source": [
    "%matplotlib ipympl\n",
    "from impedance.models.circuits import CustomCircuit\n",
    "from impedance.models.circuits.elements import element\n",
    "from impedance.visualization import plot_nyquist, plot_bode\n",
    "import numpy as np\n",
    "import matplotlib.pyplot as plt\n",
    "import os\n",
    "import shutil"
   ]
  },
  {
   "cell_type": "code",
   "execution_count": 66,
   "metadata": {},
   "outputs": [],
   "source": [
    "@element(num_params=4, units=[\"Ohm\", \"Ohm F\", \"Ohm F\", \"\"],overwrite=True)\n",
    "def TLMtwoNewRQ(p, f):\n",
    "   \n",
    "    omega = 2 * np.pi * np.array(f)\n",
    "    R1, R1Q, R2Q, delta1 = p[0], p[1], p[2], p[3]\n",
    "    delta2=1-delta1\n",
    "    R2=R2Q*R1/R1Q\n",
    "    k12=R2/R1\n",
    "    CTotal1=R1Q/R1\n",
    "    CTotal2=R1Q/R1\n",
    "    wc1=1/(R1*CTotal1)\n",
    "    wc2=1/(R2*CTotal2)\n",
    "    S1=np.sqrt(omega*1j/wc1)\n",
    "    S2=np.sqrt(omega*1j/wc2)\n",
    "    C1=1/np.tanh(delta1*S1)\n",
    "    C2=1/np.tanh(delta2*S2)\n",
    "\n",
    "    Z=2*(R1)*(C1*C2*S1*k12+S2)/(S1*(C2*S1*k12+C1*S2))\n",
    "\n",
    "    return Z"
   ]
  },
  {
   "cell_type": "code",
   "execution_count": 67,
   "metadata": {},
   "outputs": [],
   "source": [
    "@element(num_params=4, units=[\"Ohm\", \"Ohm\", \"F\", \"\"],overwrite=True)\n",
    "def TLMtwoNew(p, f):\n",
    "   \n",
    "    omega = 2 * np.pi * np.array(f)\n",
    "    R1, R2, Q, delta1 = p[0], p[1], p[2], p[3]\n",
    "    delta2=1-delta1\n",
    "    k12=R2/R1\n",
    "    CTotal1=Q\n",
    "    CTotal2=Q\n",
    "    wc1=1/(R1*CTotal1)\n",
    "    wc2=1/(R2*CTotal2)\n",
    "    S1=np.sqrt(omega*1j/wc1)\n",
    "    S2=np.sqrt(omega*1j/wc2)\n",
    "    C1=1/np.tanh(delta1*S1)\n",
    "    C2=1/np.tanh(delta2*S2)\n",
    "\n",
    "    Z=2*(R1)*(C1*C2*S1*k12+S2)/(S1*(C2*S1*k12+C1*S2))\n",
    "\n",
    "    return Z"
   ]
  },
  {
   "cell_type": "code",
   "execution_count": 68,
   "metadata": {},
   "outputs": [],
   "source": [
    "circuit_in=CustomCircuit(initial_guess=[1000,100,1e-6,0.9],circuit=\"TLMtwoNew\")\n",
    "freq=np.logspace(-2,5)\n",
    "z_in=circuit_in.predict(freq)\n",
    "\n",
    "#fig, ax=plt.subplots()\n",
    "#plot_nyquist(z_in,ax=ax)\n",
    "#ax.set_ylim(0,100)\n",
    "#ax.set_xlim(0,100)"
   ]
  },
  {
   "cell_type": "code",
   "execution_count": 69,
   "metadata": {},
   "outputs": [
    {
     "name": "stdout",
     "output_type": "stream",
     "text": [
      "\n",
      "Circuit string: TLMtwoNew\n",
      "Fit: True\n",
      "\n",
      "Initial guesses:\n",
      "  TLMtwoNew_0 = 1.00e+03 [Ohm]\n",
      "  TLMtwoNew_1 = 1.00e+02 [Ohm]\n",
      "  TLMtwoNew_2 = 1.00e-06 [F]\n",
      "  TLMtwoNew_3 = 9.00e-01 []\n",
      "\n",
      "Fit parameters:\n",
      "  TLMtwoNew_0 = 1.00e+03  (+/- 0.00e+00) [Ohm]\n",
      "  TLMtwoNew_1 = 1.00e+02  (+/- 0.00e+00) [Ohm]\n",
      "  TLMtwoNew_2 = 1.00e-06  (+/- 0.00e+00) [F]\n",
      "  TLMtwoNew_3 = 9.00e-01  (+/- 0.00e+00) []\n",
      "\n"
     ]
    }
   ],
   "source": [
    "circuit_guessing=CustomCircuit(initial_guess=[1000,100,1e-6,0.9],circuit=\"TLMtwoNew\")\n",
    "circuit_fit=circuit_guessing.fit(frequencies=freq,impedance=z_in,bounds=(0,[np.inf,np.inf,np.inf,1]))\n",
    "print(circuit_fit)"
   ]
  },
  {
   "cell_type": "code",
   "execution_count": 70,
   "metadata": {},
   "outputs": [
    {
     "name": "stdout",
     "output_type": "stream",
     "text": [
      "\n",
      "Circuit string: TLMtwoNewRQ\n",
      "Fit: True\n",
      "\n",
      "Initial guesses:\n",
      "  TLMtwoNewRQ_0 = 5.00e+01 [Ohm]\n",
      "  TLMtwoNewRQ_1 = 1.00e-04 [Ohm F]\n",
      "  TLMtwoNewRQ_2 = 1.00e-03 [Ohm F]\n",
      "  TLMtwoNewRQ_3 = 8.00e-01 []\n",
      "\n",
      "Fit parameters:\n",
      "  TLMtwoNewRQ_0 = 1.00e+02  (+/- 1.45e-13) [Ohm]\n",
      "  TLMtwoNewRQ_1 = 1.00e-04  (+/- 2.59e-13) [Ohm F]\n",
      "  TLMtwoNewRQ_2 = 9.99e-04  (+/- 6.13e-08) [Ohm F]\n",
      "  TLMtwoNewRQ_3 = 1.57e-16  (+/- 1.93e-05) []\n",
      "\n"
     ]
    }
   ],
   "source": [
    "circuit_guessing=CustomCircuit(initial_guess=[50,1e-4,1e-3,0.8],circuit=\"TLMtwoNewRQ\")\n",
    "circuit_fit=circuit_guessing.fit(frequencies=freq,impedance=z_in,bounds=(0,[np.inf,np.inf,np.inf,1]))\n",
    "print(circuit_fit)"
   ]
  }
 ],
 "metadata": {
  "kernelspec": {
   "display_name": "Python 3",
   "language": "python",
   "name": "python3"
  },
  "language_info": {
   "codemirror_mode": {
    "name": "ipython",
    "version": 3
   },
   "file_extension": ".py",
   "mimetype": "text/x-python",
   "name": "python",
   "nbconvert_exporter": "python",
   "pygments_lexer": "ipython3",
   "version": "3.10.11"
  },
  "orig_nbformat": 4
 },
 "nbformat": 4,
 "nbformat_minor": 2
}
