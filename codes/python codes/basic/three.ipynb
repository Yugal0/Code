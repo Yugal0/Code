{
 "cells": [
  {
   "cell_type": "code",
   "execution_count": 7,
   "metadata": {},
   "outputs": [],
   "source": [
    "from impedance.models.circuits import CustomCircuit\n",
    "from impedance.models.circuits.elements import element\n",
    "import numpy as np"
   ]
  },
  {
   "cell_type": "code",
   "execution_count": 8,
   "metadata": {},
   "outputs": [],
   "source": [
    "@element(num_params=6, units=[\"Ohm\", \"Ohm\", \"Ohm\", \"F\",\"\",\"\"],overwrite=True)\n",
    "def TLMthreeNew(p, f):\n",
    "    omega = 2 * np.pi * np.array(f)\n",
    "    R1, R2, R3, Q, delta1, delta2 = p[0], p[1], p[2],p[3], p[4], p[5]\n",
    "    delta3=1-delta1-delta2\n",
    "    k12=R2/R1\n",
    "    k13=R3/R1\n",
    "    Rion1=R1\n",
    "    Rion2=R2\n",
    "    Rion3=R3\n",
    "    CTotal1=Q\n",
    "    CTotal2=Q\n",
    "    CTotal3=Q\n",
    "    wc1=1/(Rion1*CTotal1)\n",
    "    wc2=1/(Rion2*CTotal2)\n",
    "    wc3=1/(Rion3*CTotal3)\n",
    "    S1=np.sqrt(omega*1j/wc1)\n",
    "    S2=np.sqrt(omega*1j/wc2)\n",
    "    S3=np.sqrt(omega*1j/wc3)\n",
    "    C1=1/np.tanh(delta1*S1)\n",
    "    C2=1/np.tanh(delta2*S2)\n",
    "    C3=1/np.tanh(delta3*S3)\n",
    "\n",
    "    Z=2*(R1)*((S1*S3*C1*k12**2+S2*C2*(S1*C1*C3*k13+S3)*k12+S2**2*C3*k13)/(S1*(S3*S1*k12**2+S2*C2*(S3*C1+S1*C3*k13)*k12+S2**2*C1*C3*k13)))\n",
    "    \n",
    "    return Z"
   ]
  },
  {
   "cell_type": "code",
   "execution_count": 9,
   "metadata": {},
   "outputs": [],
   "source": [
    "Rref=194.56\n",
    "t1=5.22\n",
    "R1=Rref*t1\n",
    "t2=3.47\n",
    "R2=Rref*t2\n",
    "t3=2.15\n",
    "R3=Rref*t3\n",
    "Q=6.61e-4\n",
    "tlm3step=CustomCircuit(initial_guess=[1015.6,675.1,418.3,6.61e-4,0.12,0.17],circuit='TLMthreeNew_0')\n",
    "tlm3step2=CustomCircuit(initial_guess=[583.68,389.12,194.56,6,0.12,0.17],circuit='TLMthreeNew_0')"
   ]
  },
  {
   "cell_type": "code",
   "execution_count": 10,
   "metadata": {},
   "outputs": [],
   "source": [
    "f_pred = np.logspace(3,-3,num=100)\n",
    "tlmuni_pred = tlm3step.predict(f_pred)"
   ]
  },
  {
   "cell_type": "code",
   "execution_count": 11,
   "metadata": {},
   "outputs": [
    {
     "name": "stdout",
     "output_type": "stream",
     "text": [
      "\n",
      "Circuit string: TLMthreeNew_0\n",
      "Fit: True\n",
      "\n",
      "Initial guesses:\n",
      "  TLMthreeNew_0_0 = 5.8368e+02 [Ohm]\n",
      "  TLMthreeNew_0_1 = 3.8912e+02 [Ohm]\n",
      "  TLMthreeNew_0_2 = 1.9456e+02 [Ohm]\n",
      "  TLMthreeNew_0_3 = 6.0000e+00 [F]\n",
      "  TLMthreeNew_0_4 = 1.2000e-01 []\n",
      "  TLMthreeNew_0_5 = 1.7000e-01 []\n",
      "\n",
      "Fit parameters:\n",
      "  TLMthreeNew_0_0 = 1.0156e+03  (+/- 8.9240e-11) [Ohm]\n",
      "  TLMthreeNew_0_1 = 6.7510e+02  (+/- 1.2450e-09) [Ohm]\n",
      "  TLMthreeNew_0_2 = 4.1830e+02  (+/- 2.6357e-10) [Ohm]\n",
      "  TLMthreeNew_0_3 = 6.6100e-04  (+/- 1.8923e-20) [F]\n",
      "  TLMthreeNew_0_4 = 1.2000e-01  (+/- 2.3909e-13) []\n",
      "  TLMthreeNew_0_5 = 1.7000e-01  (+/- 6.2013e-13) []\n",
      "\n"
     ]
    },
    {
     "name": "stderr",
     "output_type": "stream",
     "text": [
      "C:\\Users\\admin\\AppData\\Local\\Temp\\ipykernel_69508\\119171478.py:20: RuntimeWarning: overflow encountered in tanh\n",
      "  C1=1/np.tanh(delta1*S1)\n",
      "C:\\Users\\admin\\AppData\\Local\\Temp\\ipykernel_69508\\119171478.py:21: RuntimeWarning: overflow encountered in tanh\n",
      "  C2=1/np.tanh(delta2*S2)\n",
      "C:\\Users\\admin\\AppData\\Local\\Temp\\ipykernel_69508\\119171478.py:22: RuntimeWarning: overflow encountered in tanh\n",
      "  C3=1/np.tanh(delta3*S3)\n"
     ]
    }
   ],
   "source": [
    "fitted_3step_on_3step=tlm3step2.fit(f_pred,tlmuni_pred,weight_by_modulus=False,bounds=(0,[np.inf,np.inf,np.inf,np.inf,1,1]))\n",
    "print(fitted_3step_on_3step)"
   ]
  }
 ],
 "metadata": {
  "kernelspec": {
   "display_name": "Python 3",
   "language": "python",
   "name": "python3"
  },
  "language_info": {
   "codemirror_mode": {
    "name": "ipython",
    "version": 3
   },
   "file_extension": ".py",
   "mimetype": "text/x-python",
   "name": "python",
   "nbconvert_exporter": "python",
   "pygments_lexer": "ipython3",
   "version": "3.10.11"
  },
  "orig_nbformat": 4
 },
 "nbformat": 4,
 "nbformat_minor": 2
}
